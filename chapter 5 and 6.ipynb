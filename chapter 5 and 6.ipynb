{
 "cells": [
  {
   "attachments": {},
   "cell_type": "markdown",
   "metadata": {},
   "source": [
    "#CHAPTER 5::Functions\n"
   ]
  },
  {
   "attachments": {},
   "cell_type": "markdown",
   "metadata": {},
   "source": [
    "all functions begin with a keyword def followed by the function name then arguements\n",
    "i.e def add(args):\n"
   ]
  },
  {
   "cell_type": "code",
   "execution_count": 11,
   "metadata": {},
   "outputs": [
    {
     "name": "stdout",
     "output_type": "stream",
     "text": [
      "Adding as Integers\n",
      "400 + 500 = 900\n",
      "Adding as Float\n",
      "400.0 + 500.0 = 900.0\n",
      "Adding a strings\n",
      "400.0 + 500.0 = 400.0500.0\n"
     ]
    }
   ],
   "source": [
    "def add():\n",
    "    result = x+y\n",
    "    print(f\"{x} + {y} = {result}\")\n",
    "\n",
    "\n",
    "x = int(input(\"Enter any value\"))\n",
    "y = int(input(\"Enter the second value\"))\n",
    "print(\"Adding as Integers\")\n",
    "add()\n",
    "print(\"Adding as Float\")\n",
    "x = float(x)\n",
    "y = float(y)\n",
    "add()\n",
    "print(\"Adding a strings\")\n",
    "x = str(x)\n",
    "y = str(y)\n",
    "add()"
   ]
  },
  {
   "cell_type": "code",
   "execution_count": 12,
   "metadata": {},
   "outputs": [
    {
     "name": "stdout",
     "output_type": "stream",
     "text": [
      "Your name is Angera silas\n"
     ]
    }
   ],
   "source": [
    "def Printname(full_name):\n",
    "    print(\"Your name is {}\".format(full_name))\n",
    "\n",
    "\n",
    "Printname(\"Angera silas\")"
   ]
  },
  {
   "cell_type": "code",
   "execution_count": 31,
   "metadata": {},
   "outputs": [
    {
     "name": "stdout",
     "output_type": "stream",
     "text": [
      "|Number\t|Squares|Cubes  |\n",
      "_________________________\n",
      "|1\t|1\t|1\t|\n",
      "_________________________\n",
      "|2\t|4\t|8\t|\n",
      "_________________________\n",
      "|3\t|9\t|27\t|\n",
      "_________________________\n",
      "|5\t|25\t|125\t|\n",
      "_________________________\n",
      "|6\t|36\t|216\t|\n",
      "_________________________\n",
      "|7\t|49\t|343\t|\n",
      "_________________________\n",
      "|8\t|64\t|512\t|\n",
      "_________________________\n",
      "|9\t|81\t|729\t|\n",
      "_________________________\n",
      "|10\t|100\t|1000\t|\n",
      "_________________________\n",
      "|24\t|576\t|13824\t|\n",
      "_________________________\n",
      "|56\t|3136\t|175616\t|\n",
      "_________________________\n",
      "|78\t|6084\t|474552\t|\n",
      "_________________________\n"
     ]
    }
   ],
   "source": [
    "numerals = [2, 3, 6, 8, 10, 24, 56, 78, 1, 3, 9, 5, 6, 7, 8]\n",
    "numbers = []\n",
    "\n",
    "\n",
    "def Squares(nums):\n",
    "    for num in nums:\n",
    "        if num not in numbers:\n",
    "            numbers.append(num)\n",
    "    for n in numbers:\n",
    "        print(f\"|{n}\\t|{n**2}\\t|{n**3}\\t|\")\n",
    "        print(\"_\"*25)\n",
    "\n",
    "\n",
    "print(\"|Number\\t|Squares|Cubes  |\")\n",
    "print(\"_\"*25)\n",
    "Squares(sorted(numerals))"
   ]
  },
  {
   "cell_type": "code",
   "execution_count": 32,
   "metadata": {},
   "outputs": [
    {
     "name": "stdout",
     "output_type": "stream",
     "text": [
      "Enter the radius of the circle\n",
      "Area of the circle is : [314.2]\n"
     ]
    }
   ],
   "source": [
    "def Area(r, pi=3.142):\n",
    "    area = pi * (r**2)\n",
    "    print(f\"Area of the circle is : [{area}]\")\n",
    "\n",
    "\n",
    "radius = float(input(print(\"Enter the radius of the circle\")))\n",
    "Area(radius)"
   ]
  },
  {
   "attachments": {},
   "cell_type": "markdown",
   "metadata": {},
   "source": [
    "#Making a parameter optional\n"
   ]
  },
  {
   "cell_type": "code",
   "execution_count": 34,
   "metadata": {},
   "outputs": [
    {
     "name": "stdout",
     "output_type": "stream",
     "text": [
      "John Dere\n",
      "Silas Mukagati Angera\n"
     ]
    }
   ],
   "source": [
    "def PrintName(first, last, middle=\"\"):\n",
    "    if middle:\n",
    "        print(f\"{first} {middle} {last}\")\n",
    "    else:\n",
    "        print(f\"{first} {last}\")\n",
    "\n",
    "\n",
    "PrintName(\"John\", \"Dere\")\n",
    "PrintName(\"Silas\", \"Angera\", \"Mukagati\")"
   ]
  },
  {
   "cell_type": "code",
   "execution_count": 43,
   "metadata": {},
   "outputs": [
    {
     "name": "stdout",
     "output_type": "stream",
     "text": [
      "<class 'tuple'>\n",
      "5\n",
      "True\n",
      "jess\n",
      "<class 'dict'>\n",
      "Angera silas\n",
      "2545\n"
     ]
    }
   ],
   "source": [
    "# *inserted before args is used to pass unlimitted number of variables to a function\n",
    "def DisplayItems(name, *args):\n",
    "    print(type(args))\n",
    "    for arg in args:\n",
    "        print(arg)\n",
    "\n",
    "\n",
    "DisplayItems(\"silas angera\", 5, True, \"jess\")\n",
    "\n",
    "\n",
    "def OuputData(**kwargs):\n",
    "    print(type(kwargs))\n",
    "    print(kwargs[\"name\"])\n",
    "    print(kwargs[\"num\"])\n",
    "\n",
    "\n",
    "OuputData(name=\"Angera silas\", num=2545, b=True)"
   ]
  },
  {
   "cell_type": "code",
   "execution_count": 12,
   "metadata": {},
   "outputs": [
    {
     "name": "stdout",
     "output_type": "stream",
     "text": [
      "Error: The value you entered is not an interger.Try again later\n"
     ]
    }
   ],
   "source": [
    "# the code is used to find factorial of a number\n",
    "def Factorial(x):\n",
    "    fact = 1\n",
    "    if x <= 1:\n",
    "        fact = 1\n",
    "    else:\n",
    "        for i in range(x, 0, -1):\n",
    "            fact = fact*(i)\n",
    "    print(fact)\n",
    "\n",
    "\n",
    "try:\n",
    "    num = int(input(\"Enter any number\"))\n",
    "    Factorial(num)\n",
    "except:\n",
    "    print(\"Error: The value you entered is not an interger.Try again later\")"
   ]
  },
  {
   "attachments": {},
   "cell_type": "markdown",
   "metadata": {},
   "source": [
    "#Creating a shopping cart\n"
   ]
  },
  {
   "cell_type": "code",
   "execution_count": 2,
   "metadata": {},
   "outputs": [
    {
     "name": "stdout",
     "output_type": "stream",
     "text": [
      "Here is your cart\n",
      "-Sugar\n",
      "-Bread\n",
      "-Soap\n"
     ]
    }
   ],
   "source": [
    "# import necessary functions\n",
    "from IPython.display import clear_output\n",
    "cart = []\n",
    "# functions to add items to cart\n",
    "\n",
    "\n",
    "def additem(item):\n",
    "    clear_output()  # Clearing the output screen\n",
    "    cart.append(item)  # adding an item to the cart\n",
    "    print(f\"{item} has been successfully added.\")\n",
    "# function to remove items from cart\n",
    "\n",
    "\n",
    "def removeitem(item):\n",
    "    clear_output()\n",
    "    try:\n",
    "        cart.remove(item)\n",
    "        print(f\"{item} has been successfully removed\")\n",
    "    except:\n",
    "        print(\"Sorry we could not remove the item\")\n",
    "# to show the cart\n",
    "\n",
    "\n",
    "def showcart():\n",
    "    clear_output()\n",
    "    if cart:\n",
    "        print(\"Here is your cart\")\n",
    "        for item in cart:\n",
    "            print(f\"-{item}\")\n",
    "    else:\n",
    "        print(\"Your cart is empty\")\n",
    "# clearing the cart\n",
    "\n",
    "\n",
    "def clearcart():\n",
    "    clear_output()\n",
    "    cart.clear()\n",
    "    print(\"Successfully cleared\\nyour cart is empty\")\n",
    "\n",
    "\n",
    "def main():\n",
    "    done = False\n",
    "    while not done:\n",
    "        operation = input(\"quit\\nadd\\nremove\\nshow\\nclear\").lower()\n",
    "        if operation == \"quit\":\n",
    "            print(\"Thank you for using our services\")\n",
    "            showcart()\n",
    "            done = True\n",
    "        elif operation == \"add\":\n",
    "            item = input(print(\"What would you like to add\")).title()\n",
    "            additem(item)\n",
    "        elif operation == \"remove\":\n",
    "            showcart()\n",
    "            item = input(print(\"What would you like to remove\")).title()\n",
    "            removeitem(item)\n",
    "        elif operation == \"show\":\n",
    "            showcart()\n",
    "        elif operation == \"clear\":\n",
    "            clearcart()\n",
    "        else:\n",
    "            print(\"Sorry the choice you entered is not found.please try again later\")\n",
    "\n",
    "\n",
    "main()"
   ]
  },
  {
   "attachments": {},
   "cell_type": "markdown",
   "metadata": {},
   "source": [
    "#CHAPTER 6::Dictionaries - collection of unordered data stored in key-values\n"
   ]
  },
  {
   "attachments": {},
   "cell_type": "markdown",
   "metadata": {},
   "source": [
    "#Declaring a dictionary\n",
    "\n",
    "dictionary_name = {\"key\" : \"Value\"} i.e\n",
    "\n",
    "person = {\"name\":\"silas angera\"}\n"
   ]
  },
  {
   "attachments": {},
   "cell_type": "markdown",
   "metadata": {},
   "source": [
    "#Accessing dictionary information\n"
   ]
  },
  {
   "cell_type": "code",
   "execution_count": 7,
   "metadata": {},
   "outputs": [
    {
     "name": "stdout",
     "output_type": "stream",
     "text": [
      "Silas Angera\n",
      "22\n",
      "BBIT\n"
     ]
    }
   ],
   "source": [
    "student = {\"name\": \"Silas Angera\", \"Age\": \"22\",\n",
    "           \"course\": \"BBIT\"\n",
    "           }\n",
    "# dictionary can be accessed using keys\n",
    "print(student[\"name\"])\n",
    "print(student[\"Age\"])\n",
    "\n",
    "# also we can use the get method\n",
    "print(student.get(\"course\"))"
   ]
  },
  {
   "attachments": {},
   "cell_type": "markdown",
   "metadata": {},
   "source": [
    "#Dictionary and lists\n"
   ]
  },
  {
   "cell_type": "code",
   "execution_count": 14,
   "metadata": {},
   "outputs": [
    {
     "name": "stdout",
     "output_type": "stream",
     "text": [
      "coffee\n",
      "football\n",
      "volleyball\n",
      "basketball\n",
      "hockey\n",
      "rugby\n"
     ]
    }
   ],
   "source": [
    "data = {\"bevarages\": [\"tea\", \"coffee\", \"cocoa\"],\n",
    "        \"sports\": [\"football\", \"volleyball\", \"basketball\", \"hockey\", \"rugby\"]\n",
    "        }\n",
    "# We first access the key i.e bevarages then the index i.e 1\n",
    "print(data[\"bevarages\"][1])\n",
    "for i in (data[\"sports\"]):\n",
    "    print(i)"
   ]
  },
  {
   "attachments": {},
   "cell_type": "markdown",
   "metadata": {},
   "source": [
    "#Lists with Dictionaries\n",
    "\n",
    "#The difference between lists and dictionaries is : Dictionaries uses keys while lists uses indexes\n"
   ]
  },
  {
   "cell_type": "code",
   "execution_count": 12,
   "metadata": {},
   "outputs": [
    {
     "name": "stdout",
     "output_type": "stream",
     "text": [
      "22\n"
     ]
    }
   ],
   "source": [
    "data = [\"silas\", {\"age\": \"22\"}]\n",
    "# We first access the index i.e 1 and then the key i.e age\n",
    "print(data[1][\"age\"])"
   ]
  },
  {
   "attachments": {},
   "cell_type": "markdown",
   "metadata": {},
   "source": [
    "#Dictonaries with Dictionaries\n"
   ]
  },
  {
   "attachments": {},
   "cell_type": "markdown",
   "metadata": {},
   "source": [
    "we have to access the first key then the second key example\n"
   ]
  },
  {
   "cell_type": "code",
   "execution_count": 13,
   "metadata": {},
   "outputs": [
    {
     "name": "stdout",
     "output_type": "stream",
     "text": [
      "Silas Angera\n",
      "99 A\n"
     ]
    }
   ],
   "source": [
    "data = {\"student\": \"Silas Angera\", \"results\": {\n",
    "    \"comp\": \"99 A\", \"maths\": \"99 A\", \"comms\": \"60 B\"}}\n",
    "print(data[\"student\"])\n",
    "print(data[\"results\"][\"maths\"])"
   ]
  },
  {
   "attachments": {},
   "cell_type": "markdown",
   "metadata": {},
   "source": [
    "#adding , changing and deleting values in a dictionary\n"
   ]
  },
  {
   "cell_type": "code",
   "execution_count": 17,
   "metadata": {},
   "outputs": [
    {
     "name": "stdout",
     "output_type": "stream",
     "text": [
      "Silas Angera\n",
      "99 A\n",
      "After adding data\n",
      "{'student': 'Silas Angera', 'results': {'comp': '99 A', 'maths': '99 A', 'comms': '60 B'}, 'course': 'BBIT'}\n",
      "After Modification of key student\n",
      "{'student': 'Mukagati Silas', 'results': {'comp': '99 A', 'maths': '99 A', 'comms': '60 B'}, 'course': 'BBIT'}\n",
      "After deletion\n",
      "{'comp': '99 A', 'maths': '99 A'}\n"
     ]
    }
   ],
   "source": [
    "data = {\"student\": \"Silas Angera\", \"results\": {\n",
    "    \"comp\": \"99 A\", \"maths\": \"99 A\", \"comms\": \"60 B\"}}\n",
    "print(data[\"student\"])\n",
    "print(data[\"results\"][\"maths\"])\n",
    "data[\"course\"] = \"BBIT\"  # adding information to a dictionary\n",
    "print(f\"After adding data\\n{data}\")\n",
    "data[\"student\"] = \"Mukagati Silas\"  # changing the information of a dictionary\n",
    "print(f\"After Modification of key student\\n{data}\")\n",
    "try:\n",
    "    del data[\"results\"][\"comms\"]\n",
    "except:\n",
    "    print(\"The key does not exist\")\n",
    "print(f\"After deletion\\n{data['results']}\")"
   ]
  },
  {
   "attachments": {},
   "cell_type": "markdown",
   "metadata": {},
   "source": [
    "#Looping through a dictionary\n"
   ]
  },
  {
   "cell_type": "code",
   "execution_count": 25,
   "metadata": {},
   "outputs": [
    {
     "name": "stdout",
     "output_type": "stream",
     "text": [
      "Looping only keys\n",
      "student\n",
      "results\n",
      "\n",
      "Looping only values\n",
      "Silas Angera\n",
      "{'comp': '99 A', 'maths': '99 A', 'comms': '60 B'}\n",
      "\n",
      "Looping both Keys and Values\n",
      "comp : 99 A\n",
      "maths : 99 A\n",
      "comms : 60 B\n",
      "\n",
      "student : Silas Angera\n",
      "\n",
      "results : {'comp': '99 A', 'maths': '99 A', 'comms': '60 B'}\n"
     ]
    }
   ],
   "source": [
    "data = {\"student\": \"Silas Angera\", \"results\": {\n",
    "    \"comp\": \"99 A\", \"maths\": \"99 A\", \"comms\": \"60 B\"}}\n",
    "# Looping only keys\n",
    "print(\"Looping only keys\")\n",
    "for key in data.keys():\n",
    "    print(key)\n",
    "\n",
    "# Looping only values\n",
    "print(\"\\nLooping only values\")\n",
    "for value in data.values():\n",
    "    print(value)\n",
    "\n",
    "# Looping both keys and values\n",
    "print(\"\\nLooping both Keys and Values\")\n",
    "for key, value in data[\"results\"].items():\n",
    "    print(f\"{key} : {value}\")\n",
    "\n",
    "for key, value in data.items():\n",
    "    print(f\"\\n{key} : {value}\")"
   ]
  },
  {
   "attachments": {},
   "cell_type": "markdown",
   "metadata": {},
   "source": [
    "#Program to enter and display dictionary values.  \n",
    "The code below prompts the user to enter some details and stores them.\n",
    "\n",
    "I started by declaring an empty dictionary which will store the data, as usual dictionaries use keys and not indexes so i had to form some keys i.e  \n",
    " name which takes the details into the dictionary.  \n",
    " Finally i displayed the information by iterating through the dictionary using a for loop.\n"
   ]
  },
  {
   "cell_type": "code",
   "execution_count": 16,
   "metadata": {},
   "outputs": [
    {
     "name": "stdout",
     "output_type": "stream",
     "text": [
      "You Entered the following information\n",
      "name : Silas Angera\n",
      "address : 2076 - 30200 Kitale\n",
      "Number : 254797630228\n"
     ]
    }
   ],
   "source": [
    "from IPython.display import clear_output\n",
    "personal = {}\n",
    "personal[\"name\"] = input(print(\"Enter your name\"))\n",
    "personal[\"address\"] = input(print(\"What is your adress\"))\n",
    "personal[\"Number\"] = input(print(\"Enter your phone no\"))\n",
    "clear_output()\n",
    "print(\"You Entered the following information\")\n",
    "for key, value in personal.items():\n",
    "    print(f\"{key} : {value}\")"
   ]
  },
  {
   "cell_type": "code",
   "execution_count": 19,
   "metadata": {},
   "outputs": [
    {
     "name": "stdout",
     "output_type": "stream",
     "text": [
      "Workers information\n",
      "name\tSilas Angera\n",
      "Age\t23\n",
      "Gender\tMale\n",
      "Marital_status\tSingle\n",
      "contacts\t{\"Address\":\"20157 Kabarak\",\"Telephone\":\"254797630228\",\"Email\":\"angerasilas@gmail.com\"}\n"
     ]
    }
   ],
   "source": [
    "from IPython.display import clear_output\n",
    "# The dictionary stores informaion of a worker\n",
    "personal = {\n",
    "    \"name\": \"\",\n",
    "    \"Age\": \"\",\n",
    "    \"Gender\": \"\",\n",
    "    \"Marital_status\": \"\",\n",
    "    \"contacts\": \"\"\n",
    "}\n",
    "for key, value in personal.items():\n",
    "    value = input(print(f\"Enter the {key}\"))\n",
    "    personal.update({key: value})\n",
    "clear_output()\n",
    "print(\"Workers information\")\n",
    "for key, value in personal.items():\n",
    "    print(f\"{key} : {value}\")"
   ]
  },
  {
   "attachments": {},
   "cell_type": "markdown",
   "metadata": {},
   "source": [
    "#Tuples  \n",
    "identical to a list except that is immutable(it cannot be altered).\n",
    "important for storing unchangable info.\n",
    "Can be iterated with an index like a list.  \n",
    "Declared using parenthesis and values are seperated by comma.  \n",
    "i.e t1 = (\"silas\",\"python\",2,2.07,True),t2=True,2\n"
   ]
  },
  {
   "cell_type": "code",
   "execution_count": 36,
   "metadata": {},
   "outputs": [
    {
     "name": "stdout",
     "output_type": "stream",
     "text": [
      "Type of data given\n",
      "<class 'tuple'> \t\t\t\t <class 'tuple'>\n",
      "Values in each Tuple\n",
      "('Silas Angera', 23, True, 2.08, 'hello') \t (23, True)\n",
      "\n",
      "Values in tuple 1\n",
      "Silas Angera\n",
      "23\n",
      "True\n",
      "2.08\n",
      "hello\n"
     ]
    }
   ],
   "source": [
    "t1 = (\"Silas Angera\", 23, True, 2.08, \"hello\")\n",
    "t2 = 23, True\n",
    "print(\"Type of data given\")\n",
    "# confirming if its a tuple the interpreter will tell us\n",
    "print(type(t1), \"\\t\\t\\t\\t\", type(t2))\n",
    "print(\"Values in each Tuple\")\n",
    "print(f\"{t1} \\t {t2}\")  # Displaying what each tuple carries\n",
    "\n",
    "# Lets iterate through to see\n",
    "print(\"\\nValues in tuple 1\")\n",
    "for i in t1:\n",
    "    print(i)"
   ]
  },
  {
   "attachments": {},
   "cell_type": "markdown",
   "metadata": {},
   "source": [
    "#SETS\n"
   ]
  },
  {
   "attachments": {},
   "cell_type": "markdown",
   "metadata": {},
   "source": [
    "A set shares the same characteristics with dictionaries and lists.  \n",
    "Can only contain unique values.  \n",
    "They are unodered collection hence cannot be accessed using index.  \n",
    "There are two ways of declaring a set:\n",
    "\n",
    "1.  using the keyword \"set\" followed by parenthesis and square brackets. i.e s1 = set([1,2,3,4]).\n",
    "2.  using curly brackets like dictionaries. i.e s1 = {1,2,3,4}.  \n",
    "    Values can be altered using methods like add(), remove(), and many more.\n"
   ]
  },
  {
   "cell_type": "code",
   "execution_count": 68,
   "metadata": {},
   "outputs": [
    {
     "name": "stdout",
     "output_type": "stream",
     "text": [
      "<class 'set'> <class 'set'>\n",
      "Natural numbers \n",
      "{1, 2, 3, 4, 5, 6, 7, 8}\n",
      "\n",
      "Major Cities in Kenya \n",
      "{'Nakuru', 'Kitale', 'Nairobi'}\n",
      "\n",
      "Updated Natural numbers\n",
      "{0, 1, 2, 3, 4, 5, 6, 7, 8, 9}\n",
      "\n",
      "Updated list of Major cities in kenya\n",
      "{'Nakuru', 'Nairobi', 'Kisumu', 'Mombasa'}\n"
     ]
    }
   ],
   "source": [
    "# Declaring sets\n",
    "nums = set([1, 2, 3, 4, 1, 4, 5, 6, 3, 4, 4, 7, 8])\n",
    "cities = {\"Nairobi\", \"Nakuru\", \"Nairobi\", \"Kitale\"}\n",
    "# Confirming the type\n",
    "print(type(nums), type(cities))\n",
    "\n",
    "# Displaying sets\n",
    "print(f\"Natural numbers \\n{nums}\\n\")\n",
    "print(f\"Major Cities in Kenya \\n{cities}\\n\")\n",
    "# Sets Functions/Methods\n",
    "\n",
    "# After running the code i realize that in natural numbers 9 and 0 are missing and in cities kitale is not a city\n",
    "nums.add(0)  # adding 0 to natural numbers\n",
    "nums.add(9)  # adding 9 to natural numbers\n",
    "\n",
    "# Alternatively we can add more than one item in the set using update() function i.e\n",
    "cities.update([\"Mombasa\", \"Kisumu\"])\n",
    "\n",
    "cities.remove(\"Kitale\")  # removing Kitale from the list\n",
    "\n",
    "# Alernatives we can remove items using dicard function e.g\n",
    "nums.discard(10)\n",
    "\n",
    "# The difference betwwen discard and remove is that if the element being deleted is not present in the set remove() will raise an error but discard will not\n",
    "\n",
    "print(f\"Updated Natural numbers\\n{nums}\\n\")\n",
    "print(f\"Updated list of Major cities in kenya\\n{cities}\")\n",
    "\n",
    "# Notice that there are some duplicate values during declaration of sets but when coming to the output there are no duplicates.\n",
    "# This is because sets supports only unique values and therefore it drops the second values"
   ]
  },
  {
   "cell_type": "code",
   "execution_count": 97,
   "metadata": {},
   "outputs": [
    {
     "name": "stdout",
     "output_type": "stream",
     "text": [
      "Set 1\n",
      "{1, 3, 4, 5, 6, 7, 9}\n",
      "Set 2\n",
      "{0, 1, 2, 4, 5, 6, 8}\n",
      "We have got some common operations in sets these inlcudes:\n",
      "1. AND(&) or intercesion OPerator which returns common elements in both sets i.e set1 & set2 returns\n",
      "\t{1, 4, 5, 6}\n",
      "2. OR(|) or union operator i.e set1 | set2 combines the sets and discard duplicates to return\n",
      "\t{0, 1, 2, 3, 4, 5, 6, 7, 8, 9}\n",
      "3. We can also set difference i.e set1-set2 which will return set 1  elements which does not exist in set 2 i.e \n",
      "\t{9, 3, 7}\n",
      "\n",
      "Two sets can be joined using a .union() function i.e num3=num1.union(num2) will return \n",
      "\t{0, 1, 2, 3, 4, 5, 6, 7, 8, 9}\n",
      "\n",
      "We can empty a set using .clear() function this will remove all elements of a set i.e set1.clear()\n",
      "if you try printing set1 you will end up getting an empty set e.g\n",
      "\tset()\n",
      "\n",
      "When we delete a set it will completely get lost\n",
      "If we try to join set 1 and 2 we will obtain an error below because set 1 was deleted using del function i.e del set1\n",
      "\t Error message: One of the sets you are trying to join was deleted\n",
      "\n",
      "We can also search for Elements in a Set by Entering a string i.e a programming language you know\n",
      "\tYou entered : java\n",
      "\t java  is found\n"
     ]
    }
   ],
   "source": [
    "num1 = {1, 3, 5, 7, 5, 6, 4, 9}\n",
    "num2 = set([2, 4, 6, 8, 0, 1, 5])\n",
    "\n",
    "print(f\"Set 1\\n{num1}\\nSet 2\\n{num2}\")\n",
    "\n",
    "print(\"We have got some common operations in sets these inlcudes:\")\n",
    "print(\n",
    "    f\"1. AND(&) or intercesion OPerator which returns common elements in both sets i.e set1 & set2 returns\\n\\t{num1&num2}\")\n",
    "\n",
    "print(\n",
    "    f\"2. OR(|) or union operator i.e set1 | set2 combines the sets and discard duplicates to return\\n\\t{num1|num2}\")\n",
    "\n",
    "print(\n",
    "    f\"3. We can also set difference i.e set1-set2 which will return set 1  elements which does not exist in set 2 i.e \\n\\t{num1-num2}\\n\")\n",
    "# two sets can be joined using a .union() function\n",
    "num3 = num1.union(num2)\n",
    "\n",
    "print(\n",
    "    f\"Two sets can be joined using a .union() function i.e num3=num1.union(num2) will return \\n\\t{num3}\\n\")\n",
    "\n",
    "# sets can be cleared to remain empty using a .clear() function\n",
    "num1.clear()\n",
    "\n",
    "print(\n",
    "    f\"We can empty a set using .clear() function this will remove all elements of a set i.e set1.clear()\\nif you try printing set1 you will end up getting an empty set e.g\\n\\t{num1}\\n\")\n",
    "\n",
    "# sets can be deleted permanently using del function\n",
    "print(\"When we delete a set it will completely get lost\")\n",
    "del num1\n",
    "# print(\"Set 1 Deleted successfully\")\n",
    "# Try to join num1 and num3 to see the output\n",
    "print(\"If we try to join set 1 and 2 we will obtain an error below because set 1 was deleted using del function i.e del set1\")\n",
    "try:\n",
    "    num3 = num2.union(num1)\n",
    "    print(num3)\n",
    "except:\n",
    "    print(\"\\t Error message: One of the sets you are trying to join was deleted\\n\")\n",
    "num4 = set([\"python\", \"cpp\", \"java\", \"html\", \"css\", \"javascript\"])\n",
    "# we can search for a particular element in a set\n",
    "i = input(print(\"We can also search for Elements in a Set by Entering a string i.e a programming language you know\")).lower()\n",
    "print(f\"\\tYou entered : {i}\")\n",
    "if i in num4:\n",
    "    print(\"\\t\", i, \" is found\")\n",
    "else:\n",
    "    print(\"\\t\", i, \" Not found\")"
   ]
  },
  {
   "attachments": {},
   "cell_type": "markdown",
   "metadata": {},
   "source": [
    "#Frozen sets.\n",
    "\n",
    "This is a combination of a set and a tuple.\n",
    "\n",
    "It is immutable,unordered and unique.\n",
    "\n",
    "#Declaration\n",
    "\n",
    "num1=frozenset([1,2,3,4,5])\n"
   ]
  },
  {
   "cell_type": "code",
   "execution_count": 99,
   "metadata": {},
   "outputs": [
    {
     "name": "stdout",
     "output_type": "stream",
     "text": [
      "<class 'frozenset'>\n"
     ]
    }
   ],
   "source": [
    "num1 = frozenset([1, 2, 3, 4])\n",
    "print(type(num1))"
   ]
  },
  {
   "attachments": {},
   "cell_type": "markdown",
   "metadata": {},
   "source": [
    "#Reading and Writing Files  \n",
    "#operations on a file\n",
    "\n",
    "1. Opening a file.\n",
    "2. Writing into a file.\n",
    "3. Appending data into a file.\n",
    "4. Reading from a file.\n",
    "5. Closing a file.\n"
   ]
  },
  {
   "attachments": {},
   "cell_type": "markdown",
   "metadata": {},
   "source": [
    "Python Comes with an open() function .  \n",
    "This function allows us to open files by using a filename and a mode.  \n",
    "For example lets open a file in writing mode.\n"
   ]
  },
  {
   "attachments": {},
   "cell_type": "markdown",
   "metadata": {},
   "source": [
    "#opening/creating and writting to a text file\n",
    "\n",
    "1. w+ mode.\n",
    "\n",
    "Opens a file for both reading and writing.\n"
   ]
  },
  {
   "cell_type": "code",
   "execution_count": 4,
   "metadata": {},
   "outputs": [
    {
     "name": "stdout",
     "output_type": "stream",
     "text": [
      "Hello ,buddy this text is about opening files in python programming\n",
      "This text was overwitten to the original text using w mode , and it is nice to code in python\n",
      "Pof angera says to be successful in life you have to be consistent,committed and dedicated to what you are doing\n"
     ]
    }
   ],
   "source": [
    "f = open(\"example.txt\", \"w+\")  # w+ mode opens a file for reading and writing\n",
    "# writing in a text file we just created\n",
    "f.write(\"Hello ,buddy this text is about opening files in python programming\")\n",
    "f.close()  # closing the file after we have completed writing on it\n",
    "# reading from a file\n",
    "f = open(\"example.txt\", \"r\")  # r mode opens for reading\n",
    "data = f.read()  # assigning the document to variable data\n",
    "f.close()\n",
    "print(data)  # displaying the information"
   ]
  },
  {
   "attachments": {},
   "cell_type": "markdown",
   "metadata": {},
   "source": [
    "#If we open in w mode it overwrites the whole document.\n",
    "\n",
    "It also creates new file if it does not exist\n"
   ]
  },
  {
   "cell_type": "code",
   "execution_count": 10,
   "metadata": {},
   "outputs": [
    {
     "name": "stdout",
     "output_type": "stream",
     "text": [
      "This text was overwitten to the original text using w mode , and it is nice to code in python\n",
      "Prof angera says to be successful in life you have to be consistent,committed and dedicated to what you are doing\n",
      "\n"
     ]
    }
   ],
   "source": [
    "f = open(\"example.txt\", \"w\")\n",
    "f.write(\"This text was overwitten to the original text using w mode , and it is nice to code in python\\n\")\n",
    "f.write(\"Prof angera says to be successful in life you have to be consistent,committed and dedicated to what you are doing\\n\")\n",
    "f.close()\n",
    "\"\"\"\"Lets open the file for reading and see what w mode did\"\"\"\n",
    "f = open(\"example.txt\", \"r\")\n",
    "data = f.read()\n",
    "f.close()\n",
    "print(data)"
   ]
  },
  {
   "attachments": {},
   "cell_type": "markdown",
   "metadata": {},
   "source": [
    "#To append data to a text we use \"a\" mode.\n",
    "\n",
    "It opens a file for sdding data at the end of file.  \n",
    "it can create a new file if doesn't exist.\n"
   ]
  },
  {
   "cell_type": "code",
   "execution_count": 11,
   "metadata": {},
   "outputs": [
    {
     "name": "stdout",
     "output_type": "stream",
     "text": [
      "This text was overwitten to the original text using w mode , and it is nice to code in python\n",
      "Prof angera says to be successful in life you have to be consistent,committed and dedicated to what you are doing\n",
      "\n",
      "Additional information\n",
      "this methods stores files in the memory permanently\n"
     ]
    }
   ],
   "source": [
    "f = open(\"example.txt\", \"a\")\n",
    "f.write(\"\\nAdditional information\\n\")\n",
    "f.write(\"this methods stores files in the memory permanently\")\n",
    "f.close()\n",
    "# Lets read what we just added\n",
    "f = open(\"example.txt\", \"r\")\n",
    "data = f.read()\n",
    "f.close()\n",
    "print(data)"
   ]
  },
  {
   "attachments": {},
   "cell_type": "markdown",
   "metadata": {},
   "source": [
    "#We have other several modes in python including:\n",
    "\n",
    "1. r+ - which opens a file both for reading and writing with the pointer placed at the beggining of the file\n",
    "2. t - opens a file in text mode.\n",
    "3. b - opens a file in binary mode.\n"
   ]
  },
  {
   "cell_type": "code",
   "execution_count": 15,
   "metadata": {},
   "outputs": [
    {
     "name": "stdout",
     "output_type": "stream",
     "text": [
      "This example shows how to read and write text using r+ mode, and it is nice to code in python\n",
      "Prof angera says to be successful in life you have to be consistent,committed and dedicated to what you are doing\n",
      "\n",
      "Additional information\n",
      "this methods stores files in the memory permanently\n"
     ]
    }
   ],
   "source": [
    "f = open(\"example.txt\", \"r+\")\n",
    "# f.write(\"This example shows how to read and write text using r+ mode\") we disable this to be a comment so that we may see the effect\n",
    "data = f.read()\n",
    "f.close()\n",
    "print(data)"
   ]
  },
  {
   "attachments": {},
   "cell_type": "markdown",
   "metadata": {},
   "source": [
    "#in the above we have seen the effect of r+, now lets open our file in t mode and finally in b mode.\n"
   ]
  },
  {
   "cell_type": "code",
   "execution_count": 18,
   "metadata": {},
   "outputs": [
    {
     "name": "stdout",
     "output_type": "stream",
     "text": [
      "This example shows how to read and write text using r+ mode, and it is nice to code in python\n",
      "Prof angera says to be successful in life you have to be consistent,committed and dedicated to what you are doing\n",
      "\n",
      "Additional information\n",
      "this methods stores files in the memory permanently\n"
     ]
    }
   ],
   "source": [
    "f = open(\"example.txt\", \"t+r\")\n",
    "data = f.read()\n",
    "f.close()\n",
    "print(data)"
   ]
  },
  {
   "attachments": {},
   "cell_type": "markdown",
   "metadata": {},
   "source": [
    "#We can count the number of characters,alphabets,numbers and special symbols in a file.\n"
   ]
  },
  {
   "cell_type": "code",
   "execution_count": 22,
   "metadata": {},
   "outputs": [
    {
     "name": "stdout",
     "output_type": "stream",
     "text": [
      "This example shows how to read and write text using r+ mode, and it is nice to code in python\n",
      "Prof angera says to be successful in life you have to be consistent,committed and dedicated to what you are doing\n",
      "\n",
      "Additional information\n",
      "this methods stores files in the memory permanently\n",
      "Email address: angerasilas@gmail.com\n",
      "Telephone: 254110156241\n",
      "\n",
      "Number of characters is 344\n",
      "The number of alphabets is 270\n",
      "The number of digits: 12\n",
      "The number of alphanumeric: 282\n",
      "Special symbols: 62\n"
     ]
    }
   ],
   "source": [
    "# a = open(\"example.txt\",\"a\")\n",
    "# a.write(\"\\nEmail address: angerasilas@gmail.com\\nTelephone: 254110156241\")\n",
    "# a.close()\n",
    "f = open(\"example.txt\", \"r\")\n",
    "data = f.read()\n",
    "alphanumeric = 0  # counts the number of symbols\n",
    "special = 0  # counts the number of special characters\n",
    "char = 0  # counts the number of characters\n",
    "digit = 0  # counts the number of digits\n",
    "alphabet = 0\n",
    "\n",
    "for i in data:\n",
    "    char = char+1  # counting the number of characters\n",
    "\n",
    "    if i.isalpha():  # checking if the the character is alpha\n",
    "        alphabet = alphabet+1  # increementing the number of alphabets in the file\n",
    "    if i.isdigit():  # checking if its a digit\n",
    "        digit = digit+1  # counting the number of digits\n",
    "for n in data:\n",
    "    if n.isalnum():  # checking if its an alphanumeric\n",
    "        alphanumeric = alphanumeric+1\n",
    "    else:\n",
    "        special = special+1\n",
    "f.close()\n",
    "print(data)\n",
    "print(f\"\\nNumber of characters is {char}\\nThe number of alphabets is {alphabet}\\nThe number of digits: {digit}\\nThe number of alphanumeric: {alphanumeric}\\nSpecial symbols: {special}\")"
   ]
  },
  {
   "attachments": {},
   "cell_type": "markdown",
   "metadata": {},
   "source": [
    "#WRITING TO A CSV FILE.\n",
    "\n",
    "CSV works with data by separating a comma between each cell. This is known as tabulas structure.  \n",
    "Python has a default library called \"csv\" which is we will import.  \n",
    "Secondly we will use a method and a keyword \"with\".\n",
    "\n",
    "#steps of creating a csv:\n",
    "\n",
    "1. import the csv library.  \n",
    "   i.e import csv\n",
    "\n",
    "2. open the file in a writing mode , you may assign it to a variable and set a newline as an empty string to avoid creating spaces between cells.  \n",
    "   i.e with open(\"csv_file name\",mode=\"writing mode you wish\",newline=\"\") as variable_name:  \n",
    "   example: with open(\"example.txt\",mode=\"w\",newline=\"\") as f:\n",
    "\n",
    "3. Create a writer mode that will allow us to write into a csv.  \n",
    "   i.e writer = csv.writer(f,delimiter=\",\")\n",
    "\n",
    "4. Write whatever you wanted to in a csv file.  \n",
    "   i.e writer.writerow(\"data you have to write\").  \n",
    "   N\\B: A csv file works like a while loop and automatically closes , you dont have to close it.\n",
    "\n",
    "Example Belows shows how to create a csv file.\n"
   ]
  },
  {
   "cell_type": "code",
   "execution_count": 31,
   "metadata": {},
   "outputs": [],
   "source": [
    "# creating to a csv\n",
    "import csv\n",
    "# we open the file in writing mode as variable f and set\n",
    "with open(\"csv_example.txt\", mode=\"w\", newline=\"\") as f:\n",
    "    # a newline to an empty string to avoid creating empty spaces between cells\n",
    "    # creating a writer mode that allows us to write in the csv\n",
    "    writer = csv.writer(f, delimiter=\",\")\n",
    "    writer.writerow([\"Name\", \"City\"])\n",
    "    writer.writerow([\"Juja\", \"Nairobi\"])\n",
    "    writer.writerow([\"Kitale\", \"Town\"])"
   ]
  },
  {
   "attachments": {},
   "cell_type": "markdown",
   "metadata": {},
   "source": [
    "#steps of reading a csv file:\n",
    "\n",
    "1.  import a csv library......shown in the above example.\n",
    "\n",
    "2.  Opening the file in reading mode.  \n",
    "    i.e\n",
    "    with open(\"example.txt\",mode=\"r\") as f:\n",
    "\n",
    "3.  Create a reader to read the opened file.\n",
    "    i.e\n",
    "    reader = csv.reader(f,delimiter=\",\")\n",
    "\n",
    "4.  Create a for loop to iterate through the file.\n",
    "    i.e  \n",
    "     for row in reader:\n",
    "                print(row)\n"
   ]
  },
  {
   "cell_type": "code",
   "execution_count": 32,
   "metadata": {},
   "outputs": [
    {
     "name": "stdout",
     "output_type": "stream",
     "text": [
      "['Name', 'City']\n",
      "['Juja', 'Nairobi']\n",
      "['Kitale', 'Town']\n"
     ]
    }
   ],
   "source": [
    "# Reading from a csv\n",
    "import csv\n",
    "with open(\"csv_example.txt\", mode=\"r\") as f:\n",
    "    reader = csv.reader(f, delimiter=\",\")\n",
    "    for row in reader:\n",
    "        print(row)"
   ]
  },
  {
   "cell_type": "markdown",
   "metadata": {},
   "source": []
  }
 ],
 "metadata": {
  "kernelspec": {
   "display_name": "Python 3 (ipykernel)",
   "language": "python",
   "name": "python3"
  },
  "language_info": {
   "codemirror_mode": {
    "name": "ipython",
    "version": 3
   },
   "file_extension": ".py",
   "mimetype": "text/x-python",
   "name": "python",
   "nbconvert_exporter": "python",
   "pygments_lexer": "ipython3",
   "version": "3.10.9"
  }
 },
 "nbformat": 4,
 "nbformat_minor": 2
}
