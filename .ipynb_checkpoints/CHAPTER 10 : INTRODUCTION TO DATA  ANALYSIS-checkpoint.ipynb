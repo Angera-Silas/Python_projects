{
 "cells": [
  {
   "cell_type": "markdown",
   "id": "8c2d40d0",
   "metadata": {},
   "source": [
    "# Virtual Environment and Requests Module"
   ]
  },
  {
   "cell_type": "markdown",
   "id": "e57e4b5c",
   "metadata": {},
   "source": [
    "We start our lesson by:\n",
    "1. Creating a virtual environment called **data_analysis** using the following command *conda create --name data_analysis python=3.10.9*\n",
    "2. Activating the virtual environment we created by running the following command on terminal *source activate data_analysis*\n",
    "3. Installing packages that we will use in our lesson i.e *pip install requests* installs the requests packages"
   ]
  },
  {
   "cell_type": "markdown",
   "id": "b6374565",
   "metadata": {},
   "source": [
    "## APIs and the Request Module"
   ]
  },
  {
   "cell_type": "markdown",
   "id": "238dc43e",
   "metadata": {},
   "source": [
    "An **Aplication Programming interface**(API) is a set of functions and procedures that allow applications to access the features or data of an operating system ,application,or other service.\n",
    "\n",
    "APIs allows us to interact with web pages and softwares of other developers"
   ]
  },
  {
   "cell_type": "markdown",
   "id": "87d77a6f",
   "metadata": {},
   "source": [
    "## Using the Request module"
   ]
  },
  {
   "cell_type": "markdown",
   "id": "c98594e9",
   "metadata": {},
   "source": [
    "### sending a request"
   ]
  },
  {
   "cell_type": "markdown",
   "id": "19954d67",
   "metadata": {},
   "source": [
    "we will be requesting information from an API created by Github"
   ]
  },
  {
   "cell_type": "code",
   "execution_count": 2,
   "id": "586b0677",
   "metadata": {},
   "outputs": [
    {
     "name": "stdout",
     "output_type": "stream",
     "text": [
      "<Response [200]>\n",
      "<class 'requests.models.Response'>\n"
     ]
    }
   ],
   "source": [
    "#sending a request and logging the response\n",
    "import requests\n",
    "r = requests.get(\"https://api.github.com/users/Connor-SM\")\n",
    "print(r)\n",
    "print(type(r))"
   ]
  },
  {
   "cell_type": "markdown",
   "id": "137baec4",
   "metadata": {},
   "source": [
    "### Accessing the response data"
   ]
  },
  {
   "cell_type": "markdown",
   "id": "b6ad2677",
   "metadata": {},
   "source": [
    "To access the response data(content) we have to use the **content** attribute within our requests object"
   ]
  },
  {
   "cell_type": "code",
   "execution_count": 3,
   "id": "c84eb150",
   "metadata": {},
   "outputs": [
    {
     "name": "stdout",
     "output_type": "stream",
     "text": [
      "b'{\"login\":\"Connor-SM\",\"id\":20958711,\"node_id\":\"MDQ6VXNlcjIwOTU4NzEx\",\"avatar_url\":\"https://avatars.githubusercontent.com/u/20958711?v=4\",\"gravatar_id\":\"\",\"url\":\"https://api.github.com/users/Connor-SM\",\"html_url\":\"https://github.com/Connor-SM\",\"followers_url\":\"https://api.github.com/users/Connor-SM/followers\",\"following_url\":\"https://api.github.com/users/Connor-SM/following{/other_user}\",\"gists_url\":\"https://api.github.com/users/Connor-SM/gists{/gist_id}\",\"starred_url\":\"https://api.github.com/users/Connor-SM/starred{/owner}{/repo}\",\"subscriptions_url\":\"https://api.github.com/users/Connor-SM/subscriptions\",\"organizations_url\":\"https://api.github.com/users/Connor-SM/orgs\",\"repos_url\":\"https://api.github.com/users/Connor-SM/repos\",\"events_url\":\"https://api.github.com/users/Connor-SM/events{/privacy}\",\"received_events_url\":\"https://api.github.com/users/Connor-SM/received_events\",\"type\":\"User\",\"site_admin\":false,\"name\":\"Connor Milliken\",\"company\":\"HubSpot, Inc.\",\"blog\":\"www.connormilliken.com\",\"location\":\"Boston, MA\",\"email\":null,\"hireable\":null,\"bio\":\"- Author of Python Projects for Beginners\\\\r\\\\n\\\\r\\\\n- Python Instructor\\\\r\\\\n\\\\r\\\\n- Adventurer/Traveler\",\"twitter_username\":null,\"public_repos\":51,\"public_gists\":0,\"followers\":124,\"following\":36,\"created_at\":\"2016-08-10T22:39:46Z\",\"updated_at\":\"2022-02-03T01:35:00Z\"}'\n"
     ]
    }
   ],
   "source": [
    "import requests\n",
    "r = requests.get(\"https://api.github.com/users/Connor-SM\")\n",
    "data = r.content\n",
    "print(data)"
   ]
  },
  {
   "cell_type": "markdown",
   "id": "2c703d40",
   "metadata": {},
   "source": [
    "In the above code we got a byte string output with lots of brackets and information which is difficult to read\n",
    "\n",
    "Responses from APIs are generally sent in ***JavaScript Object Notation***(*JSON*) formatting.    This is equivalent to a python dictionary and is the default format to send data via a request"
   ]
  },
  {
   "cell_type": "markdown",
   "id": "065a9f6b",
   "metadata": {},
   "source": [
    "### Converting the Response from a json file into a python dictionary"
   ]
  },
  {
   "cell_type": "code",
   "execution_count": 5,
   "id": "b0555796",
   "metadata": {},
   "outputs": [
    {
     "name": "stdout",
     "output_type": "stream",
     "text": [
      "Key:login\tValue:Connor-SM\n",
      "Key:id\tValue:20958711\n",
      "Key:node_id\tValue:MDQ6VXNlcjIwOTU4NzEx\n",
      "Key:avatar_url\tValue:https://avatars.githubusercontent.com/u/20958711?v=4\n",
      "Key:gravatar_id\tValue:\n",
      "Key:url\tValue:https://api.github.com/users/Connor-SM\n",
      "Key:html_url\tValue:https://github.com/Connor-SM\n",
      "Key:followers_url\tValue:https://api.github.com/users/Connor-SM/followers\n",
      "Key:following_url\tValue:https://api.github.com/users/Connor-SM/following{/other_user}\n",
      "Key:gists_url\tValue:https://api.github.com/users/Connor-SM/gists{/gist_id}\n",
      "Key:starred_url\tValue:https://api.github.com/users/Connor-SM/starred{/owner}{/repo}\n",
      "Key:subscriptions_url\tValue:https://api.github.com/users/Connor-SM/subscriptions\n",
      "Key:organizations_url\tValue:https://api.github.com/users/Connor-SM/orgs\n",
      "Key:repos_url\tValue:https://api.github.com/users/Connor-SM/repos\n",
      "Key:events_url\tValue:https://api.github.com/users/Connor-SM/events{/privacy}\n",
      "Key:received_events_url\tValue:https://api.github.com/users/Connor-SM/received_events\n",
      "Key:type\tValue:User\n",
      "Key:site_admin\tValue:False\n",
      "Key:name\tValue:Connor Milliken\n",
      "Key:company\tValue:HubSpot, Inc.\n",
      "Key:blog\tValue:www.connormilliken.com\n",
      "Key:location\tValue:Boston, MA\n",
      "Key:email\tValue:None\n",
      "Key:hireable\tValue:None\n",
      "Key:bio\tValue:- Author of Python Projects for Beginners\r\n",
      "\r\n",
      "- Python Instructor\r\n",
      "\r\n",
      "- Adventurer/Traveler\n",
      "Key:twitter_username\tValue:None\n",
      "Key:public_repos\tValue:51\n",
      "Key:public_gists\tValue:0\n",
      "Key:followers\tValue:124\n",
      "Key:following\tValue:36\n",
      "Key:created_at\tValue:2016-08-10T22:39:46Z\n",
      "Key:updated_at\tValue:2022-02-03T01:35:00Z\n",
      "Connor Milliken\n"
     ]
    }
   ],
   "source": [
    "import requests\n",
    "r = requests.get(\"https://api.github.com/users/Connor-SM\")\n",
    "#conveting data from a string to a dictionary\n",
    "data = r.json()\n",
    "for key,value in data.items():\n",
    "    print(f\"Key:{key}\\tValue:{value}\")\n",
    "print(data[\"name\"])"
   ]
  },
  {
   "cell_type": "code",
   "execution_count": null,
   "id": "0641220e",
   "metadata": {},
   "outputs": [],
   "source": []
  }
 ],
 "metadata": {
  "kernelspec": {
   "display_name": "Python 3 (ipykernel)",
   "language": "python",
   "name": "python3"
  },
  "language_info": {
   "codemirror_mode": {
    "name": "ipython",
    "version": 3
   },
   "file_extension": ".py",
   "mimetype": "text/x-python",
   "name": "python",
   "nbconvert_exporter": "python",
   "pygments_lexer": "ipython3",
   "version": "3.10.9"
  }
 },
 "nbformat": 4,
 "nbformat_minor": 5
}
