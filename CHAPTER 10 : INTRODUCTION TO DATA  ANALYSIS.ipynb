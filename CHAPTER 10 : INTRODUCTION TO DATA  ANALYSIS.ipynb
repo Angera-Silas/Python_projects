{
 "cells": [
  {
   "cell_type": "markdown",
   "id": "8c2d40d0",
   "metadata": {},
   "source": [
    "# Virtual Environment and Requests Module"
   ]
  },
  {
   "cell_type": "markdown",
   "id": "87c77fa8",
   "metadata": {},
   "source": [
    "We start our lesson by:\n",
    "1. Creating a virtual environment called **data_analysis** using the following command *conda create --name data_analysis python=3.10.9*\n",
    "2. Activating the virtual environment we created by running the following command on terminal *source activate data_analysis*\n",
    "3. Installing packages that we will use in our lesson i.e *pip install requests* installs the requests packages"
   ]
  },
  {
   "cell_type": "markdown",
   "id": "3521443b",
   "metadata": {},
   "source": [
    "## APIs and the Request Module"
   ]
  },
  {
   "cell_type": "markdown",
   "id": "ccb66ad0",
   "metadata": {},
   "source": [
    "An **Aplication Programming interface**(API) is a set of functions and procedures that allow applications to access the features or data of an operating system ,application,or other service.\n",
    "\n",
    "APIs allows us to interact with web pages and softwares of other developers"
   ]
  },
  {
   "cell_type": "markdown",
   "id": "ca366e10",
   "metadata": {},
   "source": [
    "## Using the Request module"
   ]
  },
  {
   "cell_type": "markdown",
   "id": "01c4fdf1",
   "metadata": {},
   "source": [
    "### sending a request"
   ]
  },
  {
   "cell_type": "markdown",
   "id": "e7c21243",
   "metadata": {},
   "source": [
    "we will be requesting information from an API created by Github"
   ]
  },
  {
   "cell_type": "code",
   "execution_count": 2,
   "id": "45f4dc31",
   "metadata": {},
   "outputs": [
    {
     "name": "stdout",
     "output_type": "stream",
     "text": [
      "<Response [200]>\n",
      "<class 'requests.models.Response'>\n"
     ]
    }
   ],
   "source": [
    "#sending a request and logging the response\n",
    "import requests\n",
    "r = requests.get(\"https://api.github.com/users/Connor-SM\")\n",
    "print(r)\n",
    "print(type(r))"
   ]
  },
  {
   "cell_type": "markdown",
   "id": "636014f3",
   "metadata": {},
   "source": [
    "### Accessing the response data"
   ]
  },
  {
   "cell_type": "markdown",
   "id": "09e208d9",
   "metadata": {},
   "source": [
    "To access the response data(content) we have to use the **content** attribute within our requests object"
   ]
  },
  {
   "cell_type": "code",
   "execution_count": 6,
   "id": "6daacd37",
   "metadata": {},
   "outputs": [
    {
     "name": "stdout",
     "output_type": "stream",
     "text": [
      "b'{\"login\":\"Connor-SM\",\"id\":20958711,\"node_id\":\"MDQ6VXNlcjIwOTU4NzEx\",\"avatar_url\":\"https://avatars.githubusercontent.com/u/20958711?v=4\",\"gravatar_id\":\"\",\"url\":\"https://api.github.com/users/Connor-SM\",\"html_url\":\"https://github.com/Connor-SM\",\"followers_url\":\"https://api.github.com/users/Connor-SM/followers\",\"following_url\":\"https://api.github.com/users/Connor-SM/following{/other_user}\",\"gists_url\":\"https://api.github.com/users/Connor-SM/gists{/gist_id}\",\"starred_url\":\"https://api.github.com/users/Connor-SM/starred{/owner}{/repo}\",\"subscriptions_url\":\"https://api.github.com/users/Connor-SM/subscriptions\",\"organizations_url\":\"https://api.github.com/users/Connor-SM/orgs\",\"repos_url\":\"https://api.github.com/users/Connor-SM/repos\",\"events_url\":\"https://api.github.com/users/Connor-SM/events{/privacy}\",\"received_events_url\":\"https://api.github.com/users/Connor-SM/received_events\",\"type\":\"User\",\"site_admin\":false,\"name\":\"Connor Milliken\",\"company\":\"HubSpot, Inc.\",\"blog\":\"www.connormilliken.com\",\"location\":\"Boston, MA\",\"email\":null,\"hireable\":null,\"bio\":\"- Author of Python Projects for Beginners\\\\r\\\\n\\\\r\\\\n- Python Instructor\\\\r\\\\n\\\\r\\\\n- Adventurer/Traveler\",\"twitter_username\":null,\"public_repos\":51,\"public_gists\":0,\"followers\":124,\"following\":36,\"created_at\":\"2016-08-10T22:39:46Z\",\"updated_at\":\"2022-02-03T01:35:00Z\"}'\n"
     ]
    }
   ],
   "source": [
    "import requests\n",
    "r = requests.get(\"https://api.github.com/users/Connor-SM\")\n",
    "data = r.content\n",
    "print(data)"
   ]
  },
  {
   "cell_type": "markdown",
   "id": "0b723328",
   "metadata": {},
   "source": [
    "In the above code we got a byte string output with lots of brackets and information which is difficult to read\n",
    "\n",
    "Responses from APIs are generally sent in ***JavaScript Object Notation***(*JSON*) formatting.    This is equivalent to a python dictionary and is the default format to send data via a request"
   ]
  },
  {
   "cell_type": "markdown",
   "id": "cccfa620",
   "metadata": {},
   "source": [
    "### Converting the Response from a json file into a python dictionary"
   ]
  },
  {
   "cell_type": "markdown",
   "id": "fb989591",
   "metadata": {},
   "source": [
    "We have to convert the data from json to a dictionary\n",
    "\n",
    "Luckily, the requests object comes with a built-in JSON conversion method called **json()**. This will enable us to convert the data into a dictionary and output data in key-value pairs"
   ]
  },
  {
   "cell_type": "code",
   "execution_count": 7,
   "id": "104240a0",
   "metadata": {
    "scrolled": false
   },
   "outputs": [
    {
     "name": "stdout",
     "output_type": "stream",
     "text": [
      "Key:login\tValue:Connor-SM\n",
      "Key:id\tValue:20958711\n",
      "Key:node_id\tValue:MDQ6VXNlcjIwOTU4NzEx\n",
      "Key:avatar_url\tValue:https://avatars.githubusercontent.com/u/20958711?v=4\n",
      "Key:gravatar_id\tValue:\n",
      "Key:url\tValue:https://api.github.com/users/Connor-SM\n",
      "Key:html_url\tValue:https://github.com/Connor-SM\n",
      "Key:followers_url\tValue:https://api.github.com/users/Connor-SM/followers\n",
      "Key:following_url\tValue:https://api.github.com/users/Connor-SM/following{/other_user}\n",
      "Key:gists_url\tValue:https://api.github.com/users/Connor-SM/gists{/gist_id}\n",
      "Key:starred_url\tValue:https://api.github.com/users/Connor-SM/starred{/owner}{/repo}\n",
      "Key:subscriptions_url\tValue:https://api.github.com/users/Connor-SM/subscriptions\n",
      "Key:organizations_url\tValue:https://api.github.com/users/Connor-SM/orgs\n",
      "Key:repos_url\tValue:https://api.github.com/users/Connor-SM/repos\n",
      "Key:events_url\tValue:https://api.github.com/users/Connor-SM/events{/privacy}\n",
      "Key:received_events_url\tValue:https://api.github.com/users/Connor-SM/received_events\n",
      "Key:type\tValue:User\n",
      "Key:site_admin\tValue:False\n",
      "Key:name\tValue:Connor Milliken\n",
      "Key:company\tValue:HubSpot, Inc.\n",
      "Key:blog\tValue:www.connormilliken.com\n",
      "Key:location\tValue:Boston, MA\n",
      "Key:email\tValue:None\n",
      "Key:hireable\tValue:None\n",
      "Key:bio\tValue:- Author of Python Projects for Beginners\r\n",
      "\r\n",
      "- Python Instructor\r\n",
      "\r\n",
      "- Adventurer/Traveler\n",
      "Key:twitter_username\tValue:None\n",
      "Key:public_repos\tValue:51\n",
      "Key:public_gists\tValue:0\n",
      "Key:followers\tValue:124\n",
      "Key:following\tValue:36\n",
      "Key:created_at\tValue:2016-08-10T22:39:46Z\n",
      "Key:updated_at\tValue:2022-02-03T01:35:00Z\n",
      "Connor Milliken\n"
     ]
    }
   ],
   "source": [
    "import requests\n",
    "r = requests.get(\"https://api.github.com/users/Connor-SM\")\n",
    "#conveting data from a string to a dictionary\n",
    "data = r.json()\n",
    "for key,value in data.items():\n",
    "    print(f\"Key:{key}\\tValue:{value}\")\n",
    "print(data[\"name\"])"
   ]
  },
  {
   "cell_type": "markdown",
   "id": "b897d4f7",
   "metadata": {},
   "source": [
    "### Passing parameters"
   ]
  },
  {
   "cell_type": "markdown",
   "id": "06a0d942",
   "metadata": {},
   "source": [
    "In our most APIs calls we will require extra information like parameters or headers.\n",
    "This information is taken by API and used to perform specific task.\n",
    "\n",
    "**For Example**\n",
    "Lets perform a call this time while passing parameters in the url to search for python- specific repositories on Github "
   ]
  },
  {
   "cell_type": "code",
   "execution_count": 20,
   "id": "b00607aa",
   "metadata": {},
   "outputs": [
    {
     "name": "stdout",
     "output_type": "stream",
     "text": [
      "9462119\n"
     ]
    }
   ],
   "source": [
    "import requests\n",
    "r = requests.get(\"https://api.github.com/search/repositories?q=language:python\")\n",
    "#conveting data from a string to a dictionary\n",
    "data = r.json()\n",
    "print(data[\"total_count\"])# output the total number of repositories that use python"
   ]
  },
  {
   "cell_type": "code",
   "execution_count": 21,
   "id": "cf1669a3",
   "metadata": {},
   "outputs": [
    {
     "name": "stdout",
     "output_type": "stream",
     "text": [
      "14608416\n"
     ]
    }
   ],
   "source": [
    "import requests\n",
    "r = requests.get(\"https://api.github.com/search/repositories?q=language:javascript\")\n",
    "data = r.json()\n",
    "print(data[\"total_count\"])"
   ]
  },
  {
   "cell_type": "markdown",
   "id": "25560d3b",
   "metadata": {},
   "source": [
    "## Pandas"
   ]
  },
  {
   "cell_type": "markdown",
   "id": "6174b8b4",
   "metadata": {},
   "source": [
    "pandas is the ultimate tool when working with data. We can define it as a *flexible data analysis library built wuthin the C language, which is excellent for working with tabular data*\n",
    "\n",
    "pandas is a mix of python and sql\n",
    "\n",
    "NumPy is a fundamental package for scientific computing in Python.it uses multidimensional arrays and can perform calculations at a hihg rate"
   ]
  },
  {
   "cell_type": "code",
   "execution_count": 2,
   "id": "1b4b1926",
   "metadata": {},
   "outputs": [
    {
     "name": "stdout",
     "output_type": "stream",
     "text": [
      "     names  ages\n",
      "0     Jess    25\n",
      "1   Jordan    35\n",
      "2    Sandy    22\n",
      "3      Ted    29\n",
      "4   Barney    33\n",
      "5    Tyler    20\n",
      "6  Rebecca    18\n"
     ]
    }
   ],
   "source": [
    "import pandas as pd\n",
    "# creating a dataframe\n",
    "import random\n",
    "random.seed(3)# generate same random numbers every time\n",
    "names = [\"Jess\",\"Jordan\",\"Sandy\",\"Ted\",\"Barney\",\"Tyler\",\"Rebecca\"]\n",
    "ages = [random.randint(18,35) for x in range(len(names))]\n",
    "# creating a dictionary\n",
    "people = {\"names\" : names,\"ages\" : ages}\n",
    "df = pd.DataFrame.from_dict(people)\n",
    "print(df)"
   ]
  },
  {
   "cell_type": "code",
   "execution_count": null,
   "id": "63248d71",
   "metadata": {},
   "outputs": [],
   "source": []
  }
 ],
 "metadata": {
  "kernelspec": {
   "display_name": "Python 3 (ipykernel)",
   "language": "python",
   "name": "python3"
  },
  "language_info": {
   "codemirror_mode": {
    "name": "ipython",
    "version": 3
   },
   "file_extension": ".py",
   "mimetype": "text/x-python",
   "name": "python",
   "nbconvert_exporter": "python",
   "pygments_lexer": "ipython3",
   "version": "3.10.9"
  }
 },
 "nbformat": 4,
 "nbformat_minor": 5
}
