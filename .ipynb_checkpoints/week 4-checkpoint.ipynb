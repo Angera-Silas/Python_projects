{
 "cells": [
  {
   "cell_type": "markdown",
   "id": "2c32dd0d",
   "metadata": {},
   "source": [
    "#loops and lists"
   ]
  },
  {
   "cell_type": "code",
   "execution_count": 13,
   "id": "00c53272",
   "metadata": {},
   "outputs": [
    {
     "name": "stdout",
     "output_type": "stream",
     "text": [
      "Value: silas\n",
      "Value: steven\n",
      "Value: angera\n",
      "Value: brian\n",
      "Value: moses\n",
      "['steven', 'angera']\n",
      "['silas', 'angera', 'moses']\n",
      "['silas', 'steven', 'angera']\n",
      "['silas', 'steven']\n"
     ]
    }
   ],
   "source": [
    "name = [\"silas\",\"steven\",\"angera\",\"brian\",\"moses\"]\n",
    "for letter in name:\n",
    "    print(f\"Value: {letter}\")\n",
    "print(name[1:3]) #prints values in index 1 and 4 only\n",
    "print(name[::2])#print values with an interval of 2\n",
    "print(name[:3])#prints values up the 3 index only\n",
    "print(name[:-3])#removes the last 3 indexes from the output screen\n",
    "name.append(50)#adds one value to the list\n",
    "name.insert(5,\"boss\")#works with an index\n"
   ]
  },
  {
   "cell_type": "code",
   "execution_count": 12,
   "id": "899c158b",
   "metadata": {},
   "outputs": [
    {
     "name": "stdout",
     "output_type": "stream",
     "text": [
      "0\n",
      "1\n",
      "2\n",
      "The game is over\n"
     ]
    }
   ],
   "source": [
    "game_over = False\n",
    "while game_over!=True:\n",
    "    for i in range(5):\n",
    "        if i==3:\n",
    "            break\n",
    "        print(i)\n",
    "    game_over=True\n",
    "print(\"The game is over\")"
   ]
  },
  {
   "cell_type": "markdown",
   "id": "7779bd04",
   "metadata": {},
   "source": [
    "#Numeric lists"
   ]
  },
  {
   "cell_type": "code",
   "execution_count": 14,
   "id": "79e2704d",
   "metadata": {},
   "outputs": [
    {
     "name": "stdout",
     "output_type": "stream",
     "text": [
      "Minimum :2\n"
     ]
    }
   ],
   "source": [
    "nums = [2,87,56,34,89,100000]\n",
    "print(f\"Minimum :{min(nums)}\")\n",
    "print(f\"Maximum :{max(nums)}\")\n",
    "print(f\"um :{min(nums)}\")\n",
    "print(f\"Minimum :{min(nums)}\")"
   ]
  },
  {
   "cell_type": "code",
   "execution_count": null,
   "id": "e452f34e",
   "metadata": {},
   "outputs": [],
   "source": []
  }
 ],
 "metadata": {
  "kernelspec": {
   "display_name": "Python 3 (ipykernel)",
   "language": "python",
   "name": "python3"
  },
  "language_info": {
   "codemirror_mode": {
    "name": "ipython",
    "version": 3
   },
   "file_extension": ".py",
   "mimetype": "text/x-python",
   "name": "python",
   "nbconvert_exporter": "python",
   "pygments_lexer": "ipython3",
   "version": "3.10.9"
  }
 },
 "nbformat": 4,
 "nbformat_minor": 5
}
