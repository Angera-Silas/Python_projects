{
 "cells": [
  {
   "cell_type": "markdown",
   "metadata": {},
   "source": [
    "# Write a program to convert into seconds"
   ]
  },
  {
   "cell_type": "code",
   "execution_count": null,
   "metadata": {},
   "outputs": [
    {
     "name": "stdout",
     "output_type": "stream",
     "text": [
      "Enter the number of days to convert\n",
      "66\n",
      "66 Days == [5702400.0] Secs\n",
      "***Thank you for using our product\n",
      "***Code Provided to you by Prof Angera Silas\n"
     ]
    }
   ],
   "source": [
    "from IPython.display import clear_output\n",
    "try:\n",
    "    def timeConverter():\n",
    "        while not done:\n",
    "            option = input(\"What do you wish to convert into seconds\\n1. days\\n2. hours\\n3. minutes\\n4. quit\\n\").lower()\n",
    "            clear_output()\n",
    "            if option == \"quit\":\n",
    "                print(\"***Thank you for using our product\\n***Code Provided to you by Prof Angera Silas\")\n",
    "                break\n",
    "            elif option == \"days\":\n",
    "                day = int(input(\"Enter the number of days to convert\\n\"))\n",
    "                seconds = day*24*3600\n",
    "                print(f\"{day} Days == [{float(seconds)}] Secs\\n***Thank you for using our product\\n***Code Provided to you by Prof Angera Silas\")\n",
    "            elif option ==\"hours\":\n",
    "                hour = float(input(\"Enter the number of hours to convert\\n\"))\n",
    "                seconds = hour*3600\n",
    "                print(f\"{hour} Hrs == [{float(seconds)}] Secs\\n***Thank you for using our product\\n***Code Provided to you by Prof Angera Silas\")\n",
    "            elif option==\"minutes\":\n",
    "                mins = float(input(\"Enter the number of Minutes to convert\\n\"))\n",
    "                seconds = mins*60\n",
    "                print(f\"{mins} Mins == [{float(seconds)}] secs\\n***Thank you for using our product\\n***Code Provided to you by Prof Angera Silas\")\n",
    "            else:\n",
    "                print(\"You made a wrong choice kindly try again later.\\n***Thank you for using our product\\n***Code provided by Prof Angera Silas\")\n",
    "    done = False\n",
    "    timeConverter()\n",
    "except:\n",
    "    print(\"Oops we encountered an error...Please try again later\")\n",
    "    done = True"
   ]
  },
  {
   "cell_type": "markdown",
   "metadata": {},
   "source": [
    "# program to check whether a character entered is an alphabet or not"
   ]
  },
  {
   "cell_type": "code",
   "execution_count": 1,
   "metadata": {},
   "outputs": [
    {
     "name": "stdout",
     "output_type": "stream",
     "text": [
      "Enter any character\n",
      "e is an alphabet\n"
     ]
    }
   ],
   "source": [
    "def AlphabetCheck():\n",
    "    if ch>='a' and ch<='z' or ch>='A' and ch<='Z':\n",
    "        print(f\"{ch} is an alphabet\")\n",
    "    else:\n",
    "        print(f\"{ch} is not an alphabet\")\n",
    "ch = input(\"Enter any character\\n\")\n",
    "AlphabetCheck()"
   ]
  },
  {
   "cell_type": "markdown",
   "metadata": {},
   "source": [
    "# Construct a program for this case. A student will not be allowed to sit in exam if his/her attendance is less than 80%. \n",
    "## Take the following input from the user.:  \n",
    "1. Number of classes held ,\n",
    "2. Number of classes attended ,\n",
    "## and print :\n",
    "1. the percentage of the class attended and if the student is allowed or not allowed to sit in exam"
   ]
  },
  {
   "cell_type": "code",
   "execution_count": 12,
   "metadata": {},
   "outputs": [
    {
     "name": "stdout",
     "output_type": "stream",
     "text": [
      "Input the total number of classes held this semester\n",
      "Sorry we encountered an issue with your information. please try again later\n"
     ]
    }
   ],
   "source": [
    "def AttendanceSheet(*args):\n",
    "    percentage_of_class_attended = (total_classes_attended/total_classes_held)*100\n",
    "    if percentage_of_class_attended>=80:\n",
    "        print(\"The student attended [{}%] of the classes\\nTherefore he is allowed to sit in Exam\".format(percentage_of_class_attended))\n",
    "    else:\n",
    "        print(\"The student only attended[{}%] of the classes held\\nTherefore not allowed to sit in exam\".format(percentage_of_class_attended))\n",
    "try:\n",
    "    total_classes_held=int(input(print(\"Input the total number of classes held this semester\")))\n",
    "    total_classes_attended=int(input(print(\"Input the total number of classes attended by student this semester\")))\n",
    "    AttendanceSheet(total_classes_held,total_classes_attended)\n",
    "except:\n",
    "    print(\"Sorry we encountered an issue with your information. please try again later\")"
   ]
  },
  {
   "cell_type": "markdown",
   "metadata": {},
   "source": [
    "# A program to check whether the entered alphabet is an uppercase or lower case"
   ]
  },
  {
   "cell_type": "code",
   "execution_count": 7,
   "metadata": {},
   "outputs": [
    {
     "name": "stdout",
     "output_type": "stream",
     "text": [
      "Enter an alphabet\n",
      "The Character Entered is not an alphabet\n"
     ]
    }
   ],
   "source": [
    "try:\n",
    "    alphabet = input(print(\"Enter an alphabet\"))\n",
    "    if alphabet>='a' and alphabet <='z':\n",
    "        print(f\"{alphabet} is a lowercase character\")\n",
    "    elif alphabet>=\"A\" and alphabet<=\"Z\":\n",
    "        print(f\"{alphabet} is an uppercase character\")\n",
    "    else:\n",
    "        print(\"The Character Entered is not an alphabet\")\n",
    "except:\n",
    "    print(\"Error: A problem occured while running the program\")\n",
    "        "
   ]
  },
  {
   "cell_type": "markdown",
   "metadata": {},
   "source": [
    "# Program to convert binary to decimal"
   ]
  },
  {
   "cell_type": "code",
   "execution_count": 103,
   "metadata": {},
   "outputs": [
    {
     "name": "stdout",
     "output_type": "stream",
     "text": [
      "1\n"
     ]
    }
   ],
   "source": [
    "def binary_to_decimal(binary):\n",
    "    decimal = 0\n",
    "    n=0\n",
    "    bin=binary\n",
    "    \n",
    "    while bin!=0:\n",
    "        digit=bin%10 #eliminates the last digit\n",
    "        if digit == 1:\n",
    "            pv=pow(2,n)\n",
    "            return (digit*pv)+decimal #converting binary to decimal\n",
    "        n=n+1\n",
    "    #removing the last digit\n",
    "        bin = bin/10\n",
    "binary = int(input(\"Enter the binary digits\"))\n",
    "print(binary_to_decimal(binary))"
   ]
  },
  {
   "cell_type": "markdown",
   "metadata": {},
   "source": [
    "# Factorial using Recursion"
   ]
  },
  {
   "cell_type": "code",
   "execution_count": 100,
   "metadata": {},
   "outputs": [
    {
     "name": "stdout",
     "output_type": "stream",
     "text": [
      "Enter a number to finds its factorial\n",
      "Error occured.please try again later\n"
     ]
    }
   ],
   "source": [
    "def Factorial(n):\n",
    "    if n>1:\n",
    "        return n*Factorial(n-1)\n",
    "    else:\n",
    "        return 1\n",
    "try:\n",
    "    n=int(input(print(\"Enter a number to finds its factorial\")))\n",
    "    print(\"Factorial of {} == [{}]\".format(n,Factorial(n)))\n",
    "except:\n",
    "    print(\"Error occured.please try again later\")"
   ]
  },
  {
   "cell_type": "code",
   "execution_count": 81,
   "metadata": {},
   "outputs": [
    {
     "name": "stdout",
     "output_type": "stream",
     "text": [
      "300\n"
     ]
    }
   ],
   "source": [
    "def Area(*args):\n",
    "    area = l*w\n",
    "    return area\n",
    "l=10\n",
    "w=30\n",
    "print(Area(l,w))"
   ]
  },
  {
   "cell_type": "markdown",
   "metadata": {},
   "source": [
    "# creating a students management system\n",
    "\n",
    "## REQUIRED:        \n",
    "   1. registering a user\n",
    "   2. logging in and out a user\n",
    "   3. entering and viewing users data\n",
    "   4. main loop for running the system\n",
    "## Steps\n",
    "   1. Checking if the user is logged in.\n",
    "        1. if its true the ask what they would like to do in the system.\n",
    "            1. change data/log out/view data/quit\n",
    "        2. Else ask them if they would like to create an account/log in or quit\n",
    "            1. if create an account:\n",
    "                1. ask the user to enter credentials i.e username/email address and password\n",
    "                2. create an account for the user\n",
    "            2. if login :\n",
    "                1. ask for user credenials i.e username and password  \n",
    "                   if it matches the ones in the system login the user\n",
    "                    else:       \n",
    "                        display error\n",
    "                        count the number of trials if they reach 5 throw the user out.\n",
    "            3. if quit then terminate the program."
   ]
  },
  {
   "cell_type": "code",
   "execution_count": 13,
   "metadata": {},
   "outputs": [
    {
     "name": "stdout",
     "output_type": "stream",
     "text": [
      "Thank you for using My Software!\n",
      "Code provided by Angera Silas\n"
     ]
    }
   ],
   "source": [
    "#importing important libraries\n",
    "import csv\n",
    "from IPython.display import clear_output\n",
    "#creating a user registration section\n",
    "def registerUser():\n",
    "    with open(\"studentMgt.csv\",mode=\"a\",newline=\"\") as s:\n",
    "        writer = csv.writer(s,delimiter=\",\")\n",
    "        email = input(\"Enter your email address\\t\")\n",
    "        email1 = input(\"confirm Email\\t\")\n",
    "        password = input(\"Enter a password\\t\")\n",
    "        password2 = input(\"Confirm password\\t\")\n",
    "        clear_output()\n",
    "        if email1==email and password2==password:\n",
    "            with open(\"studentMgt.csv\",mode=\"r\") as f:\n",
    "                reader = csv.reader(f,delimiter=\",\")\n",
    "                for row in reader:\n",
    "                    if email not in row:#Checking to see if the email is already registered\n",
    "                        if password not in row:#Every person's password should be unique\n",
    "                            writer.writerow([email,password])#if its unique register\n",
    "                            print(\"Account successfully created\\n Go on and update your profile to enjoy more\")\n",
    "                            return True\n",
    "                        else:\n",
    "                            print(\"Input another password please\")\n",
    "                    else:\n",
    "                        print(\"user already exists.....login\")\n",
    "                        userLogin()\n",
    "        else:\n",
    "            print(\"Try again your passwords do not match\")\n",
    "            \n",
    "#creating a user login handler\n",
    "def userLogin():\n",
    "    trials = 0\n",
    "    print(\"Input you## r credentials to login\\t\")\n",
    "    email = input(\"Enter your email address\\t\")\n",
    "    password = input(\"Enter your password\\t\")\n",
    "    clear_output()\n",
    "    with open(\"studentMgt.csv\",mode=\"r\") as f:\n",
    "        reader = csv.reader(f,delimiter=\",\")\n",
    "        for row in reader:\n",
    "            if row==[email,password] or email in row and password in row:\n",
    "                print(\"Successfully Logged in\")\n",
    "                return True\n",
    "    print(\"Wrong password or email Address...please try again\")\n",
    "    return False\n",
    "\n",
    "#creating the get password\n",
    "def getPassword():\n",
    "    email = input(\"Enter your Email address\\t\")\n",
    "    email1 = input(\"Confirm your Email address\\t\")#Veriffying details to get the password\n",
    "    clear_output()\n",
    "    with open(\"studentMgt.csv\",mode=\"r\") as s:\n",
    "        reader=csv.reader(s,delimiter=\",\")\n",
    "        for row in reader:\n",
    "            if email in row:\n",
    "                print(\"Dear customer the Email address and password are displayed below\")\n",
    "                print(row)\n",
    "                print(\"Login to change your password\")\n",
    "            else:\n",
    "                print(\"Error--> Email address not found\")\n",
    "\n",
    "#reseting password\n",
    "def resetPassword():\n",
    "    confirm=input(\" You are about to Reset your password type in one command\\n1. ok\\n2. cancel\").lower()\n",
    "    if confirm==\"cancel\":\n",
    "        logged_in = True\n",
    "    elif confirm==\"ok\":\n",
    "        email = input(\"Enter your email address\\t\")\n",
    "        password = input(\"Enter your password\\t\")\n",
    "        clear_output()\n",
    "        with open(\"studentMgt.csv\",mode=\"r\") as f:\n",
    "            reader = csv.reader(f,delimiter=\",\")\n",
    "            for row in reader:\n",
    "                if email in row and password in row:\n",
    "                    with open(\"studentMgt.csv\",mode=\"r+\",newline=\"\") as f:\n",
    "                        writer=csv.writer(f,delimiter=\",\")\n",
    "                        password = input(\"Enter new password\\t\")\n",
    "                        password1 = input(\"confirm your new password\\t\")\n",
    "                        if password == password1:\n",
    "                            writer.writerow([email,password])\n",
    "                            print(\"Successfully recovered your password,login to verify\")\n",
    "                            logged_in=True\n",
    "                        else:\n",
    "                            print(\"Kindly recheck your credentials\")\n",
    "\n",
    "def updateDetails():\n",
    "    with open(\"studentMgt.csv\",mode=\"r\") as f:\n",
    "        email=input(\"Confirm your email address\")\n",
    "        password = input(\"Enter password to confirm your identity\")\n",
    "        reader=csv.reader(f,delimiter=\",\")\n",
    "        num = 0\n",
    "        for row in reader:\n",
    "            if email in row or row == [email,password]:\n",
    "                with open(\"studentMgt.csv\",mode=\"w\",newline=\"\") as f:\n",
    "                    name = str(input(\"Enter your name\\n\"))\n",
    "                    num = int(input(\"How many units do you take\\n\"))\n",
    "                    for i in range(num):\n",
    "                        unit=input(f\"enter unit {i+1}\\t\")\n",
    "                        units.insert(i,unit)\n",
    "                    writer=csv.writer(f,delimiter=\",\")\n",
    "                    writer.writerow([email,password,name,units])\n",
    "                    clear_output()\n",
    "                    print(\"Profile Successfully updated\")\n",
    "                    return True\n",
    "    print(\"Unable to update profile...try again later\")\n",
    "    return False\n",
    "def viewData():\n",
    "    with open(\"studentMgt.csv\",mode=\"r\") as f:\n",
    "        email=input(\"Confirm your email address\")\n",
    "        reader=csv.reader(f,delimiter=\",\")\n",
    "        for row in reader:\n",
    "            if email in row:\n",
    "                print(row)\n",
    "                return True\n",
    "#creating the main loop\n",
    "active = True\n",
    "logged_in = False\n",
    "units = []\n",
    "while active:\n",
    "    if logged_in:\n",
    "        print(\"1. Logout \\n2. Change password \\n3. View Profile\\n4. Update profile \\n5. Quit\")\n",
    "    else:\n",
    "        print(\"1. login \\n2. register \\n3. Forgot password \\n4. Quit\")\n",
    "    option=input(\"What do you wish to do? \").lower()\n",
    "    clear_output()\n",
    "    if option == \"register\" and logged_in == False:#if the user is not logged in and chooses to register\n",
    "        registerUser()#the user will be redirected to registration page by the function\n",
    "    elif option == \"login\" and logged_in == False:\n",
    "        logged_in = userLogin()#if the user already registered and wants to login in \n",
    "    elif option == \"quit\":\n",
    "        active = False#if the user chooses to quit then the program is terminated\n",
    "        print(\"Thank you for using My Software!\\nCode provided by Angera Silas\")\n",
    "    elif option ==\"change password\":\n",
    "        resetPassword()\n",
    "    elif option ==\"forgot password\":\n",
    "        getPassword()\n",
    "    elif option ==\"update profile\":\n",
    "        updateDetails()\n",
    "    elif option==\"view profile\":\n",
    "        viewData()\n",
    "    elif option == \"logout\" and logged_in == True:\n",
    "        logged_in = False\n",
    "        print(\"Successfully logged out\\nThank you for using My Software!\\nCode provided by Angera Silas\")\n",
    "    else:\n",
    "        print(\"Sorry,please try again\")\n",
    "        "
   ]
  },
  {
   "cell_type": "markdown",
   "metadata": {},
   "source": [
    "# Creating a simple Geometric calculator\n",
    "\n",
    "## REQUIRED       \n",
    "The system is expected to do the following.     \n",
    "a. take input from the user     \n",
    "b. do the calculation       \n",
    "c. return the answer\n",
    "\n",
    "## STEPS/Psedocode        \n",
    "1. start        \n",
    "2. Ask the user what she/he wants to calculate      \n",
    "    1. ask the user to choose a type of triangle either right-angled triangle,other trianle     \n",
    "        1. if right-angled triangle     \n",
    "            options - length of either base,height or hypotenuse,sin,cosine,tangent,area.       \n",
    "            i. if length of one side        \n",
    "                1. ask the user to enter the length of the given sides either height and base,base and hyptenuse or height and hypoteuse        \n",
    "                2. hypotenuse = sqrt((base**2)+(height**2))     \n",
    "            ii. if area:\n",
    "                1. input base and height or any two sides given  \n",
    "        2. Else:        \n",
    "            options - length of either side,size of angle.        \n",
    "            1. if size of angle,a variety of formulars will apply:     \n",
    "                i. Enter the measurements given     \n",
    "                ii. following the sine rule, the anwer can be got by getting the sine inverse                    \n",
    "                iii. the answer will be brought following the cosine rule and getting cosine inverse             \n",
    "                iv. we will calculate the cosine and sine        \n",
    "                v. Find the tangent and tan inverse,Depending on the variables given.\n",
    "            2. if length of either sides:       \n",
    "                1. ask the user how many sides are given and how many angles        \n",
    "                    i. Expected inputs: 2 angles 1 side,3 angles 2 sides,1 side and 2 sides.        \n",
    "                    ii. The answer will be calculated following the sine and cosine rules"
   ]
  },
  {
   "cell_type": "code",
   "execution_count": 2,
   "metadata": {},
   "outputs": [
    {
     "ename": "IndentationError",
     "evalue": "expected an indented block after 'if' statement on line 66 (3258252629.py, line 68)",
     "output_type": "error",
     "traceback": [
      "\u001b[0;36m  Cell \u001b[0;32mIn[2], line 68\u001b[0;36m\u001b[0m\n\u001b[0;31m    def main():\u001b[0m\n\u001b[0m               ^\u001b[0m\n\u001b[0;31mIndentationError\u001b[0m\u001b[0;31m:\u001b[0m expected an indented block after 'if' statement on line 66\n"
     ]
    }
   ],
   "source": [
    "#import necessary libraries\n",
    "import math\n",
    "from IPython.display import clear_output\n",
    "#create functions to do the calculations\n",
    "done = False\n",
    "#lets create a function to handle right-angled triangle\n",
    "def rigthAngledTriangle():\n",
    "    try:\n",
    "        choice = input(\"Kindly type in words\\n1. sine\\2. cosine\\3. tangent\\n4. side measurement\\area\\5. Quit\\n\").lower()\n",
    "        if choice == \"area\" or choice==\"side measurement\":\n",
    "            opt=input(\"Which sides have you been given\\n1. height and base\\n2. hypotenuse and base\\n3. hypotenuse and height\")\n",
    "            if opt==\"height and base\":\n",
    "                base = float(input(\"Enter the base\"))\n",
    "                height=float(input(\"Enter the height\"))\n",
    "                clear_output()\n",
    "                #the lenghts are calculated using the pythogaras theorem\n",
    "                hy = (base**2)+(height**2)\n",
    "                hypotenuse = math.sqrt(hy)#Calculating the hypotenuse\n",
    "                area = 0.5*base*height\n",
    "                print(f\"Hypotenuse = {hypotenuse}\\nArea = [{area}]\")\n",
    "            elif opt==\"hypotenuse and base\":\n",
    "                base = float(input(\"Enter the height\\n\"))\n",
    "                hypotenuse = float(input(\"Enter the Hypotenuse\\n\"))\n",
    "                clear_output()\n",
    "                h=(hypotenuse**2)-(base**2)\n",
    "                height = math.sqrt(h)#Calculating the height\n",
    "                area = 0.5*base*height\n",
    "                print(f\"Height = {height}\\nArea = [{area}]\")\n",
    "\n",
    "            elif opt==\"hypotenuse and height\":\n",
    "                height = float(input(\"Enter the height : \"))\n",
    "                hypotenuse = float(input(\"Enter the hypotenuse : \"))\n",
    "                clear_output()\n",
    "                b=(hypotenuse**2)-(height**2)\n",
    "                base = math.sqrt(b)#Calculating the base\n",
    "                area = 0.5*base*height\n",
    "                print(f\"Base length = {base}\\nArea = [{area}]\")\n",
    "            else:\n",
    "                print(\"kindly check your input and try again\")\n",
    "        elif choice==\"sine\":\n",
    "            opposite = float(input(\"input the opposite side measurement : \"))\n",
    "            hypotenuse = float(input(\"Enter the hypotenuse : \"))\n",
    "            clear_output()\n",
    "            sin = opposite/hypotenuse\n",
    "            print(f\"Sine of the given angle is : {sin}\")\n",
    "        elif choice==\"cosine\":\n",
    "            adjacent = float(input(\"input the side adjacent to the angle : \"))\n",
    "            hypotenuse = float(input(\"Enter the hypotenuse : \"))\n",
    "            cos = adjacent/hypotenuse\n",
    "            clear_output()\n",
    "            print(f\"Cosine of the angle is : {cos}\")\n",
    "        elif choice==\"tangent\":\n",
    "            opposite = float(input(\"input the opposite side measurement : \"))\n",
    "            adjacent = float(input(\"input the side adjacent to the angle : \"))\n",
    "            tan = opposite/adjacent\n",
    "            clear_output()\n",
    "            print(f\"Tangent of the given angle is : {tan}\")\n",
    "        elif choice==\"quit\":\n",
    "            clear_output()\n",
    "            print(\"Thank you for using this application\\nCode written by the great Prof Angera\")\n",
    "            done=True\n",
    "        else:\n",
    "            clear_output()\n",
    "            print(\"Wrong input....try again\\nMake sure you type in words and not numbers\")\n",
    "    except:\n",
    "            print(\"Kindly use the correct values\")\n",
    "def Fibonicci():\n",
    "    choice = input(\"What would you like to calculate?\\n1. size of angle\\n2. length of side\\n\")\n",
    "    if choice==\"size of angle\":\n",
    "        option = input(\"Dimensions given\\n1.For One angle,Two sides type One\\n3.For One angle,Three side type Three\\n\").lower()\n",
    "        if option==\"one\":\n",
    "            try:\n",
    "                angle1=float(input(\"Enter the Size of angle given : \"))\n",
    "                side1=float(input(\"Enter the length of the side Opposite to the angle entered : \"))\n",
    "                side2=float(input(\"Enter the Other side given : \"))\n",
    "                clear_output()\n",
    "                angle2 = (math.sin(angle1)*side2)/side1\n",
    "                angle3 = 180-angle1-angle2\n",
    "                side3 = (math.sin(angle3)*side1)/math.sin(angle1)\n",
    "            except:\n",
    "                print(\"Kindly enter the correct inputs\")\n",
    "        elif option==\"three\":\n",
    "            angle1=float(input(\"Enter the size of the angle given : \"))\n",
    "            side1=float(input(\"Enter the length of the side Directly opposite to the angle given\\n\"))\n",
    "            side2=float(input(\"Enter the length of other adjacent side : \"))\n",
    "            side3=float(input(\"Enter the length of other adjacent side : \"))\n",
    "            angle2 = ((side2**2)-(side1**2)-(side3**2))/(2*side1*side3)\n",
    "            \n",
    "def main():\n",
    "    while not done:\n",
    "        triangle = input(\"Choose type of triangle\\n1. Right angled\\n2. Quit\\n\").lower()\n",
    "        if triangle==\"right angled\":\n",
    "            rigthAngledTriangle()\n",
    "        elif triangle==\"quit\":\n",
    "            clear_output()\n",
    "            print(\"Thank you for using this applition\\nCode Written by Prof angera\")\n",
    "            break\n",
    "        else:\n",
    "            clear_output()\n",
    "            print(\"We are sorry this part is still under development\")\n",
    "main()"
   ]
  },
  {
   "cell_type": "markdown",
   "metadata": {},
   "source": [
    "# Modules"
   ]
  },
  {
   "cell_type": "markdown",
   "metadata": {},
   "source": [
    " > A module is a collection of statements in which we store functions,classes and variable.\n",
    " > it acts as a library where we can store our functions and use them as per our requirements"
   ]
  },
  {
   "cell_type": "markdown",
   "metadata": {},
   "source": [
    "## Creating a module"
   ]
  },
  {
   "cell_type": "markdown",
   "metadata": {},
   "source": [
    "create a new file and save it with a .py extension, write your functions in it."
   ]
  },
  {
   "cell_type": "markdown",
   "metadata": {},
   "source": [
    "## Including the module to our code"
   ]
  },
  {
   "cell_type": "markdown",
   "metadata": {},
   "source": [
    "There are two ways of including the file\n",
    "1. import statement\n",
    "2. from import statement\n",
    "\n",
    "### import Statement\n",
    "a. we can import multiple modules in one statement.  i.e import module1,module2,module3,.........module n\n",
    "b. The import keyword is used.    example   import csv,math,myMathmodule\n",
    "\n",
    "### from import statement\n",
    "a. used when we want to include a specific module to a program\n",
    "b. example    from math import sqrt"
   ]
  },
  {
   "cell_type": "markdown",
   "metadata": {},
   "source": [
    "## Renaming a module\n",
    "\n",
    "we can rename a module using a keyword.\n",
    "\n",
    "syntax:  import <old_module_name> as <new_module_name>             \n",
    "\n",
    "example:  import pandas as pd\n",
    "\n",
    "## dir() function\n",
    "is a function used to return list of all variables,functions in a given module."
   ]
  },
  {
   "cell_type": "code",
   "execution_count": 5,
   "metadata": {},
   "outputs": [
    {
     "name": "stdout",
     "output_type": "stream",
     "text": [
      "Enter the first interger : 12\n",
      "Enter the second interger : 13\n",
      "Sum 25\n"
     ]
    }
   ],
   "source": [
    "import myMathmodule\n",
    "a = int(input(\"Enter the first interger : \"))\n",
    "b = int(input(\"Enter the second interger : \"))\n",
    "myMathmodule.add(a,b)"
   ]
  },
  {
   "cell_type": "code",
   "execution_count": 17,
   "metadata": {
    "scrolled": true
   },
   "outputs": [
    {
     "name": "stdout",
     "output_type": "stream",
     "text": [
      "No\tSquare\tCube\n",
      "1\t1\t1\n",
      "2\t4\t8\n",
      "3\t9\t27\n",
      "4\t16\t64\n",
      "5\t25\t125\n",
      "6\t36\t216\n",
      "7\t49\t343\n",
      "8\t64\t512\n",
      "9\t81\t729\n",
      "10\t100\t1000\n"
     ]
    }
   ],
   "source": [
    "from myMathmodule import square,cube\n",
    "list_a = [9,8,7,6,5,4,3,2,1,2,3,4,8,7,6,5,4,10,10,10]\n",
    "list_b=[]\n",
    "list_a.sort()\n",
    "for n in list_a:\n",
    "    if n not in list_b:\n",
    "        list_b.append(n)\n",
    "print(\"No\\tSquare\\tCube\")\n",
    "for j in list_b:\n",
    "    s=square(j)\n",
    "    c= cube(j)\n",
    "    print(f\"{j}\\t{s}\\t{c}\")"
   ]
  },
  {
   "cell_type": "markdown",
   "metadata": {},
   "source": [
    "# Class and Objects"
   ]
  },
  {
   "cell_type": "markdown",
   "metadata": {},
   "source": [
    "I wanna create a class of a simple mathematical calculator\n",
    "\n",
    "I will use one class but different methods to perform calculations\n"
   ]
  },
  {
   "cell_type": "markdown",
   "metadata": {},
   "source": [
    "### Steps and Pseudocode"
   ]
  },
  {
   "cell_type": "markdown",
   "metadata": {},
   "source": [
    "The code has three functions:\n",
    "1. Taking the values from the user\n",
    "2. Performing the calculations\n",
    "3. returning the results\n",
    "\n",
    "This will be achieved by the following important steps:\n",
    "1. Create a class to be used,lets give our class the name calculator\n",
    "2. Inside the Calculator() class create getters and setters i.e attributes that will hold values from the user\n",
    "3. Create different methods to perform calculations\n",
    "\n",
    "#### pseudocode\n",
    "1. start\n",
    "2. Take a choice form the user\n",
    "    1. Choices - add,subtract,multiply,divide and quit\n",
    "    \n",
    "       1. if choice is quit: - the program will be terminated, Otherwise\n",
    "           The program is designed in such a way that it cannot be terminated unless you choose an option quit.\n",
    "           This was done by introducing a while loop that relies its condition on a boolean datatype done.\n",
    "       2. if choice is subtract or divide , the user will be warned to be careful with the order of numbers because they wont change\n",
    "       3. if choice is add or multiply the calculations will be done\n",
    "       4. The program only takes in numerical values"
   ]
  },
  {
   "cell_type": "code",
   "execution_count": 6,
   "metadata": {},
   "outputs": [
    {
     "name": "stdout",
     "output_type": "stream",
     "text": [
      "Thank you for using our services, you can share your experience with others\n",
      "Code provided to you by Prof Angera\n"
     ]
    }
   ],
   "source": [
    "from IPython.display import clear_output\n",
    "class Calculator():\n",
    "    def __init__(self,num1,num2):\n",
    "        self.num1 = float(num1)\n",
    "        self.num2 = float(num2)\n",
    "    def add(self):\n",
    "        return self.num1+self.num2\n",
    "    def subtract(self):\n",
    "        return self.num1-self.num2\n",
    "    def multiply(self):\n",
    "        return self.num1*self.num2\n",
    "    def division(self):\n",
    "        return self.num1/self.num2\n",
    "    def remainder(self):\n",
    "        return self.num1%self.num2\n",
    "done = False\n",
    "while not done:\n",
    "    choice = input(\"What would you wish to calculate.?\\n1. add\\n2. subtract\\n3. multiply\\n4. division\\n5. Quit\\n\").lower()\n",
    "    clear_output()\n",
    "    try:\n",
    "        if choice ==\"quit\":\n",
    "            print(\"Thank you for using our services, you can share your experience with others\\nCode provided to you by Prof Angera\")\n",
    "            break\n",
    "        elif choice==\"add\":\n",
    "            num1=input(\"Enter the First Value : \")\n",
    "            num2=input(\"Enter the second value : \")\n",
    "            clear_output()\n",
    "            calc = Calculator(num1,num2)\n",
    "            print(f\"Sum is {calc.add()}\")\n",
    "\n",
    "        elif choice ==\"subtract\":\n",
    "            print(\"Be very keen as the order of numbers wont change\")\n",
    "            num1=input(\"Enter the First Value : \")\n",
    "            num2=input(\"Enter the second value : \")\n",
    "            clear_output()\n",
    "            calc = Calculator(num1,num2)\n",
    "            print(f\"Difference is {calc.subtract()}\")\n",
    "\n",
    "        elif choice==\"multiply\":\n",
    "            num1=input(\"Enter the First Value : \")\n",
    "            num2=input(\"Enter the second value : \")\n",
    "            clear_output()\n",
    "            calc = Calculator(num1,num2)\n",
    "            print(f\"Product is {calc.multiply()}\")\n",
    "\n",
    "        elif choice ==\"division\":\n",
    "            print(\"Be very keen as the order of numbers wont change\")\n",
    "            num1=input(\"Enter the Dividend : \")\n",
    "            num2=input(\"Enter the Divisor : \")\n",
    "            clear_output()\n",
    "            calc = Calculator(num1,num2)\n",
    "            print(f\"Quotient is {calc.division()}\\nRemainder is {calc.remainder()}\")\n",
    "        else:\n",
    "            print(\"Enter an invalid input\")\n",
    "    except:\n",
    "        print(\"oops an internal error occured,please try again\")"
   ]
  },
  {
   "cell_type": "markdown",
   "metadata": {},
   "source": [
    "### The code below draws a multiplication table of 10 columns by n rows"
   ]
  },
  {
   "cell_type": "code",
   "execution_count": 12,
   "metadata": {},
   "outputs": [
    {
     "name": "stdout",
     "output_type": "stream",
     "text": [
      "Input any value : 20\n",
      "1\t2\t3\t4\t5\t6\t7\t8\t9\t10\n",
      "2\t4\t6\t8\t10\t12\t14\t16\t18\t20\n",
      "3\t6\t9\t12\t15\t18\t21\t24\t27\t30\n",
      "4\t8\t12\t16\t20\t24\t28\t32\t36\t40\n",
      "5\t10\t15\t20\t25\t30\t35\t40\t45\t50\n",
      "6\t12\t18\t24\t30\t36\t42\t48\t54\t60\n",
      "7\t14\t21\t28\t35\t42\t49\t56\t63\t70\n",
      "8\t16\t24\t32\t40\t48\t56\t64\t72\t80\n",
      "9\t18\t27\t36\t45\t54\t63\t72\t81\t90\n",
      "10\t20\t30\t40\t50\t60\t70\t80\t90\t100\n",
      "11\t22\t33\t44\t55\t66\t77\t88\t99\t110\n",
      "12\t24\t36\t48\t60\t72\t84\t96\t108\t120\n",
      "13\t26\t39\t52\t65\t78\t91\t104\t117\t130\n",
      "14\t28\t42\t56\t70\t84\t98\t112\t126\t140\n",
      "15\t30\t45\t60\t75\t90\t105\t120\t135\t150\n",
      "16\t32\t48\t64\t80\t96\t112\t128\t144\t160\n",
      "17\t34\t51\t68\t85\t102\t119\t136\t153\t170\n",
      "18\t36\t54\t72\t90\t108\t126\t144\t162\t180\n",
      "19\t38\t57\t76\t95\t114\t133\t152\t171\t190\n",
      "20\t40\t60\t80\t100\t120\t140\t160\t180\t200\n"
     ]
    }
   ],
   "source": [
    "class table():\n",
    "    def __init__(self,num):\n",
    "        self.num = int(num)\n",
    "    def draw(self):\n",
    "        for i in range(1,self.num+1):\n",
    "            print(f\"{i*1}\\t{i*2}\\t{i*3}\\t{i*4}\\t{i*5}\\t{i*6}\\t{i*7}\\t{i*8}\\t{i*9}\\t{i*10}\")\n",
    "try:\n",
    "    num = input(\"Input any value : \")\n",
    "    tab = table(num)\n",
    "    tab.draw()\n",
    "except:\n",
    "    ptint(\"An error occured\")\n",
    "    "
   ]
  },
  {
   "cell_type": "markdown",
   "metadata": {},
   "source": [
    "### Using the concept of super() method , write a program that will take input from the user and store it in a dictionary or a list or both"
   ]
  },
  {
   "cell_type": "code",
   "execution_count": 24,
   "metadata": {},
   "outputs": [
    {
     "name": "stdout",
     "output_type": "stream",
     "text": [
      "Name\tSilas Angera\n",
      "Reg_no\tBBIT/MG/2545/09/21\n",
      "school\tBusiness and Economics\n",
      "Department\tCommerce\n",
      "Degree Awarded\tBBIT\n",
      "Curent Units\n",
      "ACCT 314\n",
      "BMGT 314\n",
      "BBIT 215\n",
      "BBIT 223\n",
      "BBIT 313\n",
      "BBIT 323\n",
      "MKTG 313\n"
     ]
    }
   ],
   "source": [
    "#The program takes basic information about a student and stores in a dictionary, \n",
    "# also it takes the units done  by the student.\n",
    "#stores in a list and finally it displays the data.\n",
    "# i have used the concept of inheriting using super() method.\n",
    "class Student():\n",
    "    def __init__(self,student,courses, unit, number_of_units):\n",
    "        \n",
    "        #Declaring a variable that will carry student information\n",
    "        self.student = student \n",
    "        self.number_of_units = number_of_units\n",
    "        self.unit = unit\n",
    "        self.courses = courses\n",
    "        \n",
    "# Deriving a class form Student to hold student info       \n",
    "class Info(Student): \n",
    "    def __init__(self, student, courses, unit, number_of_units):\n",
    "        # Using a super method\n",
    "        super().__init__(student, courses, unit, number_of_units)\n",
    "        \n",
    "        # Taking values from the user and keeping in a dictionary\n",
    "        for key,value in self.student.items():\n",
    "            value = input(f\"Enter {key}\") \n",
    "            self.student.update({key:value})\n",
    "    \n",
    "    def studinfo(self):\n",
    "        #Displaying the information entered by the user\n",
    "        for key,value in self.student.items():\n",
    "            print(f\"{key}\\t{value}\")\n",
    "    #Taking information about units and Displaying\n",
    "    def units(self):\n",
    "        self.number_of_units = int(input(\"How many units are you currently taking\"))\n",
    "        for i in range(self.number_of_units):\n",
    "            self.unit = input(f\"Enter Unit code {i+1}\")\n",
    "            self.courses.append(self.unit)#Adding courses to the list\n",
    "        print(\"Curent Units\")\n",
    "        self.courses.sort()\n",
    "        for i in self.courses:\n",
    "            print(i)\n",
    "student = {\"Name\":\"\",\"Reg_no\":\"\",\"school\":\"\",\"Department\":\"\",\"Degree Awarded\":\"\"}\n",
    "courses = []\n",
    "unit = ''\n",
    "number_of_units = 0\n",
    "stud1 = Info(student,courses,unit,number_of_units)\n",
    "stud1.studinfo()\n",
    "stud1.units()"
   ]
  },
  {
   "cell_type": "markdown",
   "metadata": {},
   "source": [
    "## A program to calculate the volume of a sphere"
   ]
  },
  {
   "cell_type": "code",
   "execution_count": 6,
   "metadata": {},
   "outputs": [
    {
     "name": "stdout",
     "output_type": "stream",
     "text": [
      "***Thank you for using our product\n",
      "***Code provided by Prof Angera Silas\n"
     ]
    }
   ],
   "source": [
    "#The program calculates volume of sphere and cone.\n",
    "# it takes input from the user,calculates and returns the answer\n",
    "# in the main body the user is given three choice, where he is supposed to choose one\n",
    "# Either quit,cone or sphere\n",
    "# if choice is quit , the program is terminated.\n",
    "from IPython.display import clear_output\n",
    "try:\n",
    "    class Sphere:\n",
    "        PI = 3.142\n",
    "        def __init__(self,radius):\n",
    "            self.radius = radius\n",
    "    class Volume(Sphere):\n",
    "        def __init__(self, radius):\n",
    "            super().__init__(radius)\n",
    "        def getvol(self):\n",
    "            self.radius = float(input(\"Enter the radius of the Sphere\"))\n",
    "            clear_output()\n",
    "            return self.PI*(4/3)*(self.radius**3)\n",
    "        \n",
    "    class Cone(Sphere):\n",
    "        def __init__(self, radius, height):\n",
    "            super().__init__(radius)\n",
    "            self.height = height\n",
    "        def getvol(self):\n",
    "            self.radius = float(input(\"Enter the radius of the cone\"))\n",
    "            self.height=float(input(\"Enter the height of the cone\"))\n",
    "            clear_output()\n",
    "            return self.height*(4/3)*(self.radius**2)*self.PI\n",
    "    radius = 0\n",
    "    height = 0\n",
    "    done = False\n",
    "    while not done:\n",
    "        clear_output()\n",
    "        choice = input(\"What shape do you wish to calculate its volume.?\\n1. sphere\\n2. cone\\n3. Quit\").lower()\n",
    "        if choice == \"sphere\":\n",
    "            obj1 = Volume(radius)\n",
    "            print(f\"Volume of the sphere is [{obj1.getvol()}]\")\n",
    "        elif choice == \"cone\":\n",
    "            obj2=Cone(radius,height)\n",
    "            print(f\"Volume of the cone is [{obj2.getvol()}]\")\n",
    "        elif choice==\"quit\":\n",
    "            print(\"***Thank you for using our product\\n***Code provided by Prof Angera Silas\")\n",
    "            break\n",
    "        else:\n",
    "            print(\"Invalid input...Try again\")\n",
    "except:\n",
    "    print(\"An error occured....try again later\")"
   ]
  },
  {
   "cell_type": "markdown",
   "metadata": {},
   "source": [
    "# Advanced Topics 1 : Efficiency"
   ]
  },
  {
   "cell_type": "code",
   "execution_count": 4,
   "metadata": {},
   "outputs": [
    {
     "name": "stdout",
     "output_type": "stream",
     "text": [
      "[1, 2, 3, 4, 5, 6, 7, 8, 9]\n"
     ]
    }
   ],
   "source": [
    "# List comprehension\n",
    "nums = [1,2,3,4,5,6,7,8,9]\n",
    "numbers = [num for num in nums]\n",
    "print(numbers)"
   ]
  },
  {
   "cell_type": "code",
   "execution_count": 5,
   "metadata": {},
   "outputs": [
    {
     "name": "stdout",
     "output_type": "stream",
     "text": [
      "[2, 4, 6, 8, 10, 12, 14, 16, 18]\n"
     ]
    }
   ],
   "source": [
    "even_numbers = [i for i in range(1,20) if i%2==0]\n",
    "print(even_numbers)"
   ]
  },
  {
   "cell_type": "code",
   "execution_count": 11,
   "metadata": {},
   "outputs": [
    {
     "name": "stdout",
     "output_type": "stream",
     "text": [
      "{20: 0.2, 50: 0.5, 80: 0.8, 90: 0.9}\n"
     ]
    }
   ],
   "source": [
    "scores=[20,50,80,90]\n",
    "score = {marks:marks*0.01 for marks in scores}#compressing a list into a dictionary\n",
    "print(score)"
   ]
  },
  {
   "cell_type": "markdown",
   "metadata": {},
   "source": [
    "The above examples above describes how we can use list comprehension to do tasks"
   ]
  },
  {
   "cell_type": "markdown",
   "metadata": {},
   "source": [
    "Lets move on and see how we can use lambda functions(anonymous functions)"
   ]
  },
  {
   "cell_type": "markdown",
   "metadata": {},
   "source": [
    "### Lambda functions"
   ]
  },
  {
   "cell_type": "markdown",
   "metadata": {},
   "source": [
    "if for example we have been given two sides of a right_angled triangle and we want to get the third side"
   ]
  },
  {
   "cell_type": "code",
   "execution_count": 1,
   "metadata": {},
   "outputs": [
    {
     "name": "stdout",
     "output_type": "stream",
     "text": [
      "Thank you for using this application \n",
      "Developer : Prof Angera\n"
     ]
    }
   ],
   "source": [
    "from IPython.display import clear_output\n",
    "import math\n",
    "done = False\n",
    "while not done:\n",
    "    choice = input(\"Which side do you want to calculate?\\n1. Base\\n2. Height\\n3. Hypotenuse\\n4. Quit\\n\").lower()\n",
    "    clear_output()\n",
    "    try:\n",
    "        if choice ==\"quit\":\n",
    "            print(\"Thank you for using this application \\nDeveloper : Prof Angera\")\n",
    "            break\n",
    "        elif choice == \"base\":\n",
    "            hy = float(input(\"Enter the hypotenuse\\n\"))\n",
    "            h = float(input(\"Enter the height\\n\"))\n",
    "            clear_output()\n",
    "            base = (lambda hy,h:math.sqrt((hy**2)-(h**2)))(hy,h)\n",
    "            print(f\"Base : [{base}]\\nHeight : [{h}]\\nHypotenuse : [{hy}]\")\n",
    "        elif choice == \"height\":\n",
    "            hy= float(input(\"Enter the hypotenuse\\n\"))\n",
    "            b = float(input(\"Enter the base\\n\"))\n",
    "            clear_output()\n",
    "            height = (lambda hy,h:math.sqrt((hy**2)-(b**2)))(hy,b)\n",
    "            print(f\"Height : [{height}]\\nHypotenuse : [{hy}]\\nBase : [{b}]\")\n",
    "        elif choice ==\"hypotenuse\":\n",
    "            b = float(input(\"Enter the base\\n\"))\n",
    "            h = float(input(\"Enter the height\\n\"))\n",
    "            clear_output()\n",
    "            hypotenuse = (lambda b,h:math.sqrt((b**2)+(h**2)))(b,h)\n",
    "            print(f\"Hypotenuse : [{hypotenuse}]\\nBase : [{b}] \\nHeight : [{h}]\")\n",
    "        else:\n",
    "            print(\"wrong choice...try again later\")\n",
    "    except:\n",
    "        print(\"sorry an internal error occured\")"
   ]
  },
  {
   "cell_type": "markdown",
   "metadata": {},
   "source": [
    "### Map function"
   ]
  },
  {
   "cell_type": "code",
   "execution_count": 4,
   "metadata": {},
   "outputs": [
    {
     "name": "stdout",
     "output_type": "stream",
     "text": [
      "[1, 4, 9, 16, 25, 36, 49, 64, 81, 100]\n"
     ]
    }
   ],
   "source": [
    "# We want to calculate the squares of the following dataset\n",
    "numbers = [1,2,3,4,5,6,7,8,9,10]\n",
    "squared = list(map(lambda x: x**2,numbers))\n",
    "print(squared)"
   ]
  },
  {
   "cell_type": "markdown",
   "metadata": {},
   "source": [
    "### Filter function\n",
    "lets say we want to get to a specific number like below 50 alone.    we will have to add a contol statement to filter out the unwanted data"
   ]
  },
  {
   "cell_type": "code",
   "execution_count": 17,
   "metadata": {},
   "outputs": [
    {
     "name": "stdout",
     "output_type": "stream",
     "text": [
      "[1, 4, 9, 16, 25, 36, 49]\n"
     ]
    }
   ],
   "source": [
    "numbers = [1,2,3,4,5,6,7,8,9,10]\n",
    "squared = list(map(lambda x:x**2,numbers))\n",
    "new_squared = list(filter(lambda i: True if i<=50 else False,squared))\n",
    "print(new_squared)"
   ]
  },
  {
   "cell_type": "code",
   "execution_count": 6,
   "metadata": {},
   "outputs": [
    {
     "name": "stdout",
     "output_type": "stream",
     "text": [
      "[7, 14, 21, 28, 35, 42, 49, 56, 63, 70, 77, 84, 91, 98]\n",
      "[49, 196, 441, 784, 1225, 1764, 2401, 3136, 3969, 4900, 5929, 7056, 8281, 9604]\n",
      "[196, 441, 784]\n"
     ]
    }
   ],
   "source": [
    "seven = [x for x in range(1,100) if x%7==0]\n",
    "print(seven)\n",
    "squared = list(map(lambda x: x**2,seven))\n",
    "filtered = list(filter(lambda x: True if x>100 and x<1000 else False,squared))\n",
    "print(squared)\n",
    "print(filtered)"
   ]
  },
  {
   "cell_type": "code",
   "execution_count": 9,
   "metadata": {},
   "outputs": [
    {
     "name": "stdout",
     "output_type": "stream",
     "text": [
      "Total time taken : 0.010560750961303711\n",
      "[103424, 109882, 126128, 140582, 168118, 184356, 218740, 221326, 223028, 235382, 240900, 247690, 249650, 261846, 262486, 267952, 269510, 295970, 312682, 319294, 329604, 330994, 332326, 341590, 354804, 369956, 383676, 413688, 420464, 447288, 469888, 470530, 476588, 502670, 503536, 529016, 553950, 562446, 572234, 573148, 573906, 575912, 601346, 608308, 614152, 618800, 630060, 652076, 653132, 653220, 656352, 661202, 664100, 664832, 669176, 673786, 695494, 714480, 714562, 714888, 722808, 724334, 724732, 734660, 742844, 762528, 762550, 768816, 769708, 778270, 789680, 794386, 801172, 818332, 828948, 837186, 840880, 844512, 854598, 903276, 907480, 927226, 929706, 945022, 947114, 947218, 952834, 956296, 957738, 966962, 969174, 972980, 987468, 1009210, 1010580, 1026386, 1030496, 1033640, 1039486, 1051610, 1057312, 1065998, 1067386, 1093930, 1116948, 1117446, 1122316, 1123864, 1130000, 1133116, 1137626, 1140412, 1169890, 1223596, 1242774, 1244212, 1247954, 1249490, 1259016, 1261468, 1263004, 1268162, 1273382, 1282742, 1284910, 1286744, 1313048, 1313168, 1314498, 1316680, 1322344, 1323408, 1324792, 1330538, 1339252, 1351894, 1364308, 1371040, 1415296, 1420590, 1431906, 1438530, 1448138, 1452766, 1457024, 1461770, 1469206, 1475604, 1478552, 1502130, 1531590, 1536594, 1542324, 1544732, 1549230, 1570492, 1575568, 1581378, 1596052, 1596884, 1597116, 1612874, 1613872, 1625604, 1625856, 1630958, 1634260, 1671906, 1675566, 1703156, 1739028, 1764126, 1766196, 1770054, 1786048, 1796888, 1820976, 1831964, 1838272, 1839084, 1849986, 1851154, 1854320, 1863906, 1899388, 1900904, 1902516, 1904818, 1929352, 1930768, 1946876, 1952298, 1954374, 1959786, 1992266, 2003410, 2009560, 2022706, 2028018, 2034020, 2034222, 2042262, 2047632, 2052978, 2062702, 2071430, 2072358, 2081602, 2092456, 2112000, 2115164, 2129522, 2133476, 2138268, 2145790, 2149162, 2191040, 2196478, 2203910, 2209254, 2223154, 2232758, 2244902, 2245342, 2249208, 2252532, 2253080, 2253416, 2264930, 2276776, 2299594, 2314994, 2333312, 2390566, 2407134, 2409868, 2410482, 2416686, 2418218, 2421778, 2423882, 2462026, 2470200, 2477860, 2489868, 2489914, 2496202, 2496588, 2505056, 2506490, 2521394, 2531874, 2533628, 2543436, 2545968, 2547618, 2550014, 2553872, 2554180, 2574012, 2585356, 2590114, 2606508, 2611842, 2621354, 2631822, 2644916, 2649614, 2675638, 2676728, 2677334, 2679834, 2680092, 2682050, 2695526, 2702130, 2706196, 2720878, 2721894, 2724486, 2733036, 2739708, 2748832, 2750848, 2769666, 2769878, 2772830, 2774336, 2776020, 2780410, 2781386, 2787096, 2796654, 2797920, 2800638, 2813364, 2819070, 2819748, 2825862, 2829002, 2829172, 2860538, 2860698, 2876348, 2888122, 2897504, 2915044, 2936100, 2936750, 2938780, 2962960, 2966196, 2972518, 2980636, 2985010, 2989136, 2993396, 3003786, 3005300, 3007992, 3015800, 3037104, 3038454, 3053304, 3062950, 3069832, 3089478, 3091092, 3105478, 3119796, 3150156, 3154714, 3180156, 3183196, 3203444, 3211714, 3215260, 3228252, 3241804, 3264158, 3269432, 3288700, 3289872, 3297418, 3300520, 3303864, 3310224, 3315358, 3320296, 3335412, 3336960, 3359082, 3365288, 3368814, 3373550, 3419734, 3425750, 3427816, 3432444, 3436026, 3452380, 3454554, 3457206, 3465960, 3473216, 3486444, 3498362, 3501638, 3548454, 3572342, 3590902, 3591572, 3607166, 3632348, 3636878, 3644002, 3647328, 3653574, 3656896, 3665824, 3669676, 3673404, 3683738, 3686662, 3691068, 3699254, 3712110, 3713200, 3726666, 3728494, 3732474, 3736008, 3743706, 3752560, 3754180, 3765518, 3768328, 3781414, 3785164, 3794252, 3829534, 3839796, 3853546, 3886012, 3893350, 3893714, 3897430, 3905458, 3928144, 3944654, 3990620, 4001486, 4033464, 4035904, 4036426, 4045462, 4060752, 4063230, 4087188, 4092480, 4093570, 4095740, 4122592, 4159938, 4175582, 4184096, 4189202, 4193212, 4199432, 4201506, 4205298, 4208382, 4220912, 4232622, 4234748, 4241730, 4260320, 4274898, 4278304, 4293204, 4300970, 4302084, 4305792, 4307710, 4322936, 4327040, 4332584, 4338160, 4344174, 4357972, 4361566, 4368206, 4387342, 4388842, 4398398, 4402054, 4408410, 4412520, 4440592, 4481854, 4483376, 4483916, 4490642, 4499250, 4505342, 4515188, 4518942, 4519532, 4526722, 4546522, 4549122, 4578844, 4591216, 4592150, 4596376, 4599360, 4603338, 4611064, 4619040, 4619360, 4627096, 4628066, 4631496, 4631658, 4646990, 4672610, 4698522, 4718922, 4722568, 4733800, 4755746, 4766062, 4776080, 4781796, 4782212, 4782906, 4791394, 4810018, 4812462, 4827798, 4835180, 4840264, 4849324, 4855728, 4861188, 4883320, 4886786, 4909606, 4910336, 4913606, 4913930, 4916990, 4941568, 4945962, 4958240, 4980358, 4992852, 4999432]\n"
     ]
    }
   ],
   "source": [
    "from random import randint as r\n",
    "from functools import lru_cache\n",
    "import time as t\n",
    "start = t.time()\n",
    "nums = [r(100000,5000000) for i in range(1000)]\n",
    "even = list(filter(lambda x: True if x%2 == 0 else False,nums))\n",
    "even_n = []\n",
    "for i in even:\n",
    "    if i not in even_n:\n",
    "        even_n.append(i)\n",
    "even_n.sort()\n",
    "stop = t.time()-start\n",
    "print(\"Total time taken : {}\".format(stop))\n",
    "print(even_n)"
   ]
  },
  {
   "cell_type": "markdown",
   "metadata": {},
   "source": [
    "# Python-MySQL"
   ]
  },
  {
   "cell_type": "markdown",
   "metadata": {},
   "source": [
    "## Connecting to mysql-server\n",
    "\n",
    "### Prerequisites\n",
    "1. Python\n",
    "    \n",
    "    Python programming language can be installed by visiting the official site python.org for windows users. For linux the system comes with the latest version of python\n",
    "2. MySQL Server\n",
    "    \n",
    "    Can be downloaded and installed for windows users.\n",
    "    \n",
    "    For linux users run the following command sudo apt-get install mysql-server\n",
    "3. Python-mysql connector\n",
    "       \n",
    "      Install by running the following command on terminal: pip install python-mysql connector\n",
    "\n",
    "After you have installed the above components, you are set to go.\n",
    "\n",
    "### Steps of Connecting to server\n",
    "1. Open a new file and save it as a python file(with .py extension)\n",
    "2. Import the connector i.e import mysql.connector\n",
    "3. Input your credentials you used to configure mysql server\n",
    "4. Create a cursor to navigate over the server\n",
    "5. Using the cursor execute commands\n",
    "\n",
    "The steps are illustrated below:"
   ]
  },
  {
   "cell_type": "code",
   "execution_count": 10,
   "metadata": {},
   "outputs": [
    {
     "name": "stdout",
     "output_type": "stream",
     "text": [
      "('Mypracticals',)\n",
      "('information_schema',)\n",
      "('mysql',)\n",
      "('performance_schema',)\n",
      "('sys',)\n",
      "('web',)\n"
     ]
    }
   ],
   "source": [
    "import mysql.connector\n",
    "mydb = mysql.connector.connect(\n",
    "host=\"localhost\",\n",
    "user=\"root\",\n",
    "password=\"\"\n",
    ")\n",
    "mycursor = mydb.cursor()\n",
    "#we can create a database\n",
    "mycursor.execute(\"CREATE DATABASE Mypracticals\")\n",
    "# to make the changes permanent we have to commit\n",
    "mydb.commit()\n",
    "# if we try to run the show databases command\n",
    "sql = \"SHOW DATABASES\"\n",
    "mycursor.execute(sql)\n",
    "# we loop over mycursor to display the databases one after another\n",
    "for i in mycursor:\n",
    "    print(i)"
   ]
  },
  {
   "cell_type": "markdown",
   "metadata": {},
   "source": [
    "We have successfully created a connection to the server and created a database\n",
    "\n",
    "Now we want to connect to our database and perhaps that leads us to our next topic to create tables\n",
    "\n",
    "### Create table"
   ]
  },
  {
   "cell_type": "code",
   "execution_count": 1,
   "metadata": {},
   "outputs": [],
   "source": [
    "#To connect to a database we have to include it to the credentials\n",
    "import mysql.connector\n",
    "mydb = mysql.connector.connect(\n",
    "    host=\"localhost\",\n",
    "    user=\"root\",\n",
    "    password=\"\",\n",
    "    database = \"Mypracticals\"\n",
    ")\n",
    "mycursor = mydb.cursor()\n",
    "# we can create a table\n",
    "sql = \"CREATE TABLE student_info(RegNo VARCHAR(30) PRIMARY KEY,Name CHAR(50) NOT NULL)\"\n",
    "mycursor.execute(sql)\n",
    "mydb.commit()"
   ]
  },
  {
   "cell_type": "markdown",
   "metadata": {},
   "source": [
    "lets confirm if the table we created exists"
   ]
  },
  {
   "cell_type": "code",
   "execution_count": 2,
   "metadata": {},
   "outputs": [
    {
     "name": "stdout",
     "output_type": "stream",
     "text": [
      "('student_info',)\n"
     ]
    }
   ],
   "source": [
    "import mysql.connector\n",
    "mydb = mysql.connector.connect(\n",
    "    host=\"localhost\",\n",
    "    user=\"root\",\n",
    "    password=\"\",\n",
    "    database = \"Mypracticals\"\n",
    ")\n",
    "mycursor = mydb.cursor()\n",
    "# we can run this statement to see if the table exists\n",
    "sql = \"SHOW TABLES\"\n",
    "mycursor.execute(sql)\n",
    "result = mycursor\n",
    "for table in result:\n",
    "    print(table)"
   ]
  },
  {
   "cell_type": "markdown",
   "metadata": {},
   "source": [
    "### Insert into table\n",
    "We can use the insert command to insert data into our table"
   ]
  },
  {
   "cell_type": "code",
   "execution_count": 13,
   "metadata": {},
   "outputs": [],
   "source": [
    "import mysql.connector\n",
    "mydb = mysql.connector.connect(\n",
    "    host=\"localhost\",\n",
    "    user=\"root\",\n",
    "    password=\"\",\n",
    "    database = \"Mypracticals\"\n",
    ")\n",
    "mycursor = mydb.cursor()\n",
    "# we can run this statement to see if the table exists\n",
    "sql = \"INSERT INTO student_info(RegNo,Name) VALUES('BBIT/MG/1570/09/21','AGOI SHARIF'),('BBIT/MG/2206/09/21','GEOFERRY MAINA')\"\n",
    "mycursor.execute(sql)\n",
    "mydb.commit()"
   ]
  },
  {
   "cell_type": "markdown",
   "metadata": {},
   "source": [
    "### Retrieve data from the table using SELECT statement"
   ]
  },
  {
   "cell_type": "code",
   "execution_count": 19,
   "metadata": {},
   "outputs": [
    {
     "name": "stdout",
     "output_type": "stream",
     "text": [
      "('BBIT/MG/1570/09/21', 'AGOI SHARIF')\n",
      "('BBIT/MG/2206/09/21', 'GEOFERRY MAINA')\n",
      "('BBIT/MG/2545/09/21', 'ANGERA SILAS MUKAGATI')\n"
     ]
    }
   ],
   "source": [
    "import mysql.connector\n",
    "mydb = mysql.connector.connect(\n",
    "    host=\"localhost\",\n",
    "    user=\"root\",\n",
    "    password=\"\",\n",
    "    database = \"Mypracticals\"\n",
    ")\n",
    "mycursor = mydb.cursor()\n",
    "sql = \"SELECT * FROM student_info\"\n",
    "mycursor.execute(sql)\n",
    "results = iter(mycursor.fetchall())\n",
    "for data in results:\n",
    "    print(data)"
   ]
  },
  {
   "cell_type": "markdown",
   "metadata": {},
   "source": [
    "# Quiz"
   ]
  },
  {
   "cell_type": "markdown",
   "metadata": {},
   "source": [
    "**1.Your task is to write a function which returns the sum of following series upto nth term(parameter).**\n",
    "\n",
    "Series: 1 + 1/4 + 1/7 + 1/10 + 1/13 + 1/16 +...\n",
    "\n",
    "Rules:\n",
    "1. You need to round the answer to 2 decimal places and return it as String.\n",
    "\n",
    "2. If the given value is 0 then it should return 0.00\n"
   ]
  },
  {
   "cell_type": "code",
   "execution_count": 21,
   "metadata": {},
   "outputs": [
    {
     "name": "stdout",
     "output_type": "stream",
     "text": [
      "2.33\n"
     ]
    }
   ],
   "source": [
    "def series_sum(n):\n",
    "    sum = 0\n",
    "    denominator = 1\n",
    "    if n == 0:\n",
    "        return \"0.00\"\n",
    "    else:\n",
    "        for i in range(n):\n",
    "            sum =+1/denominator\n",
    "            denominator=+3\n",
    "        return \"{:.2f}\".format(round(sum, 2))\n",
    "print(series_sum(5))"
   ]
  },
  {
   "cell_type": "markdown",
   "metadata": {},
   "source": [
    "**2. Ratiorg got statues of different sizes as a present from CodeMaster for his birthday, each statue having an non-negative integer size. Since he likes to make things perfect, he wants to arrange them from smallest to largest so that each statue will be bigger than the previous one exactly by 1. He may need some additional statues to be able to accomplish that. Help him figure out the minimum number of additional statues needed.**\n",
    "\n",
    "Example\n",
    "\n",
    "For statues = [6, 2, 3, 8], the output should be\n",
    "solution(statues) = 3."
   ]
  },
  {
   "cell_type": "markdown",
   "metadata": {},
   "source": [
    "**To find the minimum number of additional statues needed, we can follow these steps:**\n",
    "\n",
    "1. Sort the list of statues in ascending order. \n",
    "    1. *statues.sort()*\n",
    "2. Initialize a variable called additional_statues to 0. This variable will keep track of the minimum number of additional statues needed.\n",
    "     1. *additional_statues = 0*\n",
    "3. Iterate through the sorted list of statues from the second element (index 1) to the last element which is always the length of the list.\n",
    "      1. *for i in range(1, len(statues)):*\n",
    "4. For each element, check if the current element is not equal to the previous element plus 1. If it's not, calculate the difference between the current element and the previous element minus 1, and add it to additional_statues.\n",
    "      1. *if statues[i] != statues[i-1] + 1:*\n",
    "      \n",
    "            *additional_statues+=statues[i]-statues[i-1]-1*\n",
    "5. Finally, return the value of additional_statues, which represents the minimum number of additional statues needed.\n",
    "      1. *return additional_statues*\n",
    "**Here's the implementation in Python:**\n"
   ]
  },
  {
   "cell_type": "code",
   "execution_count": 1,
   "metadata": {},
   "outputs": [
    {
     "name": "stdout",
     "output_type": "stream",
     "text": [
      "3\n"
     ]
    }
   ],
   "source": [
    "def solution(statues):\n",
    "    statues.sort()\n",
    "    additional_statues = 0\n",
    "    for i in range(1, len(statues)):\n",
    "        if statues[i] != statues[i-1] + 1:\n",
    "            additional_statues += statues[i] - statues[i-1] - 1\n",
    "\n",
    "    return additional_statues\n",
    "print(solution( [6, 2, 3, 8]))"
   ]
  },
  {
   "cell_type": "markdown",
   "metadata": {},
   "source": [
    "**3. Given a sequence of integers as an array, determine whether it is possible to obtain a strictly increasing sequence by removing no more than one element from the array.**\n",
    "\n",
    "Note: sequence a0, a1, ..., an is considered to be a strictly increasing if a0 < a1 < ... < an. Sequence containing only one element is also considered to be strictly increasing."
   ]
  },
  {
   "cell_type": "markdown",
   "metadata": {},
   "source": [
    "## Solution\n",
    "To determine whether it is possible to obtain a strictly increasing sequence by removing no more than one element from the given array, we can iterate through the array and check for any instances where the array is not strictly increasing. If we find such a case, we have to consider two possibilities: either remove the current element or remove the previous element and check if the resulting sequence becomes strictly increasing.\n",
    "\n",
    "**Here's the step-by-step algorithm to solve this problem:**\n",
    "\n",
    "1. Initialize a variable removed to track the number of elements removed, starting at 0.\n",
    "2. Iterate through the array from the second element (index 1) to the last element (index n-1).\n",
    "3. For each element i in the array, compare it with the previous element i-1.\n",
    "4. If i is less than or equal to i-1, it violates the strictly increasing condition.\n",
    "5. If removed is already 1, return false, as we have already removed an element.\n",
    "6. Otherwise, increment removed by 1 and check the following:\n",
    "7. If i is greater than i-2 (the element before the previous), it means removing i-1 would still result in a strictly increasing sequence.\n",
    "8. If i is less than or equal to i-2, it means removing i would not make the sequence strictly increasing.\n",
    "9. If the loop completes without returning false, return true.\n",
    "\n",
    "**Here's the implementation of the algorithm in Python:**\n"
   ]
  },
  {
   "cell_type": "code",
   "execution_count": 10,
   "metadata": {},
   "outputs": [
    {
     "name": "stdout",
     "output_type": "stream",
     "text": [
      "False\n",
      "True\n"
     ]
    }
   ],
   "source": [
    "def solution(arr):\n",
    "    removed = 0\n",
    "\n",
    "    for i in range(1, len(arr)):\n",
    "        if arr[i] <= arr[i-1]:\n",
    "            if removed == 1:\n",
    "                return False\n",
    "            \n",
    "            removed += 1\n",
    "            \n",
    "            if i == 1 or arr[i] > arr[i-2]:\n",
    "                continue\n",
    "            \n",
    "            return False\n",
    "\n",
    "    return True\n",
    "arr = [1,3,2,1]\n",
    "s = solution(arr)\n",
    "print(s)\n",
    "sequence = [1,2,3,4,5,6,7,8]\n",
    "r=solution(sequence)\n",
    "print(r)"
   ]
  },
  {
   "cell_type": "code",
   "execution_count": 6,
   "metadata": {},
   "outputs": [
    {
     "data": {
      "text/plain": [
       "False"
      ]
     },
     "execution_count": 6,
     "metadata": {},
     "output_type": "execute_result"
    }
   ],
   "source": [
    "def solution(sequence):\n",
    "    f1 = sum([1 for a, b in zip(sequence[:-1], sequence[1:]) if a>=b ]) <= 1 \n",
    "    f2 = sum([1 for a, c in zip(sequence[:-2], sequence[2:]) if a>=c ]) <= 1\n",
    "    return f1 and f2\n",
    "sequence = [1, 3, 2, 1]\n",
    "solution(sequence)"
   ]
  },
  {
   "cell_type": "markdown",
   "metadata": {},
   "source": [
    "# A program to check if a number entered is divisible by 6"
   ]
  },
  {
   "cell_type": "markdown",
   "metadata": {},
   "source": [
    "## Pseudocode\n",
    "\n",
    "1. ask user to enter any number\n",
    "2. check if number%2 == 0 and number % 3== 0\n",
    "    1. if true  Display number is divisible by 6\n",
    "    2. Else Display number is not divisible by 6"
   ]
  },
  {
   "cell_type": "code",
   "execution_count": 6,
   "metadata": {},
   "outputs": [
    {
     "name": "stdout",
     "output_type": "stream",
     "text": [
      "Enter any number100\n",
      "Number is not divisible by 6\n"
     ]
    }
   ],
   "source": [
    "#divisibility test for 6\n",
    "try:\n",
    "    number =float(input(\"Enter any number\"))\n",
    "    if number%2==0 and number%3 == 0:\n",
    "        print(\"Number is divisible by 6\")\n",
    "    else:\n",
    "        print(\"Number is not divisible by 6\")\n",
    "except:\n",
    "    print(\"Oops sorry an internal error occured\")"
   ]
  },
  {
   "cell_type": "markdown",
   "metadata": {},
   "source": [
    "The program above will print an error if you input a character that is not a digit"
   ]
  },
  {
   "cell_type": "markdown",
   "metadata": {},
   "source": [
    "# A program to find the sum of odd numbers between 100 and 1000"
   ]
  },
  {
   "cell_type": "markdown",
   "metadata": {},
   "source": [
    "## Psuedocode\n",
    "\n",
    "1. initialize sum to zero and i to 100\n",
    "2. check to ensure the value of i is not divisible by 2,\n",
    "    if true add i to sum"
   ]
  },
  {
   "cell_type": "code",
   "execution_count": 8,
   "metadata": {},
   "outputs": [
    {
     "name": "stdout",
     "output_type": "stream",
     "text": [
      "247500\n"
     ]
    }
   ],
   "source": [
    "sum = 0\n",
    "for i in range(100,1000):\n",
    "    if i%2 != 0:\n",
    "        sum = sum+i\n",
    "print(sum)"
   ]
  },
  {
   "cell_type": "markdown",
   "metadata": {},
   "source": [
    "# Write a shopping cart that imports functions from the module"
   ]
  },
  {
   "cell_type": "markdown",
   "metadata": {},
   "source": [
    "## pseudocode\n",
    "1. Import necessary functions from modules shopping and IPython.display\n",
    "2. In the main function , we declare a boolean datatype done which is initialized to false,\n",
    "3. The boolean done loops until the user chooses to quit\n",
    "4. The user is given 6 options:\n",
    "    1. quit\n",
    "    2. add\n",
    "    3. remove\n",
    "    4. show\n",
    "    5. clear\n",
    "    6. save\n",
    "        1. if the user chooses to quit, the user is aked whether to save the cart or not\n",
    "        2. else if the operation chosen is add or remove, the user will asked to enter the item name\n",
    "        3. and if the user chooses to show, the cart will be displayed\n",
    "        4. if the choice is clear , the shopping cart will be emptied\n",
    "        5. and lastly if the choice is to save the cart will be saved in the csv file"
   ]
  },
  {
   "cell_type": "code",
   "execution_count": 1,
   "metadata": {},
   "outputs": [
    {
     "name": "stdout",
     "output_type": "stream",
     "text": [
      "Thank you for using our services\n",
      "Your cart is empty\n"
     ]
    }
   ],
   "source": [
    "# import necessary functions\n",
    "from shopping import additem,showcart,removeitem,clearcart,savecart,shopping_history\n",
    "from IPython.display import clear_output\n",
    "def main():\n",
    "    done = False\n",
    "    while not done:\n",
    "        operation = input(\"quit\\nadd\\nremove\\nshow\\nclear\\nsave\\n\").lower()\n",
    "        if operation == \"quit\":\n",
    "            choice = input(\"Do you want to save cart\\nYes\\nNo\\n\").lower()\n",
    "            if choice == \"yes\":\n",
    "                savecart()\n",
    "                clear_output()\n",
    "                print(\"Thank you for using our services\")\n",
    "                showcart()\n",
    "                done = True\n",
    "            elif choice == \"no\":\n",
    "                clear_output()\n",
    "                print(\"Thank you for using our services\")\n",
    "                showcart()\n",
    "                done = True\n",
    "            else:\n",
    "                print(\"No such option...try again\")\n",
    "        elif operation == \"add\":\n",
    "            clear_output()\n",
    "            item = input(print(\"What would you like to add : \")).title()\n",
    "            additem(item)\n",
    "        elif operation == \"remove\":\n",
    "            clear_output()\n",
    "            showcart()\n",
    "            item = input(print(\"What would you like to remove : \")).title()\n",
    "            removeitem(item)\n",
    "        elif operation == \"show\":\n",
    "            clear_output()\n",
    "            option = input(\"cart\\nhistory\\n\").lower()\n",
    "            if option == \"cart\":\n",
    "                showcart()\n",
    "            elif option == \"history\":\n",
    "                shopping_history()\n",
    "            else:\n",
    "                print(\"No such option\")\n",
    "        elif operation == \"clear\":\n",
    "            clear_output()\n",
    "            clearcart()\n",
    "        elif operation == \"save\":\n",
    "            clear_output()\n",
    "            savecart()\n",
    "        else:\n",
    "            clear_output()\n",
    "            print(f\"Sorry {operation} is not found.please try again later\")\n",
    "\n",
    "\n",
    "main()"
   ]
  },
  {
   "cell_type": "markdown",
   "metadata": {},
   "source": [
    "1. The code above uses a module called shopping which has different functions, The module uses a dictionary to :\n",
    "    1. store items\n",
    "    2. calculate the total bill of the customer\n",
    "    3. retrieve the shoppig cart\n",
    "2. The module has access to a csv file which is used as a database to store users shopping history"
   ]
  },
  {
   "cell_type": "code",
   "execution_count": 5,
   "metadata": {},
   "outputs": [
    {
     "name": "stdout",
     "output_type": "stream",
     "text": [
      "{'sugar': '', 'salt': '', 'cooking oil': ''}\n",
      "Enter price for sugar6\n",
      "Enter price for salt6\n",
      "Enter price for cooking oil6\n",
      "{'sugar': 6.0, 'salt': 6.0, 'cooking oil': 6.0}\n"
     ]
    }
   ],
   "source": [
    "items = [\"sugar\",\"salt\",\"cooking oil\"]\n",
    "cart = {}\n",
    "for i in items:\n",
    "    cart.update({i : \"\"})\n",
    "print(cart)\n",
    "for key,value in cart.items():\n",
    "    value=float(input(f\"Enter price for {key}\"))\n",
    "    cart.update({key : value})\n",
    "print(cart)"
   ]
  },
  {
   "cell_type": "markdown",
   "metadata": {},
   "source": [
    "###### "
   ]
  }
 ],
 "metadata": {
  "kernelspec": {
   "display_name": "Python 3 (ipykernel)",
   "language": "python",
   "name": "python3"
  },
  "language_info": {
   "codemirror_mode": {
    "name": "ipython",
    "version": 3
   },
   "file_extension": ".py",
   "mimetype": "text/x-python",
   "name": "python",
   "nbconvert_exporter": "python",
   "pygments_lexer": "ipython3",
   "version": "3.10.9"
  }
 },
 "nbformat": 4,
 "nbformat_minor": 2
}
