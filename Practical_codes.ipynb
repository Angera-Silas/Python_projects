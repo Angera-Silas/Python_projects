{
 "cells": [
  {
   "cell_type": "markdown",
   "metadata": {},
   "source": [
    "# Write a program to convert into seconds"
   ]
  },
  {
   "cell_type": "code",
   "execution_count": 5,
   "metadata": {},
   "outputs": [
    {
     "name": "stdout",
     "output_type": "stream",
     "text": [
      "What do you wish to convert into seconds\n",
      "days\n",
      "hours\n",
      "minutes\n",
      "Enter the number of days to convert\n",
      "600 Days == 51840000.0 Secs\n",
      "***Thank you for using our product\n",
      "***Code Provided to you by Prof Angera Silas\n"
     ]
    }
   ],
   "source": [
    "def timeConverter(option):\n",
    "    if option == \"days\":\n",
    "        day = int(input(\"Enter the number of days to convert\\n\"))\n",
    "        seconds = day*24*3600\n",
    "        print(f\"{day} Days == {float(seconds)} Secs\\n***Thank you for using our product\\n***Code Provided to you by Prof Angera Silas\")\n",
    "    elif option ==\"hours\":\n",
    "        hour = float(input(\"Enter the number of hours to convert\\n\"))\n",
    "        seconds = hour*3600\n",
    "        print(f\"{hour} Hrs == {float(seconds)} Secs\\n***Thank you for using our product\\n***Code Provided to you by Prof Angera Silas\")\n",
    "    elif option==\"minutes\":\n",
    "        mins = float(input(\"Enter the number of Minutes to convert\\n\"))\n",
    "        seconds = mins*60\n",
    "        print(f\"{mins} Mins== {float(seconds)} secs\\n***Thank you for using our product\\n***Code Provided to you by Prof Angera Silas\")\n",
    "    else:\n",
    "        print(\"You made a wrong choice kindly try again later.\\n***Thank you for using our product\\n***Code provided by Prof Angera Silas\")\n",
    "try:\n",
    "    opt = input(\"What do you wish to convert into seconds\\ndays\\nhours\\nminutes\\n\").lower()\n",
    "    timeConverter(opt)\n",
    "except:\n",
    "    print(\"Error:You made a mistake in the above choice.Please try again later\")"
   ]
  },
  {
   "cell_type": "markdown",
   "metadata": {},
   "source": [
    "# program to check whether a character entered is an alphabet or not"
   ]
  },
  {
   "cell_type": "code",
   "execution_count": 1,
   "metadata": {},
   "outputs": [
    {
     "name": "stdout",
     "output_type": "stream",
     "text": [
      "Enter any character\n",
      "e is an alphabet\n"
     ]
    }
   ],
   "source": [
    "def AlphabetCheck():\n",
    "    if ch>='a' and ch<='z' or ch>='A' and ch<='Z':\n",
    "        print(f\"{ch} is an alphabet\")\n",
    "    else:\n",
    "        print(f\"{ch} is not an alphabet\")\n",
    "ch = input(\"Enter any character\\n\")\n",
    "AlphabetCheck()"
   ]
  },
  {
   "cell_type": "markdown",
   "metadata": {},
   "source": [
    "# Construct a program for this case. A student will not be allowed to sit in exam if his/her attendance is less than 80%. \n",
    "## Take the following input from the user.:  \n",
    "1. Number of classes held ,\n",
    "2. Number of classes attended ,\n",
    "## and print :\n",
    "1. the percentage of the class attended and if the student is allowed or not allowed to sit in exam"
   ]
  },
  {
   "cell_type": "code",
   "execution_count": 12,
   "metadata": {},
   "outputs": [
    {
     "name": "stdout",
     "output_type": "stream",
     "text": [
      "Input the total number of classes held this semester\n",
      "Sorry we encountered an issue with your information. please try again later\n"
     ]
    }
   ],
   "source": [
    "def AttendanceSheet(*args):\n",
    "    percentage_of_class_attended = (total_classes_attended/total_classes_held)*100\n",
    "    if percentage_of_class_attended>=80:\n",
    "        print(\"The student attended [{}%] of the classes\\nTherefore he is allowed to sit in Exam\".format(percentage_of_class_attended))\n",
    "    else:\n",
    "        print(\"The student only attended[{}%] of the classes held\\nTherefore not allowed to sit in exam\".format(percentage_of_class_attended))\n",
    "try:\n",
    "    total_classes_held=int(input(print(\"Input the total number of classes held this semester\")))\n",
    "    total_classes_attended=int(input(print(\"Input the total number of classes attended by student this semester\")))\n",
    "    AttendanceSheet(total_classes_held,total_classes_attended)\n",
    "except:\n",
    "    print(\"Sorry we encountered an issue with your information. please try again later\")"
   ]
  },
  {
   "cell_type": "markdown",
   "metadata": {},
   "source": [
    "# A program to check whether the entered alphabet is an uppercase or lower case"
   ]
  },
  {
   "cell_type": "code",
   "execution_count": 7,
   "metadata": {},
   "outputs": [
    {
     "name": "stdout",
     "output_type": "stream",
     "text": [
      "Enter an alphabet\n",
      "The Character Entered is not an alphabet\n"
     ]
    }
   ],
   "source": [
    "try:\n",
    "    alphabet = input(print(\"Enter an alphabet\"))\n",
    "    if alphabet>='a' and alphabet <='z':\n",
    "        print(f\"{alphabet} is a lowercase character\")\n",
    "    elif alphabet>=\"A\" and alphabet<=\"Z\":\n",
    "        print(f\"{alphabet} is an uppercase character\")\n",
    "    else:\n",
    "        print(\"The Character Entered is not an alphabet\")\n",
    "except:\n",
    "    print(\"Error: A problem occured while running the program\")\n",
    "        "
   ]
  },
  {
   "cell_type": "markdown",
   "metadata": {},
   "source": [
    "# Program to convert binary to decimal"
   ]
  },
  {
   "cell_type": "code",
   "execution_count": 103,
   "metadata": {},
   "outputs": [
    {
     "name": "stdout",
     "output_type": "stream",
     "text": [
      "1\n"
     ]
    }
   ],
   "source": [
    "def binary_to_decimal(binary):\n",
    "    decimal = 0\n",
    "    n=0\n",
    "    bin=binary\n",
    "    \n",
    "    while bin!=0:\n",
    "        digit=bin%10 #eliminates the last digit\n",
    "        if digit == 1:\n",
    "            pv=pow(2,n)\n",
    "            return (digit*pv)+decimal #converting binary to decimal\n",
    "        n=n+1\n",
    "    #removing the last digit\n",
    "        bin = bin/10\n",
    "binary = int(input(\"Enter the binary digits\"))\n",
    "print(binary_to_decimal(binary))"
   ]
  },
  {
   "cell_type": "markdown",
   "metadata": {},
   "source": [
    "# Factorial using Recursion"
   ]
  },
  {
   "cell_type": "code",
   "execution_count": 100,
   "metadata": {},
   "outputs": [
    {
     "name": "stdout",
     "output_type": "stream",
     "text": [
      "Enter a number to finds its factorial\n",
      "Error occured.please try again later\n"
     ]
    }
   ],
   "source": [
    "def Factorial(n):\n",
    "    if n>1:\n",
    "        return n*Factorial(n-1)\n",
    "    else:\n",
    "        return 1\n",
    "try:\n",
    "    n=int(input(print(\"Enter a number to finds its factorial\")))\n",
    "    print(\"Factorial of {} == [{}]\".format(n,Factorial(n)))\n",
    "except:\n",
    "    print(\"Error occured.please try again later\")"
   ]
  },
  {
   "cell_type": "code",
   "execution_count": 81,
   "metadata": {},
   "outputs": [
    {
     "name": "stdout",
     "output_type": "stream",
     "text": [
      "300\n"
     ]
    }
   ],
   "source": [
    "def Area(*args):\n",
    "    area = l*w\n",
    "    return area\n",
    "l=10\n",
    "w=30\n",
    "print(Area(l,w))"
   ]
  },
  {
   "cell_type": "markdown",
   "metadata": {},
   "source": [
    "# creating a students management system\n",
    "\n",
    "## REQUIRED:        \n",
    "   1. registering a user\n",
    "   2. logging in and out a user\n",
    "   3. entering and viewing users data\n",
    "   4. main loop for running the system\n",
    "## Steps\n",
    "   1. Checking if the user is logged in.\n",
    "        1. if its true the ask what they would like to do in the system.\n",
    "            1. change data/log out/view data/quit\n",
    "        2. Else ask them if they would like to create an account/log in or quit\n",
    "            1. if create an account:\n",
    "                1. ask the user to enter credentials i.e username/email address and password\n",
    "                2. create an account for the user\n",
    "            2. if login :\n",
    "                1. ask for user credenials i.e username and password  \n",
    "                   if it matches the ones in the system login the user\n",
    "                    else:       \n",
    "                        display error\n",
    "                        count the number of trials if they reach 5 throw the user out.\n",
    "            3. if quit then terminate the program."
   ]
  },
  {
   "cell_type": "code",
   "execution_count": 13,
   "metadata": {},
   "outputs": [
    {
     "name": "stdout",
     "output_type": "stream",
     "text": [
      "Thank you for using My Software!\n",
      "Code provided by Angera Silas\n"
     ]
    }
   ],
   "source": [
    "#importing important libraries\n",
    "import csv\n",
    "from IPython.display import clear_output\n",
    "#creating a user registration section\n",
    "def registerUser():\n",
    "    with open(\"studentMgt.csv\",mode=\"a\",newline=\"\") as s:\n",
    "        writer = csv.writer(s,delimiter=\",\")\n",
    "        email = input(\"Enter your email address\\t\")\n",
    "        email1 = input(\"confirm Email\\t\")\n",
    "        password = input(\"Enter a password\\t\")\n",
    "        password2 = input(\"Confirm password\\t\")\n",
    "        clear_output()\n",
    "        if email1==email and password2==password:\n",
    "            with open(\"studentMgt.csv\",mode=\"r\") as f:\n",
    "                reader = csv.reader(f,delimiter=\",\")\n",
    "                for row in reader:\n",
    "                    if email not in row:#Checking to see if the email is already registered\n",
    "                        if password not in row:#Every person's password should be unique\n",
    "                            writer.writerow([email,password])#if its unique register\n",
    "                            print(\"Account successfully created\\n Go on and update your profile to enjoy more\")\n",
    "                            return True\n",
    "                        else:\n",
    "                            print(\"Input another password please\")\n",
    "                    else:\n",
    "                        print(\"user already exists.....login\")\n",
    "                        userLogin()\n",
    "        else:\n",
    "            print(\"Try again your passwords do not match\")\n",
    "            \n",
    "#creating a user login handler\n",
    "def userLogin():\n",
    "    trials = 0\n",
    "    print(\"Input your credentials to login\\t\")\n",
    "    email = input(\"Enter your email address\\t\")\n",
    "    password = input(\"Enter your password\\t\")\n",
    "    clear_output()\n",
    "    with open(\"studentMgt.csv\",mode=\"r\") as f:\n",
    "        reader = csv.reader(f,delimiter=\",\")\n",
    "        for row in reader:\n",
    "            if row==[email,password] or email in row and password in row:\n",
    "                print(\"Successfully Logged in\")\n",
    "                return True\n",
    "    print(\"Wrong password or email Address...please try again\")\n",
    "    return False\n",
    "\n",
    "#creating the get password\n",
    "def getPassword():\n",
    "    email = input(\"Enter your Email address\\t\")\n",
    "    email1 = input(\"Confirm your Email address\\t\")#Veriffying details to get the password\n",
    "    clear_output()\n",
    "    with open(\"studentMgt.csv\",mode=\"r\") as s:\n",
    "        reader=csv.reader(s,delimiter=\",\")\n",
    "        for row in reader:\n",
    "            if email in row:\n",
    "                print(\"Dear customer the Email address and password are displayed below\")\n",
    "                print(row)\n",
    "                print(\"Login to change your password\")\n",
    "            else:\n",
    "                print(\"Error--> Email address not found\")\n",
    "\n",
    "#reseting password\n",
    "def resetPassword():\n",
    "    confirm=input(\" You are about to Reset your password type in one command\\n1. ok\\n2. cancel\").lower()\n",
    "    if confirm==\"cancel\":\n",
    "        logged_in = True\n",
    "    elif confirm==\"ok\":\n",
    "        email = input(\"Enter your email address\\t\")\n",
    "        password = input(\"Enter your password\\t\")\n",
    "        clear_output()\n",
    "        with open(\"studentMgt.csv\",mode=\"r\") as f:\n",
    "            reader = csv.reader(f,delimiter=\",\")\n",
    "            for row in reader:\n",
    "                if email in row and password in row:\n",
    "                    with open(\"studentMgt.csv\",mode=\"r+\",newline=\"\") as f:\n",
    "                        writer=csv.writer(f,delimiter=\",\")\n",
    "                        password = input(\"Enter new password\\t\")\n",
    "                        password1 = input(\"confirm your new password\\t\")\n",
    "                        if password == password1:\n",
    "                            writer.writerow([email,password])\n",
    "                            print(\"Successfully recovered your password,login to verify\")\n",
    "                            logged_in=True\n",
    "                        else:\n",
    "                            print(\"Kindly recheck your credentials\")\n",
    "\n",
    "def updateDetails():\n",
    "    with open(\"studentMgt.csv\",mode=\"r\") as f:\n",
    "        email=input(\"Confirm your email address\")\n",
    "        password = input(\"Enter password to confirm your identity\")\n",
    "        reader=csv.reader(f,delimiter=\",\")\n",
    "        num = 0\n",
    "        for row in reader:\n",
    "            if email in row or row == [email,password]:\n",
    "                with open(\"studentMgt.csv\",mode=\"w\",newline=\"\") as f:\n",
    "                    name = str(input(\"Enter your name\\n\"))\n",
    "                    num = int(input(\"How many units do you take\\n\"))\n",
    "                    for i in range(num):\n",
    "                        unit=input(f\"enter unit {i+1}\\t\")\n",
    "                        units.insert(i,unit)\n",
    "                    writer=csv.writer(f,delimiter=\",\")\n",
    "                    writer.writerow([email,password,name,units])\n",
    "                    clear_output()\n",
    "                    print(\"Profile Successfully updated\")\n",
    "                    return True\n",
    "    print(\"Unable to update profile...try again later\")\n",
    "    return False\n",
    "def viewData():\n",
    "    with open(\"studentMgt.csv\",mode=\"r\") as f:\n",
    "        email=input(\"Confirm your email address\")\n",
    "        reader=csv.reader(f,delimiter=\",\")\n",
    "        for row in reader:\n",
    "            if email in row:\n",
    "                print(row)\n",
    "                return True\n",
    "#creating the main loop\n",
    "active = True\n",
    "logged_in = False\n",
    "units = []\n",
    "while active:\n",
    "    if logged_in:\n",
    "        print(\"1. Logout \\n2. Change password \\n3. View Profile\\n4. Update profile \\n5. Quit\")\n",
    "    else:\n",
    "        print(\"1. login \\n2. register \\n3. Forgot password \\n4. Quit\")\n",
    "    option=input(\"What do you wish to do? \").lower()\n",
    "    clear_output()\n",
    "    if option == \"register\" and logged_in == False:#if the user is not logged in and chooses to register\n",
    "        registerUser()#the user will be redirected to registration page by the function\n",
    "    elif option == \"login\" and logged_in == False:\n",
    "        logged_in = userLogin()#if the user already registered and wants to login in \n",
    "    elif option == \"quit\":\n",
    "        active = False#if the user chooses to quit then the program is terminated\n",
    "        print(\"Thank you for using My Software!\\nCode provided by Angera Silas\")\n",
    "    elif option ==\"change password\":\n",
    "        resetPassword()\n",
    "    elif option ==\"forgot password\":\n",
    "        getPassword()\n",
    "    elif option ==\"update profile\":\n",
    "        updateDetails()\n",
    "    elif option==\"view profile\":\n",
    "        viewData()\n",
    "    elif option == \"logout\" and logged_in == True:\n",
    "        logged_in = False\n",
    "        print(\"Successfully logged out\\nThank you for using My Software!\\nCode provided by Angera Silas\")\n",
    "    else:\n",
    "        print(\"Sorry,please try again\")\n",
    "        "
   ]
  },
  {
   "cell_type": "markdown",
   "metadata": {},
   "source": [
    "# Creating a simple Geometric calculator\n",
    "\n",
    "## REQUIRED       \n",
    "The system is expected to do the following.     \n",
    "a. take input from the user     \n",
    "b. do the calculation       \n",
    "c. return the answer\n",
    "\n",
    "## STEPS/Psedocode        \n",
    "1. start        \n",
    "2. Ask the user what she/he wants to calculate      \n",
    "    1. ask the user to choose a type of triangle either right-angled triangle,other trianle     \n",
    "        1. if right-angled triangle     \n",
    "            options - length of either base,height or hypotenuse,sin,cosine,tangent,area.       \n",
    "            i. if length of one side        \n",
    "                1. ask the user to enter the length of the given sides either height and base,base and hyptenuse or height and hypoteuse        \n",
    "                2. hypotenuse = sqrt((base**2)+(height**2))     \n",
    "            ii. if area:\n",
    "                1. input base and height or any two sides given  \n",
    "        2. Else:        \n",
    "            options - length of either side,size of angle.        \n",
    "            1. if size of angle,a variety of formulars will apply:     \n",
    "                i. Enter the measurements given     \n",
    "                ii. following the sine rule, the anwer can be got by getting the sine inverse                    \n",
    "                iii. the answer will be brought following the cosine rule and getting cosine inverse             \n",
    "                iv. we will calculate the cosine and sine        \n",
    "                v. Find the tangent and tan inverse,Depending on the variables given.\n",
    "            2. if length of either sides:       \n",
    "                1. ask the user how many sides are given and how many angles        \n",
    "                    i. Expected inputs: 2 angles 1 side,3 angles 2 sides,1 side and 2 sides.        \n",
    "                    ii. The answer will be calculated following the sine and cosine rules"
   ]
  },
  {
   "cell_type": "code",
   "execution_count": 2,
   "metadata": {},
   "outputs": [
    {
     "ename": "IndentationError",
     "evalue": "expected an indented block after 'if' statement on line 66 (3258252629.py, line 68)",
     "output_type": "error",
     "traceback": [
      "\u001b[0;36m  Cell \u001b[0;32mIn[2], line 68\u001b[0;36m\u001b[0m\n\u001b[0;31m    def main():\u001b[0m\n\u001b[0m               ^\u001b[0m\n\u001b[0;31mIndentationError\u001b[0m\u001b[0;31m:\u001b[0m expected an indented block after 'if' statement on line 66\n"
     ]
    }
   ],
   "source": [
    "#import necessary libraries\n",
    "import math\n",
    "from IPython.display import clear_output\n",
    "#create functions to do the calculations\n",
    "done = False\n",
    "#lets create a function to handle right-angled triangle\n",
    "def rigthAngledTriangle():\n",
    "    try:\n",
    "        choice = input(\"Kindly type in words\\n1. sine\\2. cosine\\3. tangent\\n4. side measurement\\area\\5. Quit\\n\").lower()\n",
    "        if choice == \"area\" or choice==\"side measurement\":\n",
    "            opt=input(\"Which sides have you been given\\n1. height and base\\n2. hypotenuse and base\\n3. hypotenuse and height\")\n",
    "            if opt==\"height and base\":\n",
    "                base = float(input(\"Enter the base\"))\n",
    "                height=float(input(\"Enter the height\"))\n",
    "                clear_output()\n",
    "                #the lenghts are calculated using the pythogaras theorem\n",
    "                hy = (base**2)+(height**2)\n",
    "                hypotenuse = math.sqrt(hy)#Calculating the hypotenuse\n",
    "                area = 0.5*base*height\n",
    "                print(f\"Hypotenuse = {hypotenuse}\\nArea = [{area}]\")\n",
    "            elif opt==\"hypotenuse and base\":\n",
    "                base = float(input(\"Enter the height\\n\"))\n",
    "                hypotenuse = float(input(\"Enter the Hypotenuse\\n\"))\n",
    "                clear_output()\n",
    "                h=(hypotenuse**2)-(base**2)\n",
    "                height = math.sqrt(h)#Calculating the height\n",
    "                area = 0.5*base*height\n",
    "                print(f\"Height = {height}\\nArea = [{area}]\")\n",
    "\n",
    "            elif opt==\"hypotenuse and height\":\n",
    "                height = float(input(\"Enter the height : \"))\n",
    "                hypotenuse = float(input(\"Enter the hypotenuse : \"))\n",
    "                clear_output()\n",
    "                b=(hypotenuse**2)-(height**2)\n",
    "                base = math.sqrt(b)#Calculating the base\n",
    "                area = 0.5*base*height\n",
    "                print(f\"Base length = {base}\\nArea = [{area}]\")\n",
    "            else:\n",
    "                print(\"kindly check your input and try again\")\n",
    "        elif choice==\"sine\":\n",
    "            opposite = float(input(\"input the opposite side measurement : \"))\n",
    "            hypotenuse = float(input(\"Enter the hypotenuse : \"))\n",
    "            clear_output()\n",
    "            sin = opposite/hypotenuse\n",
    "            print(f\"Sine of the given angle is : {sin}\")\n",
    "        elif choice==\"cosine\":\n",
    "            adjacent = float(input(\"input the side adjacent to the angle : \"))\n",
    "            hypotenuse = float(input(\"Enter the hypotenuse : \"))\n",
    "            cos = adjacent/hypotenuse\n",
    "            clear_output()\n",
    "            print(f\"Cosine of the angle is : {cos}\")\n",
    "        elif choice==\"tangent\":\n",
    "            opposite = float(input(\"input the opposite side measurement : \"))\n",
    "            adjacent = float(input(\"input the side adjacent to the angle : \"))\n",
    "            tan = opposite/adjacent\n",
    "            clear_output()\n",
    "            print(f\"Tangent of the given angle is : {tan}\")\n",
    "        elif choice==\"quit\":\n",
    "            clear_output()\n",
    "            print(\"Thank you for using this application\\nCode written by the great Prof Angera\")\n",
    "            done=True\n",
    "        else:\n",
    "            clear_output()\n",
    "            print(\"Wrong input....try again\\nMake sure you type in words and not numbers\")\n",
    "    except:\n",
    "            print(\"Kindly use the correct values\")\n",
    "def Fibonicci():\n",
    "    choice = input(\"What would you like to calculate?\\n1. size of angle\\n2. length of side\\n\")\n",
    "    if choice==\"size of angle\":\n",
    "        option = input(\"Dimensions given\\n1.For One angle,Two sides type One\\n3.For One angle,Three side type Three\\n\").lower()\n",
    "        if option==\"one\":\n",
    "            try:\n",
    "                angle1=float(input(\"Enter the Size of angle given : \"))\n",
    "                side1=float(input(\"Enter the length of the side Opposite to the angle entered : \"))\n",
    "                side2=float(input(\"Enter the Other side given : \"))\n",
    "                clear_output()\n",
    "                angle2 = (math.sin(angle1)*side2)/side1\n",
    "                angle3 = 180-angle1-angle2\n",
    "                side3 = (math.sin(angle3)*side1)/math.sin(angle1)\n",
    "            except:\n",
    "                print(\"Kindly enter the correct inputs\")\n",
    "        elif option==\"three\":\n",
    "            angle1=float(input(\"Enter the size of the angle given : \"))\n",
    "            side1=float(input(\"Enter the length of the side Directly opposite to the angle given\\n\"))\n",
    "            side2=float(input(\"Enter the length of other adjacent side : \"))\n",
    "            side3=float(input(\"Enter the length of other adjacent side : \"))\n",
    "            angle2 = ((side2**2)-(side1**2)-(side3**2))/(2*side1*side3)\n",
    "def main():\n",
    "    while not done:\n",
    "        triangle = input(\"Choose type of triangle\\n1. Right angled\\n2. Quit\\n\").lower()\n",
    "        if triangle==\"right angled\":\n",
    "            rigthAngledTriangle()\n",
    "        elif triangle==\"quit\":\n",
    "            clear_output()\n",
    "            print(\"Thank you for using this applition\\nCode Written by Prof angera\")\n",
    "            break\n",
    "        else:\n",
    "            clear_output()\n",
    "            print(\"We are sorry this part is still under development\")\n",
    "main()"
   ]
  },
  {
   "cell_type": "markdown",
   "metadata": {},
   "source": [
    "# Modules"
   ]
  },
  {
   "cell_type": "markdown",
   "metadata": {},
   "source": [
    " > A module is a collection of statements in which we store functions,classes and variable.\n",
    " > it acts as a library where we can store our functions and use them as per our requirements"
   ]
  },
  {
   "cell_type": "markdown",
   "metadata": {},
   "source": [
    "## Creating a module"
   ]
  },
  {
   "cell_type": "markdown",
   "metadata": {},
   "source": [
    "create a new file and save it with a .py extension, write your functions in it."
   ]
  },
  {
   "cell_type": "markdown",
   "metadata": {},
   "source": [
    "## Including the module to our code"
   ]
  },
  {
   "cell_type": "markdown",
   "metadata": {},
   "source": [
    "There are two ways of including the file\n",
    "1. import statement\n",
    "2. from import statement\n",
    "\n",
    "### import Statement\n",
    "a. we can import multiple modules in one statement.  i.e import module1,module2,module3,.........module n\n",
    "b. The import keyword is used.    example   import csv,math,myMathmodule\n",
    "\n",
    "### from import statement\n",
    "a. used when we want to include a specific module to a program\n",
    "b. example    from math import sqrt"
   ]
  },
  {
   "cell_type": "markdown",
   "metadata": {},
   "source": [
    "## Renaming a module\n",
    "\n",
    "we can rename a module using a keyword.\n",
    "\n",
    "syntax:  import <old_module_name> as <new_module_name>             \n",
    "\n",
    "example:  import pandas as pd\n",
    "\n",
    "## dir() function\n",
    "is a function used to return list of all variables,functions in a given module."
   ]
  },
  {
   "cell_type": "code",
   "execution_count": 5,
   "metadata": {},
   "outputs": [
    {
     "name": "stdout",
     "output_type": "stream",
     "text": [
      "Enter the first interger : 12\n",
      "Enter the second interger : 13\n",
      "Sum 25\n"
     ]
    }
   ],
   "source": [
    "import myMathmodule\n",
    "a = int(input(\"Enter the first interger : \"))\n",
    "b = int(input(\"Enter the second interger : \"))\n",
    "myMathmodule.add(a,b)"
   ]
  },
  {
   "cell_type": "code",
   "execution_count": 17,
   "metadata": {},
   "outputs": [
    {
     "name": "stdout",
     "output_type": "stream",
     "text": [
      "No\tSquare\tCube\n",
      "1\t1\t1\n",
      "2\t4\t8\n",
      "3\t9\t27\n",
      "4\t16\t64\n",
      "5\t25\t125\n",
      "6\t36\t216\n",
      "7\t49\t343\n",
      "8\t64\t512\n",
      "9\t81\t729\n",
      "10\t100\t1000\n"
     ]
    }
   ],
   "source": [
    "from myMathmodule import square,cube\n",
    "list_a = [9,8,7,6,5,4,3,2,1,2,3,4,8,7,6,5,4,10,10,10]\n",
    "list_b=[]\n",
    "list_a.sort()\n",
    "for n in list_a:\n",
    "    if n not in list_b:\n",
    "        list_b.append(n)\n",
    "print(\"No\\tSquare\\tCube\")\n",
    "for j in list_b:\n",
    "    s=square(j)\n",
    "    c= cube(j)\n",
    "    print(f\"{j}\\t{s}\\t{c}\")"
   ]
  },
  {
   "cell_type": "code",
   "execution_count": null,
   "metadata": {},
   "outputs": [],
   "source": []
  },
  {
   "cell_type": "code",
   "execution_count": null,
   "metadata": {},
   "outputs": [],
   "source": []
  }
 ],
 "metadata": {
  "kernelspec": {
   "display_name": "Python 3 (ipykernel)",
   "language": "python",
   "name": "python3"
  },
  "language_info": {
   "codemirror_mode": {
    "name": "ipython",
    "version": 3
   },
   "file_extension": ".py",
   "mimetype": "text/x-python",
   "name": "python",
   "nbconvert_exporter": "python",
   "pygments_lexer": "ipython3",
   "version": "3.10.9"
  }
 },
 "nbformat": 4,
 "nbformat_minor": 2
}
