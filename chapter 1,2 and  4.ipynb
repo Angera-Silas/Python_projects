{
 "cells": [
  {
   "cell_type": "markdown",
   "id": "922ca9ca",
   "metadata": {},
   "source": [
    "#loops and lists"
   ]
  },
  {
   "cell_type": "code",
   "execution_count": 2,
   "id": "2a3378d0",
   "metadata": {},
   "outputs": [
    {
     "name": "stdout",
     "output_type": "stream",
     "text": [
      "Value: silas\n",
      "Value: steven\n",
      "Value: angera\n",
      "Value: brian\n",
      "Value: moses\n",
      "['steven', 'angera']\n",
      "['silas', 'angera', 'moses']\n",
      "['silas', 'steven', 'angera']\n",
      "['silas', 'steven']\n",
      "Sorted list : ['angera', 'boss', 'brian', 'moses', 'silas', 'steven']\n"
     ]
    }
   ],
   "source": [
    "name = [\"silas\",\"steven\",\"angera\",\"brian\",\"moses\"]\n",
    "for letter in name:\n",
    "    print(f\"Value: {letter}\")\n",
    "print(name[1:3]) #prints values in index 1 and 4 only\n",
    "print(name[::2])#print values with an interval of 2\n",
    "print(name[:3])#prints values up the 3 index only\n",
    "print(name[:-3])#removes the last 3 indexes from the output screen\n",
    "name.append(50)#adds one value to the list\n",
    "name.remove(50)\n",
    "name.insert(5,\"boss\")#works with an index\n",
    "name.sort()#sorts the list\n",
    "print(f\"Sorted list : {name}\")\n"
   ]
  },
  {
   "cell_type": "code",
   "execution_count": 12,
   "id": "ca1e3fb9",
   "metadata": {},
   "outputs": [
    {
     "name": "stdout",
     "output_type": "stream",
     "text": [
      "0\n",
      "1\n",
      "2\n",
      "The game is over\n"
     ]
    }
   ],
   "source": [
    "#This code explains the functionality of while loop.\n",
    "game_over = False#This is a boolean datatype\n",
    "while game_over!=True:#a condition is set\n",
    "    for i in range(5):\n",
    "        if i==3:\n",
    "            break\n",
    "        print(i)\n",
    "    game_over=True#When the condition is met the loop breaks.\n",
    "print(\"The game is over\")"
   ]
  },
  {
   "cell_type": "markdown",
   "id": "c26fc541",
   "metadata": {},
   "source": [
    "#Numeric lists"
   ]
  },
  {
   "cell_type": "code",
   "execution_count": 1,
   "id": "a81dbef7",
   "metadata": {},
   "outputs": [
    {
     "name": "stdout",
     "output_type": "stream",
     "text": [
      "Minimum :2\n",
      "Maximum :100000\n",
      "Sum :100268\n",
      "sorted list : [2, 34, 56, 87, 89, 100000]\n"
     ]
    }
   ],
   "source": [
    "nums = [2,87,56,34,89,100000]\n",
    "print(f\"Minimum :{min(nums)}\")\n",
    "print(f\"Maximum :{max(nums)}\")\n",
    "print(f\"Sum :{sum(nums)}\")\n",
    "sorted_list = sorted(nums)\n",
    "print(f\"sorted list : {sorted_list}\")"
   ]
  },
  {
   "cell_type": "code",
   "execution_count": 3,
   "id": "2aa13e43",
   "metadata": {},
   "outputs": [
    {
     "name": "stdout",
     "output_type": "stream",
     "text": [
      "['Amanda', 'silas', 'Amos', 'Maina']\n"
     ]
    }
   ],
   "source": [
    "names = [\"Amanda\",\"silas\",\"Amanda\",\"Amos\",\"Maina\",\"silas\"]\n",
    "result = []\n",
    "for name in names:#looping through the list names\n",
    "    if name not in result: #checking for duplicates\n",
    "        result.append(name)#removing duplicate values\n",
    "print(result)"
   ]
  },
  {
   "attachments": {},
   "cell_type": "markdown",
   "id": "12a39da1",
   "metadata": {},
   "source": [
    "#Taking five marks of a student and finding the sum\n",
    "\n"
   ]
  },
  {
   "attachments": {},
   "cell_type": "markdown",
   "id": "310564f2",
   "metadata": {},
   "source": [
    "The code below is designed such that it prompts the user to enter the number of subjects done by a student, then it proceeds to ask for individual scores of each subject.  Using a loop it stores the values into a list called marks. using a second loop it goes through the list to find the minimum and maximum scores and the sum. Finally it dislays to the user the information."
   ]
  },
  {
   "cell_type": "code",
   "execution_count": 1,
   "id": "c3edf81a",
   "metadata": {},
   "outputs": [
    {
     "name": "stdout",
     "output_type": "stream",
     "text": [
      "Enter score for score 1\n",
      "Enter score for score 2\n",
      "Enter score for score 3\n",
      "Enter score for score 4\n",
      "Enter score for score 5\n",
      "You Entered\n",
      "Score 1 : 56.0\n",
      "Score 2 : 56.0\n",
      "Score 3 : 34.0\n",
      "Score 4 : 6.0\n",
      "Score 5 : 78.0\n",
      "Maximum mark: 78.0\n",
      "Minimum mark: 6.0\n",
      "Total Marks = 230.0\n"
     ]
    }
   ],
   "source": [
    "marks = []\n",
    "try:\n",
    "    subjects = int(input(\"Enter the number of subjects done\"))\n",
    "    for i in range(subjects):\n",
    "        score=input(print(f\"Enter score for score {i+1}\"))\n",
    "        score = float(score)#converting the score entered int a float\n",
    "        marks.insert(i,score)#i is the index where the score entered is stored\n",
    "    print(\"You Entered\")\n",
    "    n=0\n",
    "    for x in marks:#looping through the marks list to obtain scores entered\n",
    "        n=n+1\n",
    "        print(f\"Score {n} : {x}\")\n",
    "    print(f\"Maximum mark: {max(marks)}\")\n",
    "    print(f\"Minimum mark: {min(marks)}\")\n",
    "    print(f\"Total Marks = {sum(marks)}\")\n",
    "except:\n",
    "    print(\"Error: you entered an invalid input.Try again\")"
   ]
  },
  {
   "attachments": {},
   "cell_type": "markdown",
   "id": "5cd96af5",
   "metadata": {},
   "source": [
    "#Creating Hangman"
   ]
  },
  {
   "cell_type": "code",
   "execution_count": 54,
   "id": "e959641f",
   "metadata": {},
   "outputs": [
    {
     "name": "stdout",
     "output_type": "stream",
     "text": [
      "Thanks for playing \n",
      "Game provided by Prof angera\n"
     ]
    }
   ],
   "source": [
    "#import additional functions\n",
    "from random import choice\n",
    "from IPython.display import clear_output\n",
    "words = [\"tree\",\"basket\",\"chair\",\"paper\",\"python\"]\n",
    "word = choice(words)#importing the hidden word randomly\n",
    "guessed = []#a list to store the guesses made by the user\n",
    "lives = 7\n",
    "game_over = False\n",
    "#Generate a hidden word represented by underscores but is equal to the length of the line\n",
    "guesses = [\"_\"]*len(word)#the correct word but represented by underscores\n",
    "try:\n",
    "    while not game_over:\n",
    "        hidden_word = \"\".join(guesses)#joins the underscores together to hide the correct answer\n",
    "        print(f\"Your guessed letters:{guessed}\")\n",
    "        print(f\"Word to guess: {hidden_word}\")\n",
    "        print(f\"Lives: {lives}\")\n",
    "        ans=input(print(\"Do you wish to continue or quit the game\")).lower()\n",
    "        clear_output()#clears all previous output\n",
    "        if ans==\"quit\":\n",
    "            print(\"Thanks for playing \\nGame provided by Prof angera\")\n",
    "            game_over=True\n",
    "        elif ans in word and ans not in guessed:\n",
    "            print(\"You guessed correctly\")\n",
    "            for i in range(len(word)):#changing underscores to words\n",
    "                if word[i]==ans:\n",
    "                    guesses[i] = ans\n",
    "        elif ans in guessed:\n",
    "            print(\"Yuo already guessed that.Try again\")\n",
    "        else:\n",
    "            lives=lives-1\n",
    "            print(\"Incorect, you lost a life.\")\n",
    "            \n",
    "            if ans not in guessed:\n",
    "                guessed.append(ans) #add ans to the guessed list\n",
    "        if lives<=0:\n",
    "            print(\"You lost all your lives,you lost\")\n",
    "            game_over=True\n",
    "        elif word == \"\".join(guesses):\n",
    "            print(\"Congratulatulations !!!, You guessed it correctly\")\n",
    "            game_over=True\n",
    "except:\n",
    "    print(\"errors\")\n"
   ]
  },
  {
   "cell_type": "code",
   "execution_count": 78,
   "id": "3c4b2ae4",
   "metadata": {},
   "outputs": [
    {
     "name": "stdout",
     "output_type": "stream",
     "text": [
      "\n",
      " X \n",
      " X  X \n",
      " X  X  X \n"
     ]
    }
   ],
   "source": [
    "for i in range(4):\n",
    "    print(\" X \"*i)"
   ]
  },
  {
   "cell_type": "code",
   "execution_count": 94,
   "id": "805dc16f",
   "metadata": {},
   "outputs": [
    {
     "name": "stdout",
     "output_type": "stream",
     "text": [
      "[89.6, 53.6, 111.2, 84.2]\n"
     ]
    }
   ],
   "source": [
    "#convert into celsius\n",
    "temps = [32,12,44,29]\n",
    "F = []\n",
    "for i in temps:\n",
    "    F.append((9/5)*i+32)\n",
    "print(F)"
   ]
  }
 ],
 "metadata": {
  "kernelspec": {
   "display_name": "Python 3 (ipykernel)",
   "language": "python",
   "name": "python3"
  },
  "language_info": {
   "codemirror_mode": {
    "name": "ipython",
    "version": 3
   },
   "file_extension": ".py",
   "mimetype": "text/x-python",
   "name": "python",
   "nbconvert_exporter": "python",
   "pygments_lexer": "ipython3",
   "version": "3.10.9"
  }
 },
 "nbformat": 4,
 "nbformat_minor": 5
}
