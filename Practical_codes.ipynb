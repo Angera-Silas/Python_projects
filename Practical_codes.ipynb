{
 "cells": [
  {
   "attachments": {},
   "cell_type": "markdown",
   "metadata": {},
   "source": [
    "#Write a program to convert into seconds"
   ]
  },
  {
   "cell_type": "code",
   "execution_count": 5,
   "metadata": {},
   "outputs": [
    {
     "name": "stdout",
     "output_type": "stream",
     "text": [
      "What do you wish to convert into seconds\n",
      "days\n",
      "hours\n",
      "minutes\n",
      "Enter the number of days to convert\n",
      "600 Days == 51840000.0 Secs\n",
      "***Thank you for using our product\n",
      "***Code Provided to you by Prof Angera Silas\n"
     ]
    }
   ],
   "source": [
    "def timeConverter(option):\n",
    "    if option == \"days\":\n",
    "        day = int(input(print(\"Enter the number of days to convert\")))\n",
    "        seconds = day*24*3600\n",
    "        print(f\"{day} Days == {float(seconds)} Secs\\n***Thank you for using our product\\n***Code Provided to you by Prof Angera Silas\")\n",
    "    elif option ==\"hours\":\n",
    "        hour = float(input(print(\"Enter the number of hours to convert\")))\n",
    "        seconds = hour*3600\n",
    "        print(f\"{hour} Hrs == {float(seconds)} Secs\\n***Thank you for using our product\\n***Code Provided to you by Prof Angera Silas\")\n",
    "    elif option==\"minutes\":\n",
    "        mins = float(input(print(\"Enter the number of Minutes to convert\")))\n",
    "        seconds = mins*60\n",
    "        print(f\"{mins} Mins== {float(seconds)} secs\\n***Thank you for using our product\\n***Code Provided to you by Prof Angera Silas\")\n",
    "    else:\n",
    "        print(\"You made a wrong choice kindly try again later.\\n***Thank you for using our product\\n***Code provided by Prof Angera Silas\")\n",
    "try:\n",
    "    opt = input(print(\"What do you wish to convert into seconds\\ndays\\nhours\\nminutes\")).lower()\n",
    "    timeConverter(opt)\n",
    "except:\n",
    "    print(\"Error:You made a mistake in the above choice.Please try again later\")"
   ]
  },
  {
   "attachments": {},
   "cell_type": "markdown",
   "metadata": {},
   "source": [
    "#program to check whether a character entered is an alphabet or not"
   ]
  },
  {
   "cell_type": "code",
   "execution_count": 1,
   "metadata": {},
   "outputs": [
    {
     "name": "stdout",
     "output_type": "stream",
     "text": [
      "Enter any character\n",
      "e is an alphabet\n"
     ]
    }
   ],
   "source": [
    "def AlphabetCheck():\n",
    "    if ch>='a' and ch<='z' or ch>='A' and ch<='Z':\n",
    "        print(f\"{ch} is an alphabet\")\n",
    "    else:\n",
    "        print(f\"{ch} is not an alphabet\")\n",
    "ch = input(print(\"Enter any character\"))\n",
    "AlphabetCheck()"
   ]
  },
  {
   "attachments": {},
   "cell_type": "markdown",
   "metadata": {},
   "source": [
    "#Construct a program for this case. A student will not be allowed to sit in exam if his/her attendance is less than 80%. Take the following input from the user.:\n",
    "Number of classes held ,\n",
    "Number of classes attended ,\n",
    "and print :\n",
    "the percentage of the class attended and if the student is allowed or not allowed to sit in exam"
   ]
  },
  {
   "cell_type": "code",
   "execution_count": 12,
   "metadata": {},
   "outputs": [
    {
     "name": "stdout",
     "output_type": "stream",
     "text": [
      "Input the total number of classes held this semester\n",
      "Sorry we encountered an issue with your information. please try again later\n"
     ]
    }
   ],
   "source": [
    "def AttendanceSheet(*args):\n",
    "    percentage_of_class_attended = (total_classes_attended/total_classes_held)*100\n",
    "    if percentage_of_class_attended>=80:\n",
    "        print(\"The student attended [{}%] of the classes\\nTherefore he is allowed to sit in Exam\".format(percentage_of_class_attended))\n",
    "    else:\n",
    "        print(\"The student only attended[{}%] of the classes held\\nTherefore not allowed to sit in exam\".format(percentage_of_class_attended))\n",
    "try:\n",
    "    total_classes_held=int(input(print(\"Input the total number of classes held this semester\")))\n",
    "    total_classes_attended=int(input(print(\"Input the total number of classes attended by student this semester\")))\n",
    "    AttendanceSheet(total_classes_held,total_classes_attended)\n",
    "except:\n",
    "    print(\"Sorry we encountered an issue with your information. please try again later\")"
   ]
  },
  {
   "attachments": {},
   "cell_type": "markdown",
   "metadata": {},
   "source": [
    "#a program to check whether the entered alphabet is an uppercase or lower case"
   ]
  },
  {
   "cell_type": "code",
   "execution_count": 7,
   "metadata": {},
   "outputs": [
    {
     "name": "stdout",
     "output_type": "stream",
     "text": [
      "Enter an alphabet\n",
      "The Character Entered is not an alphabet\n"
     ]
    }
   ],
   "source": [
    "try:\n",
    "    alphabet = input(print(\"Enter an alphabet\"))\n",
    "    if alphabet>='a' and alphabet <='z':\n",
    "        print(f\"{alphabet} is a lowercase character\")\n",
    "    elif alphabet>=\"A\" and alphabet<=\"Z\":\n",
    "        print(f\"{alphabet} is an uppercase character\")\n",
    "    else:\n",
    "        print(\"The Character Entered is not an alphabet\")\n",
    "except:\n",
    "    print(\"Error: A problem occured while running the program\")\n",
    "        "
   ]
  },
  {
   "attachments": {},
   "cell_type": "markdown",
   "metadata": {},
   "source": [
    "#program to convert binary to decimal"
   ]
  },
  {
   "cell_type": "code",
   "execution_count": 103,
   "metadata": {},
   "outputs": [
    {
     "name": "stdout",
     "output_type": "stream",
     "text": [
      "1\n"
     ]
    }
   ],
   "source": [
    "def binary_to_decimal(binary):\n",
    "    decimal = 0\n",
    "    n=0\n",
    "    bin=binary\n",
    "    \n",
    "    while bin!=0:\n",
    "        digit=bin%10 #eliminates the last digit\n",
    "        if digit == 1:\n",
    "            pv=pow(2,n)\n",
    "            return (digit*pv)+decimal #converting binary to decimal\n",
    "        n=n+1\n",
    "    #removing the last digit\n",
    "        bin = bin/10\n",
    "binary = int(input(\"Enter the binary digits\"))\n",
    "print(binary_to_decimal(binary))"
   ]
  },
  {
   "attachments": {},
   "cell_type": "markdown",
   "metadata": {},
   "source": [
    "#Factorial using Recursion"
   ]
  },
  {
   "cell_type": "code",
   "execution_count": 100,
   "metadata": {},
   "outputs": [
    {
     "name": "stdout",
     "output_type": "stream",
     "text": [
      "Enter a number to finds its factorial\n",
      "Error occured.please try again later\n"
     ]
    }
   ],
   "source": [
    "def Factorial(n):\n",
    "    if n>1:\n",
    "        return n*Factorial(n-1)\n",
    "    else:\n",
    "        return 1\n",
    "try:\n",
    "    n=int(input(print(\"Enter a number to finds its factorial\")))\n",
    "    print(\"Factorial of {} == [{}]\".format(n,Factorial(n)))\n",
    "except:\n",
    "    print(\"Error occured.please try again later\")"
   ]
  },
  {
   "cell_type": "code",
   "execution_count": 81,
   "metadata": {},
   "outputs": [
    {
     "name": "stdout",
     "output_type": "stream",
     "text": [
      "300\n"
     ]
    }
   ],
   "source": [
    "def Area(*args):\n",
    "    area = l*w\n",
    "    return area\n",
    "l=10\n",
    "w=30\n",
    "print(Area(l,w))"
   ]
  }
 ],
 "metadata": {
  "kernelspec": {
   "display_name": "base",
   "language": "python",
   "name": "python3"
  },
  "language_info": {
   "codemirror_mode": {
    "name": "ipython",
    "version": 3
   },
   "file_extension": ".py",
   "mimetype": "text/x-python",
   "name": "python",
   "nbconvert_exporter": "python",
   "pygments_lexer": "ipython3",
   "version": "3.10.9"
  },
  "orig_nbformat": 4
 },
 "nbformat": 4,
 "nbformat_minor": 2
}
