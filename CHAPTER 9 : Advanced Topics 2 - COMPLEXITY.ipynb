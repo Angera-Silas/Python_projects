{
 "cells": [
  {
   "cell_type": "markdown",
   "id": "0917b1ea",
   "metadata": {},
   "source": [
    "# Generators and Iterators"
   ]
  },
  {
   "cell_type": "markdown",
   "id": "b5959dfa",
   "metadata": {},
   "source": [
    "## Iterators Vs. Iterables\n",
    "\n",
    "**Iterators** - object containing data that can be iterated upon\n",
    "\n",
    "**Iterables** - collection like lists,dictionaries,tuples and sets\n",
    "\n",
    "### Lets create a Basic Iterator from an iterable"
   ]
  },
  {
   "cell_type": "code",
   "execution_count": 3,
   "id": "7d955470",
   "metadata": {},
   "outputs": [
    {
     "name": "stdout",
     "output_type": "stream",
     "text": [
      "baseball\n",
      "football\n",
      "hockey\n",
      "soccer\n"
     ]
    }
   ],
   "source": [
    "sports = [\"baseball\",\"football\",\"hockey\",\"soccer\"]\n",
    "my_iter = iter(sports)\n",
    "#print(next(my_iter)) # prints the first item of the list\n",
    "#print(next(my_iter)) # prints the second item of the list\n",
    "for item in my_iter:\n",
    "    print(item)"
   ]
  },
  {
   "cell_type": "markdown",
   "id": "789b06ca",
   "metadata": {},
   "source": [
    "### Now that we have known how iterators work lets create our own iterator to understand more :"
   ]
  },
  {
   "cell_type": "code",
   "execution_count": 2,
   "id": "809b7e65",
   "metadata": {},
   "outputs": [
    {
     "name": "stdout",
     "output_type": "stream",
     "text": [
      "a\tA\n",
      "b\tB\n",
      "c\tC\n",
      "d\tD\n",
      "e\tE\n",
      "f\tF\n",
      "g\tG\n",
      "h\tH\n",
      "i\tI\n",
      "j\tJ\n",
      "k\tK\n",
      "l\tL\n",
      "m\tM\n",
      "n\tN\n",
      "o\tO\n",
      "p\tP\n",
      "q\tQ\n",
      "r\tR\n",
      "s\tS\n",
      "t\tT\n",
      "u\tU\n",
      "v\tV\n",
      "w\tW\n",
      "x\tX\n",
      "y\tY\n",
      "z\tZ\n"
     ]
    }
   ],
   "source": [
    "class Alphabet():\n",
    "    #Lets use iter method as initilisation method for iterators\n",
    "    def __iter__(self):\n",
    "        self.letters = \"abcdefghijklmnopqrstuvwxyz\"\n",
    "        self.index = 0\n",
    "        return self# you must always return self\n",
    "    # The second method is formed so that when called upon ,the iterator return the next character\n",
    "    def __next__(self):\n",
    "        if self.index<=25:\n",
    "            char = self.letters[self.index]# keeps track of the next item to be returned\n",
    "            self.index +=1\n",
    "            return char\n",
    "        else:\n",
    "            raise StopIteration\n",
    "for char in Alphabet():\n",
    "    print(f\"{char}\\t{char.upper()}\")"
   ]
  },
  {
   "cell_type": "markdown",
   "id": "0ab951fd",
   "metadata": {},
   "source": [
    "## Generators"
   ]
  },
  {
   "cell_type": "markdown",
   "id": "d06aa2b4",
   "metadata": {},
   "source": [
    "**Generators** are functions that yield back information to produce a sequence of results rather than a single value"
   ]
  },
  {
   "cell_type": "markdown",
   "id": "2cb70d83",
   "metadata": {},
   "source": [
    "### Creating a Range Generator"
   ]
  },
  {
   "cell_type": "code",
   "execution_count": 4,
   "id": "fd4321e0",
   "metadata": {},
   "outputs": [
    {
     "name": "stdout",
     "output_type": "stream",
     "text": [
      "Generator start Value: 0\n",
      "For loop X Value: 0\n",
      "Generator start Value: 1\n",
      "For loop X Value: 1\n",
      "Generator start Value: 2\n",
      "For loop X Value: 2\n",
      "Generator start Value: 3\n",
      "For loop X Value: 3\n",
      "Generator start Value: 4\n",
      "For loop X Value: 4\n"
     ]
    }
   ],
   "source": [
    "def myRange(stop,start=0,step=1):\n",
    "    while start < stop:\n",
    "        print(f\"Generator start Value: {start}\")\n",
    "        yield start\n",
    "        start += step#increementing with step otherwise we will form an infinite loop\n",
    "for i in myRange(5):\n",
    "    print(\"For loop X Value: {}\".format(i))"
   ]
  },
  {
   "cell_type": "markdown",
   "id": "9f26daca",
   "metadata": {},
   "source": [
    "### Monday: Exercise"
   ]
  },
  {
   "cell_type": "markdown",
   "id": "c36cae62",
   "metadata": {},
   "source": [
    "#### 1. Reverse Iteration - Create an iterator that takes in a list , and when iterated over, it reverses the order"
   ]
  },
  {
   "cell_type": "code",
   "execution_count": 14,
   "id": "f320907d",
   "metadata": {},
   "outputs": [
    {
     "name": "stdout",
     "output_type": "stream",
     "text": [
      "9\n",
      "8\n",
      "7\n",
      "6\n",
      "5\n",
      "4\n",
      "3\n",
      "2\n",
      "1\n",
      "0\n"
     ]
    }
   ],
   "source": [
    "#creating a reverse iter\n",
    "class RevIter():\n",
    "    def __init__(self, a):\n",
    "        self.nums = a\n",
    "    def __iter__(self):\n",
    "        self.index = 0\n",
    "        #Reversing the order of items in the list\n",
    "        self.nums = self.nums[::-1]\n",
    "        return self\n",
    "    def __next__(self):\n",
    "        if self.index < len(self.nums):\n",
    "            value = self.nums[self.index]\n",
    "            self.index += 1\n",
    "            return value\n",
    "        else:\n",
    "            raise StopIteration\n",
    "            \n",
    "numbers = [x for x in range(10)]\n",
    "for i in RevIter(numbers):\n",
    "    print(i)\n"
   ]
  },
  {
   "cell_type": "markdown",
   "id": "5bd3be54",
   "metadata": {},
   "source": [
    "#### 2. Create a generator that yields squared number every time"
   ]
  },
  {
   "cell_type": "code",
   "execution_count": 3,
   "id": "e7f16da8",
   "metadata": {},
   "outputs": [
    {
     "name": "stdout",
     "output_type": "stream",
     "text": [
      "1\n",
      "4\n",
      "9\n",
      "16\n"
     ]
    }
   ],
   "source": [
    "def squared(stop,start=0,step=1):\n",
    "    while start<=stop:\n",
    "        yield start**2\n",
    "        start+=step\n",
    "for i in squared(4):\n",
    "    if i>0:\n",
    "        print(i)"
   ]
  },
  {
   "cell_type": "markdown",
   "id": "59e2b117",
   "metadata": {},
   "source": [
    "# Decorators"
   ]
  },
  {
   "cell_type": "markdown",
   "id": "b596995e",
   "metadata": {},
   "source": [
    "Also known as *wrappers*, are functions that give other fuctions extra capabilities without explicity modifying them.\n",
    "\n",
    "Denoted by '@' symbol infront of the function name"
   ]
  },
  {
   "cell_type": "markdown",
   "id": "bdbf25aa",
   "metadata": {},
   "source": [
    "### Creating and Applying a Decorator"
   ]
  },
  {
   "cell_type": "code",
   "execution_count": 3,
   "id": "d18f74db",
   "metadata": {},
   "outputs": [
    {
     "name": "stdout",
     "output_type": "stream",
     "text": [
      "=====\n",
      "Silas\n",
      "=====\n"
     ]
    }
   ],
   "source": [
    "def decorator(func):\n",
    "    def wrap():\n",
    "        print(\"=====\")\n",
    "        func()\n",
    "        print(\"=====\")\n",
    "    return wrap\n",
    "@decorator\n",
    "def printName():\n",
    "    print(\"Silas\")\n",
    "printName()"
   ]
  },
  {
   "cell_type": "markdown",
   "id": "4d1c6198",
   "metadata": {},
   "source": [
    "### Decorators with Parameters"
   ]
  },
  {
   "cell_type": "code",
   "execution_count": 6,
   "id": "32ac7a02",
   "metadata": {},
   "outputs": [
    {
     "name": "stdout",
     "output_type": "stream",
     "text": [
      "Hello buddies\n",
      "Hello buddies\n",
      "Hello buddies\n",
      "Hello buddies\n"
     ]
    }
   ],
   "source": [
    "def run_times(num):\n",
    "    def wrap(func):\n",
    "        for i in range(num):\n",
    "            func()\n",
    "    return wrap\n",
    "@run_times(4)\n",
    "def sayHello():\n",
    "    print(\"Hello buddies\")\n"
   ]
  },
  {
   "cell_type": "markdown",
   "id": "adbf6a53",
   "metadata": {},
   "source": [
    "### Functions with Decoratos and Parameters"
   ]
  },
  {
   "cell_type": "code",
   "execution_count": 10,
   "id": "bd8dbeb9",
   "metadata": {},
   "outputs": [
    {
     "name": "stdout",
     "output_type": "stream",
     "text": [
      "Happy birthday Silas,you are now 23\n",
      "Happy birthday Victor,you are now 29\n"
     ]
    }
   ],
   "source": [
    "def birthday(func):\n",
    "    def wrap(name,age):#Must take in arguements as the original function\n",
    "        func(name,age+1)\n",
    "    return wrap\n",
    "@birthday\n",
    "def celebrate(name,age): #the original function that will be taken into the decorator as an arguement func\n",
    "    print(f\"Happy birthday {name},you are now {age}\")\n",
    "celebrate(\"Silas\",22)\n",
    "celebrate(\"Victor\",28)"
   ]
  },
  {
   "cell_type": "markdown",
   "id": "2a9ea5b4",
   "metadata": {},
   "source": [
    "### Restricting Function access"
   ]
  },
  {
   "cell_type": "code",
   "execution_count": 15,
   "id": "edda041b",
   "metadata": {},
   "outputs": [
    {
     "name": "stdout",
     "output_type": "stream",
     "text": [
      "Enter your username:\n",
      "silas\n",
      "Enter your password:\n",
      "2545\n",
      "Access granted, Welcome silas\n"
     ]
    }
   ],
   "source": [
    "def login_required(func):\n",
    "    def wrap(users):\n",
    "        name = input(\"Enter your username:\\n\")\n",
    "        password = input(\"Enter your password:\\n\")\n",
    "        if password == users[\"password\"] and name == users[\"name\"]:\n",
    "            func(users)\n",
    "        else:\n",
    "            print(\"Acess denied...wrong username or password\")\n",
    "    return wrap\n",
    "@login_required\n",
    "def restricteduser(users):\n",
    "    print(f\"Access granted, Welcome {users['name']}\")\n",
    "users = {\"name\":\"silas\",\"password\":\"2545\"}\n",
    "restricteduser(users)"
   ]
  },
  {
   "cell_type": "markdown",
   "id": "6fd0f573",
   "metadata": {},
   "source": [
    "## Exercise"
   ]
  },
  {
   "cell_type": "code",
   "execution_count": 21,
   "id": "7355961f",
   "metadata": {},
   "outputs": [
    {
     "name": "stdout",
     "output_type": "stream",
     "text": [
      "Enter any number : 75\n",
      "75\n",
      "Less than 100\n"
     ]
    }
   ],
   "source": [
    "def decorator(func):\n",
    "    def wrap(num):\n",
    "        if num < 100:\n",
    "            print(num)\n",
    "            func(num)\n",
    "        else:\n",
    "            pass\n",
    "    return wrap\n",
    "@decorator\n",
    "def numbers(num):\n",
    "        print(\"Less than 100\")\n",
    "num = int(input(\"Enter any number : \"))\n",
    "numbers(num)"
   ]
  },
  {
   "cell_type": "code",
   "execution_count": 20,
   "id": "15059701",
   "metadata": {},
   "outputs": [
    {
     "name": "stdout",
     "output_type": "stream",
     "text": [
      "/index\n",
      "This is how web pages are made in Flask\n"
     ]
    }
   ],
   "source": [
    "def route(string):\n",
    "    def wrap(func):\n",
    "        print(string)\n",
    "        func()\n",
    "    return wrap\n",
    "@route(\"/index\")\n",
    "def index():\n",
    "    print(\"This is how web pages are made in Flask\")"
   ]
  },
  {
   "cell_type": "markdown",
   "id": "fdc0fae7",
   "metadata": {},
   "source": [
    "#### wrappers can also be imported from functools"
   ]
  },
  {
   "cell_type": "code",
   "execution_count": 36,
   "id": "1c39b767",
   "metadata": {},
   "outputs": [
    {
     "ename": "TypeError",
     "evalue": "update_wrapper() got multiple values for argument 'wrapped'",
     "output_type": "error",
     "traceback": [
      "\u001b[0;31m---------------------------------------------------------------------------\u001b[0m",
      "\u001b[0;31mTypeError\u001b[0m                                 Traceback (most recent call last)",
      "Cell \u001b[0;32mIn[36], line 11\u001b[0m\n\u001b[1;32m      8\u001b[0m \u001b[38;5;129m@birthday\u001b[39m\n\u001b[1;32m      9\u001b[0m \u001b[38;5;28;01mdef\u001b[39;00m \u001b[38;5;21mcelebrate\u001b[39m(name,age):\n\u001b[1;32m     10\u001b[0m     \u001b[38;5;28mprint\u001b[39m(\u001b[38;5;124mf\u001b[39m\u001b[38;5;124m\"\u001b[39m\u001b[38;5;124mHappy birthday \u001b[39m\u001b[38;5;132;01m{\u001b[39;00mname\u001b[38;5;132;01m}\u001b[39;00m\u001b[38;5;124m, you are now \u001b[39m\u001b[38;5;132;01m{\u001b[39;00mage\u001b[38;5;132;01m}\u001b[39;00m\u001b[38;5;124m\"\u001b[39m)\n\u001b[0;32m---> 11\u001b[0m \u001b[43mcelebrate\u001b[49m\u001b[43m(\u001b[49m\u001b[38;5;124;43m\"\u001b[39;49m\u001b[38;5;124;43mAmos\u001b[39;49m\u001b[38;5;124;43m\"\u001b[39;49m\u001b[43m,\u001b[49m\u001b[38;5;124;43m\"\u001b[39;49m\u001b[38;5;124;43m24\u001b[39;49m\u001b[38;5;124;43m\"\u001b[39;49m\u001b[43m)\u001b[49m\n",
      "\u001b[0;31mTypeError\u001b[0m: update_wrapper() got multiple values for argument 'wrapped'"
     ]
    }
   ],
   "source": [
    "from functools import wraps\n",
    "def birthday(func):\n",
    "    @wraps\n",
    "    def wrapper(*args,**kwargs):\n",
    "        print(\"Inside the wrapper|\")\n",
    "        return func(*args,**kwargs)\n",
    "    return wrapper\n",
    "@birthday\n",
    "def celebrate(name,age):\n",
    "    print(f\"Happy birthday {name}, you are now {age}\")\n",
    "celebrate(\"Amos\",24)"
   ]
  },
  {
   "cell_type": "markdown",
   "id": "83f2605b",
   "metadata": {},
   "source": [
    "# Modules"
   ]
  },
  {
   "cell_type": "markdown",
   "id": "d4331104",
   "metadata": {},
   "source": [
    "## Importing modules\n",
    "\n",
    "Python has several in-built modules.\n",
    "\n",
    "In this example we will *math* module"
   ]
  },
  {
   "cell_type": "code",
   "execution_count": 37,
   "id": "02402cd4",
   "metadata": {},
   "outputs": [
    {
     "name": "stdout",
     "output_type": "stream",
     "text": [
      "2\n",
      "3\n",
      "3.141592653589793\n"
     ]
    }
   ],
   "source": [
    "import math\n",
    "print(math.floor(2.5)) # rounds down\n",
    "print(math.ceil(2.5))# rounds up\n",
    "print(math.pi)"
   ]
  },
  {
   "cell_type": "markdown",
   "id": "0e842d91",
   "metadata": {},
   "source": [
    " ## Importing Only Variables and Functions\n",
    " You should ensure you import what you only need and not the whole module\n",
    " \n",
    " We need to use the keyword *from* and the names of functions we want to import\n",
    " \n",
    " we can calculate the area of a circle using imported pi\n",
    " \n",
    " Doing this will be better efficiency"
   ]
  },
  {
   "cell_type": "code",
   "execution_count": 40,
   "id": "a6c58ac0",
   "metadata": {},
   "outputs": [
    {
     "name": "stdout",
     "output_type": "stream",
     "text": [
      "Enter the radius of the circle : 10\n",
      "314.1592653589793\n"
     ]
    }
   ],
   "source": [
    "from math import pi\n",
    "r = float(input(\"Enter the radius of the circle : \"))\n",
    "area = (lambda r: pi*r*r)(r)\n",
    "print(area)"
   ]
  },
  {
   "cell_type": "markdown",
   "id": "517e8e99",
   "metadata": {},
   "source": [
    "We can import classes from modules the same way as earlier; simply use the name of the class"
   ]
  },
  {
   "cell_type": "markdown",
   "id": "3a2bf80b",
   "metadata": {},
   "source": [
    "## Using Alias"
   ]
  },
  {
   "cell_type": "markdown",
   "id": "97a55dd6",
   "metadata": {},
   "source": [
    "Sometimes , the name of the module may be lengthy. Rather than writting the entire name each time, we can give an **\"alias\"** or nickname"
   ]
  },
  {
   "cell_type": "code",
   "execution_count": 45,
   "id": "1efd4a16",
   "metadata": {},
   "outputs": [
    {
     "name": "stdout",
     "output_type": "stream",
     "text": [
      "Enter a number to calculate its square root\n",
      "30\n",
      "5.477225575051661\n"
     ]
    }
   ],
   "source": [
    "from math import sqrt as s\n",
    "try:\n",
    "    number = float(input(\"Enter a number to calculate its square root\\n\"))\n",
    "    print(s(number))\n",
    "except:\n",
    "    print(\"An internal error occured...try again later\")"
   ]
  },
  {
   "cell_type": "markdown",
   "id": "28a2f17a",
   "metadata": {},
   "source": [
    "## Creating our own module"
   ]
  },
  {
   "cell_type": "markdown",
   "id": "31b25346",
   "metadata": {},
   "source": [
    "You can open any text editor on your computer , write a python code and save it with a .py extension in the same directory(folder) you have saved your notebook\n",
    "\n",
    "Lets make a simple calculator and import it\n",
    "\n",
    "1. def add(x,y):\n",
    "2.     x,y=float(x),float(y)    \n",
    "3.     return x+y   \n",
    "4. def subtract(x,y):\n",
    "5.     x,y=float(x),float(y)\n",
    "6.     return x-y\n",
    "7. def multiply(x,y):\n",
    "8.     x,y=float(x),float(y)\n",
    "9.     return x*y\n",
    "10. def division(x,y):\n",
    "11.     x,y=float(x),float(y)\n",
    "12.     return x//y\n",
    "13. def modulous(x,y):\n",
    "14.     x,y=float(x),float(y)\n",
    "15.     return x%y\n",
    "### Method 1\n",
    "\n",
    "This method is used when the functions have not been runned in their original files , so we run the file in notebook"
   ]
  },
  {
   "cell_type": "code",
   "execution_count": 47,
   "id": "326cb00f",
   "metadata": {},
   "outputs": [
    {
     "name": "stdout",
     "output_type": "stream",
     "text": [
      "70.0\n",
      "25.0\n",
      "5000.0\n",
      "16.0\n"
     ]
    }
   ],
   "source": [
    "%run calc.py\n",
    "print(add(30,40))\n",
    "print(subtract(70,45))\n",
    "print(multiply(50,100))\n",
    "print(division(100,6))"
   ]
  },
  {
   "cell_type": "markdown",
   "id": "026ed143",
   "metadata": {},
   "source": [
    "### Method 2\n",
    "Lets modify the module so that instead of returning it automatically prints the values\n",
    "1. def add(x,y):\n",
    "2.     x,y=float(x),float(y)    \n",
    "3.     print(x+y)   \n",
    "4. def subtract(x,y):\n",
    "5.     x,y=float(x),float(y)\n",
    "6.     print(x-y)\n",
    "7. def multiply(x,y):\n",
    "8.     x,y=float(x),float(y)\n",
    "9.     print(x*y)\n",
    "10. def division(x,y):\n",
    "11.     x,y=float(x),float(y)\n",
    "12.     print(x//y)\n",
    "13. def modulous(x,y):\n",
    "14.     x,y=float(x),float(y)\n",
    "15.     print(x%y)\n",
    "\n",
    "When the code is written this way the functions can be imported as other functions"
   ]
  },
  {
   "cell_type": "code",
   "execution_count": 1,
   "id": "5d675bbd",
   "metadata": {},
   "outputs": [
    {
     "name": "stdout",
     "output_type": "stream",
     "text": [
      "Thank you for using our application\n",
      "You can send your recommentations at silasmukagatiangera@gmail.com\n"
     ]
    }
   ],
   "source": [
    "from IPython.display import clear_output\n",
    "import calc\n",
    "done = False\n",
    "while not done:\n",
    "    option = input(\"What do you want to do? \\n1.add \\n2.subtract \\n3.multiply \\n4.divide \\n5.quit \\n\").lower()\n",
    "    clear_output()\n",
    "    try:\n",
    "        if option == \"add\":\n",
    "            x = float(input(\"Enter the first value : \"))\n",
    "            y = float(input(\"Enter the second value : \"))\n",
    "            print(f\"Sum is {add(x,y)}\")\n",
    "        elif option ==\"subtract\":\n",
    "            x = float(input(\"Enter the first value : \"))\n",
    "            y = float(input(\"Enter the second value : \"))\n",
    "            print(f\"Difference is {subtract(x,y)}\")\n",
    "        elif option == \"multiply\":\n",
    "            x = float(input(\"Enter the first value : \"))\n",
    "            y = float(input(\"Enter the second value : \"))\n",
    "            print(f\"Product is {multiply(x,y)}\")\n",
    "        elif option == \"divide\":\n",
    "            x = float(input(\"Enter the Dividend : \"))\n",
    "            y = float(input(\"Enter the Divisor : \"))\n",
    "            print(f\"Quotient is {division(x,y)} and the Remainder is {modulous(x,y)}\")\n",
    "        elif option == \"quit\":\n",
    "            print(\"Thank you for using our application\\nYou can send your recommentations at silasmukagatiangera@gmail.com\")\n",
    "            break\n",
    "        else:\n",
    "            print(\"Invalid choice try again\")\n",
    "    except:\n",
    "        print(\"An internal error occurred\")"
   ]
  },
  {
   "cell_type": "markdown",
   "id": "4417503b",
   "metadata": {},
   "source": [
    "### Exercise"
   ]
  },
  {
   "cell_type": "markdown",
   "id": "bdaf97d9",
   "metadata": {},
   "source": [
    "**Import time module** and call the sleep function . make the cell sleep for 5 seconds and then print **\"Time module imported\"**"
   ]
  },
  {
   "cell_type": "code",
   "execution_count": 7,
   "id": "76a87c48",
   "metadata": {},
   "outputs": [
    {
     "name": "stdout",
     "output_type": "stream",
     "text": [
      "Time module imported\n",
      "Current time : 18:03:16\n"
     ]
    }
   ],
   "source": [
    "import time\n",
    "t = time.localtime() # creating a time object\n",
    "current_time = time.strftime(\"%H:%M:%S\",t)\n",
    "time.sleep(5)\n",
    "print(\"Time module imported\")\n",
    "print(f\"Current time : {current_time}\")"
   ]
  },
  {
   "cell_type": "code",
   "execution_count": null,
   "id": "f3adcf35",
   "metadata": {},
   "outputs": [],
   "source": []
  }
 ],
 "metadata": {
  "kernelspec": {
   "display_name": "Python 3 (ipykernel)",
   "language": "python",
   "name": "python3"
  },
  "language_info": {
   "codemirror_mode": {
    "name": "ipython",
    "version": 3
   },
   "file_extension": ".py",
   "mimetype": "text/x-python",
   "name": "python",
   "nbconvert_exporter": "python",
   "pygments_lexer": "ipython3",
   "version": "3.10.9"
  }
 },
 "nbformat": 4,
 "nbformat_minor": 5
}
