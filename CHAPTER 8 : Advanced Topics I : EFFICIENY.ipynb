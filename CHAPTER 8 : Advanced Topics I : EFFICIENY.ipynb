{
 "cells": [
  {
   "cell_type": "markdown",
   "id": "64ab50cb",
   "metadata": {},
   "source": [
    "# Advanced Topics 1 : Efficiency"
   ]
  },
  {
   "cell_type": "markdown",
   "id": "1787862c",
   "metadata": {},
   "source": [
    "## List comprehension"
   ]
  },
  {
   "cell_type": "markdown",
   "id": "27861b76",
   "metadata": {},
   "source": [
    "#### Syntax\n",
    "\n",
    "*result* = [***transform*** ***iteration*** ***filter***]\n",
    "\n",
    "#### Example\n",
    "\n",
    "name = [item to append for item in list]\n",
    "\n",
    "#### with an if statement\n",
    "\n",
    "name = [item_to_append for item in list if condition]\n",
    "\n",
    "#### with if...else statements\n",
    "name = [item_to_append if condition else item_to_append for item in list]"
   ]
  },
  {
   "cell_type": "markdown",
   "id": "ba64d72b",
   "metadata": {},
   "source": [
    "### Generating a list of numbers"
   ]
  },
  {
   "cell_type": "code",
   "execution_count": 1,
   "id": "2fe87e61",
   "metadata": {},
   "outputs": [
    {
     "name": "stdout",
     "output_type": "stream",
     "text": [
      "[0, 1, 2, 3, 4, 5, 6, 7, 8, 9, 10, 11, 12, 13, 14, 15, 16, 17, 18, 19, 20, 21, 22, 23, 24, 25, 26, 27, 28, 29, 30, 31, 32, 33, 34, 35, 36, 37, 38, 39, 40, 41, 42, 43, 44, 45, 46, 47, 48, 49, 50, 51, 52, 53, 54, 55, 56, 57, 58, 59, 60, 61, 62, 63, 64, 65, 66, 67, 68, 69, 70, 71, 72, 73, 74, 75, 76, 77, 78, 79, 80, 81, 82, 83, 84, 85, 86, 87, 88, 89, 90, 91, 92, 93, 94, 95, 96, 97, 98, 99]\n"
     ]
    }
   ],
   "source": [
    "nums = [x for x in range(100)]\n",
    "print(nums)\n",
    "\n",
    "#This code works the same as :\n",
    "# nums = []\n",
    "#for x in range(100):\n",
    "#    nums.append(x)\n",
    "#print(nums)"
   ]
  },
  {
   "cell_type": "code",
   "execution_count": 4,
   "id": "8339514f",
   "metadata": {},
   "outputs": [
    {
     "name": "stdout",
     "output_type": "stream",
     "text": [
      "[2, 4, 6, 8, 10, 12, 14, 16, 18, 20, 22, 24, 26, 28, 30, 32, 34, 36, 38, 40, 42, 44, 46, 48, 50, 52, 54, 56, 58, 60, 62, 64, 66, 68, 70, 72, 74, 76, 78, 80, 82, 84, 86, 88, 90, 92, 94, 96, 98]\n"
     ]
    }
   ],
   "source": [
    "#even numbers between 0 and 100\n",
    "even_numbers = [even for even in range(2,100,2)]\n",
    "print(even_numbers)\n",
    "#This code works the same as :\n",
    "# nums = []\n",
    "#for x in range(2,100,2):\n",
    "#    nums.append(x)\n",
    "#print(nums)"
   ]
  },
  {
   "cell_type": "markdown",
   "id": "9aa35af8",
   "metadata": {},
   "source": [
    "### If Statements"
   ]
  },
  {
   "cell_type": "code",
   "execution_count": 5,
   "id": "cc87e7a0",
   "metadata": {},
   "outputs": [
    {
     "name": "stdout",
     "output_type": "stream",
     "text": [
      "[1, 3, 5, 7, 9, 11, 13, 15, 17, 19, 21, 23, 25, 27, 29, 31, 33, 35, 37, 39, 41, 43, 45, 47, 49, 51, 53, 55, 57, 59, 61, 63, 65, 67, 69, 71, 73, 75, 77, 79, 81, 83, 85, 87, 89, 91, 93, 95, 97, 99]\n"
     ]
    }
   ],
   "source": [
    "odd_numbers = [x for x in range(100) if x%2 != 0]\n",
    "print(odd_numbers)"
   ]
  },
  {
   "cell_type": "markdown",
   "id": "1069c78f",
   "metadata": {},
   "source": [
    "### If-Else statements"
   ]
  },
  {
   "cell_type": "code",
   "execution_count": 9,
   "id": "b7f20b38",
   "metadata": {},
   "outputs": [
    {
     "name": "stdout",
     "output_type": "stream",
     "text": [
      "['Odd', 'Even', 'Odd', 'Even', 'Odd', 'Even', 'Odd', 'Even', 'Odd']\n"
     ]
    }
   ],
   "source": [
    "nums = [\"Even\" if x%2==0 else \"Odd\" for x in range(1,10)]\n",
    "print(nums)\n",
    "#This code works the same as :\n",
    "# nums = []\n",
    "#for x in range(100):\n",
    "#    if x%2==0:\n",
    "#        nums.append(\"Even\")\n",
    "#    else:\n",
    "#        nums.append(\"Odd\")\n",
    "#print(nums)"
   ]
  },
  {
   "cell_type": "markdown",
   "id": "59d791ba",
   "metadata": {},
   "source": [
    "## List Comprehension with Variables"
   ]
  },
  {
   "cell_type": "markdown",
   "id": "6d40beed",
   "metadata": {},
   "source": [
    "Lets take a list of numbers and generate a seperate list  of those numbers squared"
   ]
  },
  {
   "cell_type": "code",
   "execution_count": 12,
   "id": "af9d0888",
   "metadata": {},
   "outputs": [
    {
     "name": "stdout",
     "output_type": "stream",
     "text": [
      "[4, 16, 36, 64]\n",
      "[8, 64, 216, 512]\n"
     ]
    }
   ],
   "source": [
    "nums = [2,4,6,8]\n",
    "squared_nums = [num**2 for num in nums]\n",
    "cubed_nums = [n**3 for n in nums]\n",
    "print(squared_nums)\n",
    "print(cubed_nums)"
   ]
  },
  {
   "cell_type": "markdown",
   "id": "1ce9433c",
   "metadata": {},
   "source": [
    "## Dictionary Comprehension"
   ]
  },
  {
   "cell_type": "code",
   "execution_count": 6,
   "id": "24bc88c9",
   "metadata": {},
   "outputs": [
    {
     "name": "stdout",
     "output_type": "stream",
     "text": [
      "Cubes of even numbers\n",
      "{2: 8, 4: 64, 6: 216, 8: 512, 10: 1000, 12: 1728, 14: 2744, 16: 4096, 18: 5832}\n",
      "Square of odd numbers\n",
      "{1: 1, 3: 9, 5: 25, 7: 49, 9: 81, 11: 121, 13: 169, 15: 225, 17: 289, 19: 361}\n"
     ]
    }
   ],
   "source": [
    "# creating a dictionary of even number and cube valus using comprehension\n",
    "numbers = [x for x in range(1,20)]#lets take values between 0 and 20\n",
    "cubes = {num: num**3 for num in numbers if num%2==0}\n",
    "print(f\"Cubes of even numbers\\n{cubes}\")\n",
    "squares = {num:num**2 for num in numbers if num%2!=0}\n",
    "print(f\"Square of odd numbers\\n{squares}\")\n"
   ]
  },
  {
   "cell_type": "code",
   "execution_count": 11,
   "id": "308aa686",
   "metadata": {},
   "outputs": [
    {
     "name": "stdout",
     "output_type": "stream",
     "text": [
      "{12: 53.6, 21: 69.80000000000001, 15: 59.0, 32: 89.6}\n"
     ]
    }
   ],
   "source": [
    "celcius = [12,21,15,32]\n",
    "Fahrenheit = {num: (num*(9/5)+32) for num in celcius}\n",
    "print(Fahrenheit)"
   ]
  },
  {
   "cell_type": "markdown",
   "id": "85c1e0cf",
   "metadata": {},
   "source": [
    "### A program to check the numbers divisible by an integer entered by the user between the interger entered and 100"
   ]
  },
  {
   "cell_type": "code",
   "execution_count": 2,
   "id": "8382bd06",
   "metadata": {},
   "outputs": [
    {
     "name": "stdout",
     "output_type": "stream",
     "text": [
      "[13, 26, 39, 52, 65, 78, 91]\n"
     ]
    }
   ],
   "source": [
    "try:\n",
    "    number = int(input(\"Enter any number between 1 and 100\"))\n",
    "    divisibles = [x for x in range(number,(100)+1) if x%number==0]\n",
    "    print(divisibles)\n",
    "except:\n",
    "    print(\"Error encountered ....check the value you entered and try again\")"
   ]
  },
  {
   "cell_type": "markdown",
   "id": "3bf906d4",
   "metadata": {},
   "source": [
    "## Lambda Functions"
   ]
  },
  {
   "cell_type": "markdown",
   "id": "d15e4c8f",
   "metadata": {},
   "source": [
    "### Examples"
   ]
  },
  {
   "cell_type": "code",
   "execution_count": 23,
   "id": "eebec22b",
   "metadata": {},
   "outputs": [
    {
     "data": {
      "text/plain": [
       "50"
      ]
     },
     "execution_count": 23,
     "metadata": {},
     "output_type": "execute_result"
    }
   ],
   "source": [
    "(lambda x,y:x*y)(10,5)"
   ]
  },
  {
   "cell_type": "markdown",
   "id": "bdb1925e",
   "metadata": {},
   "source": [
    "#### Saving a lambda function in a variable"
   ]
  },
  {
   "cell_type": "code",
   "execution_count": 3,
   "id": "b0054aab",
   "metadata": {},
   "outputs": [
    {
     "name": "stdout",
     "output_type": "stream",
     "text": [
      "8727924132753\n",
      "50\n"
     ]
    }
   ],
   "source": [
    "square = lambda x,y:x*y\n",
    "print(hash(square))\n",
    "result = square(10,5)#calling the lambda function stored in the square variable and returns 5*10\n",
    "print(result)"
   ]
  },
  {
   "cell_type": "markdown",
   "id": "167c978b",
   "metadata": {},
   "source": [
    "#### Conditional statements"
   ]
  },
  {
   "cell_type": "markdown",
   "id": "15624748",
   "metadata": {},
   "source": [
    "using if/else statements within a lambda to return the greater number"
   ]
  },
  {
   "cell_type": "code",
   "execution_count": 2,
   "id": "4b50d826",
   "metadata": {},
   "outputs": [
    {
     "name": "stdout",
     "output_type": "stream",
     "text": [
      "30\n"
     ]
    }
   ],
   "source": [
    "greater = lambda x,y : x if x>y else y\n",
    "result = greater(10,30)\n",
    "print(result)"
   ]
  },
  {
   "cell_type": "markdown",
   "id": "53ccdcd9",
   "metadata": {},
   "source": [
    "### Returning a lambda"
   ]
  },
  {
   "cell_type": "code",
   "execution_count": 2,
   "id": "ab89ab22",
   "metadata": {},
   "outputs": [
    {
     "name": "stdout",
     "output_type": "stream",
     "text": [
      "25\n",
      "125\n"
     ]
    }
   ],
   "source": [
    "def myfunction(n):\n",
    "    return lambda x: x**n\n",
    "square = myfunction(2)\n",
    "print(square(5))\n",
    "cube = myfunction(3)\n",
    "print(cube(5))"
   ]
  },
  {
   "cell_type": "markdown",
   "id": "b80dc93e",
   "metadata": {},
   "source": [
    "## The program below checks if the number entered by the user is greater than 50 or not"
   ]
  },
  {
   "cell_type": "code",
   "execution_count": 1,
   "id": "1a82cd0c",
   "metadata": {},
   "outputs": [
    {
     "name": "stdout",
     "output_type": "stream",
     "text": [
      "False\n",
      "True\n"
     ]
    }
   ],
   "source": [
    "number=lambda x:True if x>50 else False\n",
    "test1 = number(int(input(\"Enter any value\")))\n",
    "print(test1)\n",
    "test2 = number(int(input(\"Enter any value\")))\n",
    "print(test2)"
   ]
  },
  {
   "cell_type": "code",
   "execution_count": 5,
   "id": "4ede95f1",
   "metadata": {},
   "outputs": [
    {
     "name": "stdout",
     "output_type": "stream",
     "text": [
      "53.6\n"
     ]
    }
   ],
   "source": [
    "fah = lambda C:((9/5)*C)+32\n",
    "result = fah(12)\n",
    "print(result)"
   ]
  },
  {
   "cell_type": "markdown",
   "id": "f4caf0de",
   "metadata": {},
   "source": [
    "## Map, Filter, and Reduce"
   ]
  },
  {
   "cell_type": "markdown",
   "id": "70f0326a",
   "metadata": {},
   "source": [
    "### Map function"
   ]
  },
  {
   "cell_type": "markdown",
   "id": "616932fc",
   "metadata": {},
   "source": [
    "#### Map function without lambdas\n",
    "\n",
    "Lets take in temperature values in degree celcius and convert them into fahrenheits using a map function"
   ]
  },
  {
   "cell_type": "code",
   "execution_count": 2,
   "id": "6ece553e",
   "metadata": {},
   "outputs": [
    {
     "name": "stdout",
     "output_type": "stream",
     "text": [
      "[54.5, 56.480000000000004, 59.0, 49.28]\n"
     ]
    }
   ],
   "source": [
    "#using map function without lambdas\n",
    "def convertDeg(C):\n",
    "    return (9/5)*C+32\n",
    "temps = [12.5,13.6,15,9.6]\n",
    "converted_temps = map(convertDeg,temps)#using the map function to convert\n",
    "converted_temps = list(converted_temps)#type convert the map object into a list\n",
    "print(converted_temps)"
   ]
  },
  {
   "cell_type": "markdown",
   "id": "2fe10972",
   "metadata": {},
   "source": [
    "This line ***converted_temps = map(convertDeg,temps)*** in the above code works the same as this:\n",
    "\n",
    "1. ***for items in temps:***            \n",
    "     ***convertDeg(item)***"
   ]
  },
  {
   "cell_type": "markdown",
   "id": "213c6a37",
   "metadata": {},
   "source": [
    "#### Map with lambdas"
   ]
  },
  {
   "cell_type": "markdown",
   "id": "1c5362aa",
   "metadata": {},
   "source": [
    "A map takes in two arguements:\n",
    "1. Function - as the first parameter\n",
    "2. Data to be iterated\n",
    "\n",
    "Therefore we can simply program a lambda in place of the name of a defined function .\n",
    "###### For example lets use the degree conversion"
   ]
  },
  {
   "cell_type": "code",
   "execution_count": 5,
   "id": "bd1b05e4",
   "metadata": {},
   "outputs": [
    {
     "name": "stdout",
     "output_type": "stream",
     "text": [
      "[54.5, 56.480000000000004, 59.0, 49.28]\n"
     ]
    }
   ],
   "source": [
    "temps = [12.5,13.6,15,9.6]\n",
    "converted_temps = list(map(lambda C: (9/5)*C+32,temps))#type convert the map object rigth away\n",
    "print(converted_temps)"
   ]
  },
  {
   "cell_type": "markdown",
   "id": "f31f2e28",
   "metadata": {},
   "source": [
    "The codes we have just run in the above example represents the following program"
   ]
  },
  {
   "cell_type": "code",
   "execution_count": 7,
   "id": "1f989688",
   "metadata": {},
   "outputs": [
    {
     "name": "stdout",
     "output_type": "stream",
     "text": [
      "[54.5, 56.480000000000004, 59.0, 49.28]\n"
     ]
    }
   ],
   "source": [
    "def convertDeg(degrees):\n",
    "    converted = []\n",
    "    for degree in degrees:\n",
    "        result = (9/5)*degree+32\n",
    "        converted.append(result)\n",
    "    return converted\n",
    "temps = [12.5,13.6,15,9.6]\n",
    "converted_temps = convertDeg(temps)\n",
    "print(converted_temps)"
   ]
  },
  {
   "cell_type": "markdown",
   "id": "b8da4c13",
   "metadata": {},
   "source": [
    "As we can see a combination of map and lambda reduces the lines of codes to only 3 lines"
   ]
  },
  {
   "cell_type": "markdown",
   "id": "56e5da5e",
   "metadata": {},
   "source": [
    "### Filter without lambdas"
   ]
  },
  {
   "cell_type": "code",
   "execution_count": 10,
   "id": "866df944",
   "metadata": {},
   "outputs": [
    {
     "name": "stdout",
     "output_type": "stream",
     "text": [
      "[13.6, 15]\n"
     ]
    }
   ],
   "source": [
    "def filterTemps(C):\n",
    "    converted = (9/5)*C+32\n",
    "    return True if converted > 55 else False # use ternary operator\n",
    "temps = [12.5,13.6,15,9.6]\n",
    "filtered_temps = filter(filterTemps,temps) # returns filter object\n",
    "filtered_temps = list(filtered_temps) # convert filter object to a list\n",
    "print(filtered_temps)"
   ]
  },
  {
   "cell_type": "markdown",
   "id": "5f1e573f",
   "metadata": {},
   "source": [
    "### Filter with lambdas"
   ]
  },
  {
   "cell_type": "code",
   "execution_count": 11,
   "id": "57422ee0",
   "metadata": {},
   "outputs": [
    {
     "name": "stdout",
     "output_type": "stream",
     "text": [
      "[13.6, 15]\n"
     ]
    }
   ],
   "source": [
    "temps = [12.5,13.6,15,9.6]\n",
    "filtered_temps = list(filter(lambda C:True if (9/5)*C+32 > 55 else False,temps))\n",
    "print(filtered_temps)"
   ]
  },
  {
   "cell_type": "markdown",
   "id": "90d4df47",
   "metadata": {},
   "source": [
    "### Using reduce"
   ]
  },
  {
   "cell_type": "markdown",
   "id": "d71eb07f",
   "metadata": {},
   "source": [
    "reduce() accepts two arguements\n",
    "1. Function\n",
    "2. data collection\n",
    "\n",
    "unlike map and filter, reduce iterates two items instead of one .\n",
    "\n",
    "it returns results as a single result"
   ]
  },
  {
   "cell_type": "markdown",
   "id": "b539af98",
   "metadata": {},
   "source": [
    "#### Example"
   ]
  },
  {
   "cell_type": "code",
   "execution_count": 2,
   "id": "446a6e9e",
   "metadata": {},
   "outputs": [
    {
     "name": "stdout",
     "output_type": "stream",
     "text": [
      "15\n"
     ]
    }
   ],
   "source": [
    "from functools import reduce\n",
    "nums = [1,2,3,4,5]\n",
    "result = reduce(lambda a,b:a+b,nums) # iterates the nums list and condenses down to return a single value 15 which is simply the sum of all values in the list\n",
    "print(result)"
   ]
  },
  {
   "cell_type": "markdown",
   "id": "bce5dff1",
   "metadata": {},
   "source": [
    "## Exercise"
   ]
  },
  {
   "cell_type": "code",
   "execution_count": 5,
   "id": "4deca91a",
   "metadata": {},
   "outputs": [
    {
     "name": "stdout",
     "output_type": "stream",
     "text": [
      "['Ryan', 'Paul', 'Kevin Connors']\n"
     ]
    }
   ],
   "source": [
    "names = [\"ryan\",\"PAUL\",\"Kevin Connors\"]\n",
    "converted_names = list(map(lambda n: n.title(),names))\n",
    "print(converted_names)"
   ]
  },
  {
   "cell_type": "code",
   "execution_count": 6,
   "id": "24191a57",
   "metadata": {},
   "outputs": [
    {
     "name": "stdout",
     "output_type": "stream",
     "text": [
      "['Frank', 'Ripal']\n"
     ]
    }
   ],
   "source": [
    "names = [\"Amanda\",\"Frank\",\"abby\",\"Ripal\",\"Adam\"]\n",
    "filtered_names = list(filter(lambda i:True if \"r\" in i or \"R\" in i else False,names))\n",
    "print(filtered_names)"
   ]
  },
  {
   "cell_type": "markdown",
   "id": "8b5eea37",
   "metadata": {},
   "source": [
    "## Recursive Functions and Memoization"
   ]
  },
  {
   "cell_type": "markdown",
   "id": "8fbd30e9",
   "metadata": {},
   "source": [
    "### Recursion\n",
    "\n",
    "This is  a concept in programming where a function calls itself one or more times inside its blocks\n",
    "\n",
    "To understand this more we will do an example that calculates a **factorial of a number**"
   ]
  },
  {
   "cell_type": "code",
   "execution_count": 1,
   "id": "9bb26a80",
   "metadata": {},
   "outputs": [
    {
     "name": "stdout",
     "output_type": "stream",
     "text": [
      "Enter an interger to calculate its factorial\n",
      "5\n",
      "Factorial of 5 == [120]\n"
     ]
    }
   ],
   "source": [
    "def Factorial(n):\n",
    "    if n<=1:\n",
    "        return 1\n",
    "    else:\n",
    "        return Factorial(n-1)*n\n",
    "try:\n",
    "    n = int(input(\"Enter an interger to calculate its factorial\\n\"))\n",
    "    print(f\"Factorial of {n} == [{Factorial(n)}]\")\n",
    "except:\n",
    "    print(\"oops sorry...an error occured.try again later\")"
   ]
  },
  {
   "cell_type": "markdown",
   "id": "11ec405d",
   "metadata": {},
   "source": [
    "Another good example we can do is the **Fibonacci sequence**"
   ]
  },
  {
   "cell_type": "code",
   "execution_count": 6,
   "id": "970d1e3c",
   "metadata": {},
   "outputs": [
    {
     "name": "stdout",
     "output_type": "stream",
     "text": [
      "Enter an interger to calculate its fibonacci sequence\n",
      "20\n",
      "The fibonacci sequence of 20 == [6765]\n"
     ]
    }
   ],
   "source": [
    "def fib(n):\n",
    "    if n<=1:\n",
    "        return n\n",
    "    else:\n",
    "        return fib(n-1)+fib(n-2)\n",
    "try:\n",
    "    n = int(input(\"Enter an interger to calculate its fibonacci sequence\\n\"))\n",
    "    print(f\"The fibonacci sequence of {n} == [{fib(n)}]\")\n",
    "except:\n",
    "    print(f\"oops sorry an internal error occured...check your input {n} and try again\")"
   ]
  },
  {
   "cell_type": "markdown",
   "id": "0b832bf2",
   "metadata": {},
   "source": [
    "When we tried to run the above code with a larger number it took alot of time to execute. A solution to it is by using memoization\n",
    "\n",
    "This a technique in programing used to store the previously calculated values in a cache. also known as caching.\n",
    "\n",
    "In python dictionaries tend to be fast because of their uniqueness of using keys to retrieve or store data. So we will use dictionaries to store values"
   ]
  },
  {
   "cell_type": "code",
   "execution_count": 7,
   "id": "c039e2ed",
   "metadata": {},
   "outputs": [
    {
     "name": "stdout",
     "output_type": "stream",
     "text": [
      "Enter an interger to calculate its fibonacci sequence\n",
      "50\n",
      "The fibonacci sequence of 50 == [12586269025]\n"
     ]
    }
   ],
   "source": [
    "#First step : We have to create an empty dictionary that will be used to store values\n",
    "cache ={}\n",
    "def fib(n):\n",
    "    if n in cache: #scanning for n in the dictionary\n",
    "        return cache[n] # return the value of n from the dictionary\n",
    "    result = 0\n",
    "    if n<=1:\n",
    "        result = n\n",
    "    else:\n",
    "        result = fib(n-1)+fib(n-2)\n",
    "    cache[n] = result#save the result in the dictionary\n",
    "    return result\n",
    "try:\n",
    "    n = int(input(\"Enter an interger to calculate its fibonacci sequence\\n\"))\n",
    "    print(f\"The fibonacci sequence of {n} == [{fib(n)}]\")\n",
    "except:\n",
    "    print(f\"oops sorry an internal error occured...check your input {n} and try again\")"
   ]
  },
  {
   "cell_type": "markdown",
   "id": "50fad289",
   "metadata": {},
   "source": [
    "We realize that our program returned the results instantly....but this is not a perfect method as there is limitation to how much we can store in a single cache.\n",
    "\n",
    "So python provides an inbuilt function that performs exactly as our cache did. its known as **@lru_cache** that is imported from ***functools***. It's also known as **Least Recently used Cache**.\n",
    "\n",
    "lets see how it works in an example below"
   ]
  },
  {
   "cell_type": "code",
   "execution_count": 8,
   "id": "3980a5f0",
   "metadata": {},
   "outputs": [
    {
     "name": "stdout",
     "output_type": "stream",
     "text": [
      "Enter an interger to calculate its fibonacci sequence\n",
      "100\n",
      "The fibonacci sequence of 100 == [354224848179261915075]\n"
     ]
    }
   ],
   "source": [
    "from functools import lru_cache\n",
    "@lru_cache()\n",
    "def fib(n):\n",
    "    if n<=1:\n",
    "        return n\n",
    "    else:\n",
    "        return fib(n-1)+fib(n-2)\n",
    "try:\n",
    "    n = int(input(\"Enter an interger to calculate its fibonacci sequence\\n\"))\n",
    "    print(f\"The fibonacci sequence of {n} == [{fib(n)}]\")\n",
    "except:\n",
    "    print(f\"oops sorry an internal error occured...check your input {n} and try again\")"
   ]
  },
  {
   "cell_type": "markdown",
   "id": "5b61dd1f",
   "metadata": {},
   "source": [
    "## Exercise"
   ]
  },
  {
   "cell_type": "markdown",
   "id": "44c5618e",
   "metadata": {},
   "source": [
    "### 1. Factorial caching"
   ]
  },
  {
   "cell_type": "code",
   "execution_count": 2,
   "id": "426c1f5a",
   "metadata": {},
   "outputs": [
    {
     "name": "stdout",
     "output_type": "stream",
     "text": [
      "Factorial of 20 == [2432902008176640000]\n"
     ]
    }
   ],
   "source": [
    "from functools import lru_cache\n",
    "@lru_cache()\n",
    "def Factorial(n):\n",
    "    if n<=1:\n",
    "        return 1\n",
    "    else:\n",
    "        return Factorial(n-1)*n\n",
    "try:\n",
    "    n = int(input(\"Enter an interger to calculate its factorial\\n\"))\n",
    "    print(f\"Factorial of {n} == [{Factorial(n)}]\")\n",
    "except:\n",
    "    print(\"oops sorry...an error occured.try again later\")"
   ]
  },
  {
   "cell_type": "markdown",
   "id": "cf91e164",
   "metadata": {},
   "source": [
    "### 2. Searching data"
   ]
  },
  {
   "cell_type": "code",
   "execution_count": 11,
   "id": "872c04af",
   "metadata": {},
   "outputs": [
    {
     "name": "stdout",
     "output_type": "stream",
     "text": [
      "True\n",
      "False\n"
     ]
    }
   ],
   "source": [
    "def searchList(alist,x):\n",
    "    if x in alist:#Checking if the value being searched is in the outer list\n",
    "        return True\n",
    "    else:\n",
    "        for i in alist:#looping through the list\n",
    "            if type(i)==type(alist):#checking for possible lists in the list\n",
    "                return searchList(i,x)#looking for the values in the lists available\n",
    "    return False\n",
    "aList = [2,3,[18,22],6]\n",
    "print(searchList(aList,22))\n",
    "print(searchList(aList,20))"
   ]
  },
  {
   "cell_type": "code",
   "execution_count": 27,
   "id": "41bb14a4",
   "metadata": {},
   "outputs": [
    {
     "name": "stdout",
     "output_type": "stream",
     "text": [
      "[1, 1, 2, 6, 24, 120, 720, 5040, 40320, 362880]\n"
     ]
    }
   ],
   "source": [
    "def fact(n):\n",
    "    if n<=1:\n",
    "        return 1\n",
    "    else:\n",
    "        return fact(n-1)*n\n",
    "num = [x for x in range(10)]\n",
    "\n",
    "squared = list(map(fact,num))\n",
    "print(squared)"
   ]
  },
  {
   "cell_type": "markdown",
   "id": "fcd81e38",
   "metadata": {},
   "source": [
    "### Below are some recaps on lambda functions"
   ]
  },
  {
   "cell_type": "code",
   "execution_count": 28,
   "id": "95e756ed",
   "metadata": {},
   "outputs": [
    {
     "name": "stdout",
     "output_type": "stream",
     "text": [
      "240\n"
     ]
    }
   ],
   "source": [
    "# This code is used to get the volume of a cuboid\n",
    "volume = lambda l,w,h: l*w*h\n",
    "cuboid = volume(5,6,8)\n",
    "print(cuboid)"
   ]
  },
  {
   "cell_type": "code",
   "execution_count": 31,
   "id": "32a184b8",
   "metadata": {},
   "outputs": [
    {
     "name": "stdout",
     "output_type": "stream",
     "text": [
      "1540.0\n"
     ]
    }
   ],
   "source": [
    "#This code is used to get the volume of a cylinder\n",
    "cylinder = lambda r,h: (22/7)*h*r**2\n",
    "tin1 = cylinder(7,10)\n",
    "print(tin1)"
   ]
  },
  {
   "cell_type": "markdown",
   "id": "d37dfe0b",
   "metadata": {},
   "source": [
    "## Binary Search"
   ]
  },
  {
   "cell_type": "code",
   "execution_count": 5,
   "id": "ea9aeb7f",
   "metadata": {},
   "outputs": [
    {
     "name": "stdout",
     "output_type": "stream",
     "text": [
      "[0, 3, 4, 14, 14, 15, 17, 17, 18, 18]\n",
      "True\n"
     ]
    }
   ],
   "source": [
    "#Program setup\n",
    "# setup imports and generate a list of random numbers to work with\n",
    "import random\n",
    "#create a list of ten numbers between 0 and 20\n",
    "nums = [random.randint(0,20) for i in range(10)]\n",
    "def binarySearch(aList,num):\n",
    "    # step 1 sort the list\n",
    "    aList.sort()\n",
    "    while aList:#step 6\n",
    "        # step 2 find middle index\n",
    "        mid = len(aList)//2 # we use two slashes to mean floor division - round off to the nearest whole num\n",
    "        #check the value at the middle index\n",
    "        if aList[mid]==num:#step 3\n",
    "            return True\n",
    "        elif aList[mid]>num:#step 4\n",
    "            aList = aList[ : mid]#slicing the list\n",
    "        elif aList[mid]<num:#step 5\n",
    "            aList = aList[mid +1 :]\n",
    "    return False\n",
    "print(sorted(nums))\n",
    "print(binarySearch(nums,3))"
   ]
  },
  {
   "cell_type": "markdown",
   "id": "0ad76786",
   "metadata": {},
   "source": [
    "## Exercise\n",
    "\n",
    "Edit the above code to use recursive function instead of a while loop"
   ]
  },
  {
   "cell_type": "code",
   "execution_count": 6,
   "id": "89d2a52c",
   "metadata": {},
   "outputs": [
    {
     "data": {
      "text/plain": [
       "True"
      ]
     },
     "execution_count": 6,
     "metadata": {},
     "output_type": "execute_result"
    }
   ],
   "source": [
    "from random import randint\n",
    "\n",
    "def binarySearch(aList,value):\n",
    "    aList = list(map(str,aList)) # This function converts the values in the list to strings\n",
    "    value = str(value) # converting the value entered to a string\n",
    "    #sorting the list\n",
    "    aList.sort()\n",
    "    #finding the middle index\n",
    "    mid = len(aList)//2\n",
    "    #checking for value\n",
    "    if aList[mid]==value:\n",
    "        return True\n",
    "    #Recursion\n",
    "    return binarySearch(aList[:mid],value) if aList[mid]>value else binarySearch(aList[mid+1:],value)\n",
    "binarySearch(['a',22,'3','hello',1022,4,'e'],'hello')"
   ]
  },
  {
   "cell_type": "code",
   "execution_count": null,
   "id": "3232de29",
   "metadata": {},
   "outputs": [],
   "source": []
  }
 ],
 "metadata": {
  "kernelspec": {
   "display_name": "Python 3 (ipykernel)",
   "language": "python",
   "name": "python3"
  },
  "language_info": {
   "codemirror_mode": {
    "name": "ipython",
    "version": 3
   },
   "file_extension": ".py",
   "mimetype": "text/x-python",
   "name": "python",
   "nbconvert_exporter": "python",
   "pygments_lexer": "ipython3",
   "version": "3.10.9"
  }
 },
 "nbformat": 4,
 "nbformat_minor": 5
}
