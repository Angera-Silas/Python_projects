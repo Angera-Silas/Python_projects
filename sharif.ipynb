{
 "cells": [
  {
   "cell_type": "markdown",
   "id": "ee301c18",
   "metadata": {},
   "source": [
    "this are my projects"
   ]
  },
  {
   "cell_type": "code",
   "execution_count": 7,
   "id": "5c82576f",
   "metadata": {},
   "outputs": [
    {
     "name": "stdout",
     "output_type": "stream",
     "text": [
      "Congrats! You guessed it correctly.\n",
      "it took you 8 guesses!\n"
     ]
    }
   ],
   "source": [
    "# guessing game\n",
    "from random import randint\n",
    "from IPython.display import clear_output\n",
    "guessed = False\n",
    "number = randint(0,10)\n",
    "guesses = 0\n",
    "while not guessed:\n",
    "    ans = input(\"Try to guess the number I am thinking of!\")\n",
    "    # use tab twice to indent twice\n",
    "    guesses += 1\n",
    "    clear_output()\n",
    "    if int(ans) == number:\n",
    "        print(\"Congrats! You guessed it correctly.\")\n",
    "        # use tab twice to indent twice\n",
    "        print( \"it took you {} guesses!\".format(guesses))\n",
    "        break\n",
    "    elif int(ans)>number:\n",
    "        print(\"The number is lower than what you guessed\")\n",
    "    elif int(ans)<number:\n",
    "        print(\"The number is greater than what you guessed.\")"
   ]
  },
  {
   "cell_type": "code",
   "execution_count": null,
   "id": "b844e962",
   "metadata": {},
   "outputs": [],
   "source": []
  }
 ],
 "metadata": {
  "kernelspec": {
   "display_name": "Python 3 (ipykernel)",
   "language": "python",
   "name": "python3"
  },
  "language_info": {
   "codemirror_mode": {
    "name": "ipython",
    "version": 3
   },
   "file_extension": ".py",
   "mimetype": "text/x-python",
   "name": "python",
   "nbconvert_exporter": "python",
   "pygments_lexer": "ipython3",
   "version": "3.10.9"
  }
 },
 "nbformat": 4,
 "nbformat_minor": 5
}
