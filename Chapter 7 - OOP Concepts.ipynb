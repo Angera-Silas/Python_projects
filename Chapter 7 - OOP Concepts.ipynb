{
 "cells": [
  {
   "cell_type": "markdown",
   "id": "c484a915",
   "metadata": {},
   "source": [
    "# CHAPTER 7 : Object Oriented Programming With Python"
   ]
  },
  {
   "cell_type": "markdown",
   "id": "4595fcb0",
   "metadata": {},
   "source": [
    "## Creating and Instantiating a Class"
   ]
  },
  {
   "cell_type": "markdown",
   "id": "e7741b76",
   "metadata": {},
   "source": [
    "### OOP Stages"
   ]
  },
  {
   "cell_type": "markdown",
   "id": "d441b202",
   "metadata": {},
   "source": [
    "There are two main stages when using classes:   \n",
    "   #### 1. Class definition\n",
    "   The process of writting a blueprint to be used when its called.\n",
    "   #### 2. class instantiation.\n",
    "   The process of creating an object from the class definition.    After an object has been called its known as an Instance."
   ]
  },
  {
   "cell_type": "markdown",
   "id": "610e369d",
   "metadata": {},
   "source": [
    "### Creating a class"
   ]
  },
  {
   "cell_type": "markdown",
   "id": "0047d14c",
   "metadata": {},
   "source": [
    "1. Create a Class definition. i.e a keword class is used\n",
    "2. within the codeblock of this class we will write attributes and methods.\n",
    "\n",
    "#### Example\n",
    "class Car(): /*parens are optional here*/\n",
    "\n",
    "   pass/*attributes and methods are written here*/\n",
    "    \n",
    "ford=Car()/*creates an instance of the class Car and stores into the variable ford*/\n",
    "\n",
    "print(ford)\n",
    "\n",
    "3. We can also create multiple instances\n",
    "#### Example\n",
    "class Car():\n",
    "\n",
    "   pass\n",
    "   \n",
    "ford=Car()\n",
    "\n",
    "subaru = Car()\n",
    "\n",
    "mercedes= Car()\n",
    "\n",
    "print(hash(ford)) /*hash is used to output the numerical representation of the memory location for the variable*/\n",
    "\n",
    "print(hash(subaru))\n",
    "\n",
    "print(hash(mercedes))\n"
   ]
  },
  {
   "cell_type": "code",
   "execution_count": 2,
   "id": "0abf6f12",
   "metadata": {},
   "outputs": [
    {
     "name": "stdout",
     "output_type": "stream",
     "text": [
      "8746926940554\n",
      "8746926940359\n"
     ]
    }
   ],
   "source": [
    "#Lets make a class Animal and create two instances from it\n",
    "class Animals():\n",
    "    pass\n",
    "lion = Animals()\n",
    "tiger = Animals()\n",
    "print(hash(lion))\n",
    "print(hash(tiger))"
   ]
  },
  {
   "cell_type": "markdown",
   "id": "7501e1c9",
   "metadata": {},
   "source": [
    "## Attributes"
   ]
  },
  {
   "cell_type": "markdown",
   "id": "094c0aa4",
   "metadata": {},
   "source": [
    "1. These are variables defined within a class\n",
    "2. They define features of an object\n",
    "3. They can be accessed using a dot symbol i.e object.attribute"
   ]
  },
  {
   "cell_type": "markdown",
   "id": "18b4b446",
   "metadata": {},
   "source": [
    "### Declaring and Acessing Attributes"
   ]
  },
  {
   "cell_type": "code",
   "execution_count": 3,
   "id": "9e0abd74",
   "metadata": {},
   "outputs": [
    {
     "name": "stdout",
     "output_type": "stream",
     "text": [
      "red\n"
     ]
    }
   ],
   "source": [
    "class Car():\n",
    "    sound = \"beep\"#all car objects will have this attributes and its value\n",
    "    color = \"red\"# \"\"\n",
    "ford = Car()\n",
    "print(f\"Ford color is {ford.color}\")#accessing an attribute"
   ]
  },
  {
   "cell_type": "markdown",
   "id": "032c984f",
   "metadata": {},
   "source": [
    "### We can also change an instance attribute"
   ]
  },
  {
   "cell_type": "code",
   "execution_count": 4,
   "id": "cfa64ba0",
   "metadata": {},
   "outputs": [
    {
     "name": "stdout",
     "output_type": "stream",
     "text": [
      "originally the color is red\n",
      "After change the color is blue\n"
     ]
    }
   ],
   "source": [
    "class Car():\n",
    "    sound = \"beep\"#all car objects will have this attributes and its value\n",
    "    color = \"red\"# \"\"\n",
    "ford = Car()\n",
    "print(f\"originally the color is {ford.color}\")\n",
    "ford.color = \"blue\"#changing the color of the car\n",
    "print(f\"After change the color is {ford.color}\")"
   ]
  },
  {
   "cell_type": "markdown",
   "id": "092faa75",
   "metadata": {},
   "source": [
    "### Using the __init__() Method"
   ]
  },
  {
   "cell_type": "markdown",
   "id": "fe83d7bc",
   "metadata": {},
   "source": [
    "This method is used to instantiate objects with specific properties.\n",
    "\n",
    "This allows us to easily create class instances with personalized attributes\n",
    "\n",
    "This method has two underscores before and after the word init . It also includes the /*self*/ keyword.\n",
    "\n",
    "#### Example"
   ]
  },
  {
   "cell_type": "code",
   "execution_count": 5,
   "id": "34f1069f",
   "metadata": {},
   "outputs": [
    {
     "name": "stdout",
     "output_type": "stream",
     "text": [
      "blue\n",
      "beep\n"
     ]
    }
   ],
   "source": [
    "# using init method to give instances personalized attributes upon creation\n",
    "class Car():\n",
    "    def __init__(self,color,sound):\n",
    "        self.color=color#sets the attribute color to the value passed in\n",
    "        self.sound=sound#sets the attribute sound to the value passed in\n",
    "ford = Car(\"blue\",\"beep\")#instantiating a Car class with color blue and sound beep\n",
    "print(ford.color)\n",
    "print(ford.sound)"
   ]
  },
  {
   "cell_type": "markdown",
   "id": "21d67ef9",
   "metadata": {},
   "source": [
    "#### The self keyword is a reference to the current instance of the class and is used to acess the attributes and methods of the calss"
   ]
  },
  {
   "cell_type": "markdown",
   "id": "07d3c4b5",
   "metadata": {},
   "source": [
    "### We can also instantiate Multiple Objects With __init__()"
   ]
  },
  {
   "cell_type": "code",
   "execution_count": 7,
   "id": "c3f3a3c3",
   "metadata": {},
   "outputs": [
    {
     "name": "stdout",
     "output_type": "stream",
     "text": [
      "Green 2020\n",
      "Black 2023\n"
     ]
    }
   ],
   "source": [
    "class Car():\n",
    "    def __init__(self,color,year):\n",
    "        self.color=color\n",
    "        self.year=year\n",
    "ford = Car(\"Green\",2020)\n",
    "Range = Car(\"Black\",2023)\n",
    "print(ford.color,ford.year)\n",
    "print(Range.color,Range.year)"
   ]
  },
  {
   "cell_type": "markdown",
   "id": "aeb923a8",
   "metadata": {},
   "source": [
    "### Using and accessing global Class Attributes"
   ]
  },
  {
   "cell_type": "code",
   "execution_count": 9,
   "id": "8859c6da",
   "metadata": {},
   "outputs": [
    {
     "name": "stdout",
     "output_type": "stream",
     "text": [
      "beep\n",
      "beep blue\n"
     ]
    }
   ],
   "source": [
    "class Car():\n",
    "    sound = \"beep\"#global attribute - it comes before init() function - its accessible throughout the class\n",
    "    def __init__(self,color):\n",
    "        self.color=\"blue\" # instance specific attribute - it comes after the init() Method - not accessible throughout the class\n",
    "print(Car.sound) # one way of accessing global attribute\n",
    "\n",
    "ford=Car(\"blue\")\n",
    "print(ford.sound,ford.color)"
   ]
  },
  {
   "cell_type": "markdown",
   "id": "59da0374",
   "metadata": {},
   "source": [
    "### Exercising what we have learnt"
   ]
  },
  {
   "cell_type": "markdown",
   "id": "cd77c3fe",
   "metadata": {},
   "source": [
    "#### We are going to create a class Dog with 3 attributes ,one global and two local."
   ]
  },
  {
   "cell_type": "code",
   "execution_count": 10,
   "id": "e34d81c3",
   "metadata": {},
   "outputs": [
    {
     "name": "stdout",
     "output_type": "stream",
     "text": [
      "Canine Sammi Husky\n",
      "Canine Casey Chocolate Lab\n"
     ]
    }
   ],
   "source": [
    "class Dog():\n",
    "    species = \"Canine\"\n",
    "    def __init__(self,name,breed):\n",
    "        self.name = name\n",
    "        self.breed = breed\n",
    "dog1 = Dog(\"Sammi\",\"Husky\")\n",
    "dog2 = Dog(\"Casey\",\"Chocolate Lab\")\n",
    "print(dog1.species,dog1.name,dog1.breed)\n",
    "print(dog2.species,dog2.name,dog2.breed)"
   ]
  },
  {
   "cell_type": "markdown",
   "id": "43acf2f1",
   "metadata": {},
   "source": [
    "### Lets create a class to take information about a student\n",
    "#### Steps\n",
    "1. Create a class called student\n",
    "2. instantiate using the init() Method attributes like : name,age,gender,academic_level,regno, e.t.c\n",
    "3. take input from the user\n",
    "4. Display the data."
   ]
  },
  {
   "cell_type": "code",
   "execution_count": 12,
   "id": "a096ac97",
   "metadata": {},
   "outputs": [
    {
     "name": "stdout",
     "output_type": "stream",
     "text": [
      "Name\tSilas Angera\n",
      "Age\t22\n",
      "Gender\tMale\n",
      "Level\tUndergraduate\n",
      "Institution\tKabarak University\n",
      "Reg no\tBBIT/MG/2545/09/21\n"
     ]
    }
   ],
   "source": [
    "from IPython.display import clear_output\n",
    "class Student():\n",
    "    def __init__(self,name,age,gender,academic_level,school,regno):\n",
    "        self.name = name\n",
    "        self.age= age\n",
    "        self.gender = gender\n",
    "        self.academic_level= academic_level\n",
    "        self.school = school\n",
    "        self.regno = regno\n",
    "name = input(\"Enter your name : \")\n",
    "age = input(\"Whats your age ? : \")\n",
    "gender = input(\"Gender : \")\n",
    "academic_level=input(\"Whats your academic level? : \")\n",
    "school = input(\"Which institution are you enrolled? : \")\n",
    "regno=input(\"registration number\")\n",
    "\n",
    "stud1 = Student(name,age,gender,academic_level,school,regno)\n",
    "clear_output()\n",
    "print(f\"Name\\t{stud1.name}\\nAge\\t{stud1.age}\\nGender\\t{stud1.gender}\\nLevel\\t{stud1.academic_level}\\nInstitution\\t{school}\\nReg no\\t{regno}\")"
   ]
  },
  {
   "cell_type": "markdown",
   "id": "bd921fe2",
   "metadata": {},
   "source": [
    "## Methods"
   ]
  },
  {
   "cell_type": "markdown",
   "id": "98adf875",
   "metadata": {},
   "source": [
    "#### A method  \n",
    "is defined as a function within a class"
   ]
  },
  {
   "cell_type": "markdown",
   "id": "792d3abd",
   "metadata": {},
   "source": [
    "### Defining and calling a method    "
   ]
  },
  {
   "cell_type": "code",
   "execution_count": 1,
   "id": "c69a73cf",
   "metadata": {},
   "outputs": [
    {
     "name": "stdout",
     "output_type": "stream",
     "text": [
      "bark\n"
     ]
    }
   ],
   "source": [
    "class Dog():\n",
    "    def makeSound(self):\n",
    "        print(\"bark\")\n",
    "sam = Dog()\n",
    "sam.makeSound()"
   ]
  },
  {
   "cell_type": "markdown",
   "id": "e6b41fa1",
   "metadata": {},
   "source": [
    "#### we can also use methods with global attributes....Example "
   ]
  },
  {
   "cell_type": "code",
   "execution_count": 2,
   "id": "43bdd5b3",
   "metadata": {},
   "outputs": [
    {
     "name": "stdout",
     "output_type": "stream",
     "text": [
      "bark\n"
     ]
    }
   ],
   "source": [
    "class Dog():\n",
    "    sound = \"bark\"\n",
    "    def makeSound(self):\n",
    "        print(self.sound)\n",
    "sam = Dog()\n",
    "sam.makeSound()"
   ]
  },
  {
   "cell_type": "markdown",
   "id": "d079ab65",
   "metadata": {},
   "source": [
    "### Static methods"
   ]
  },
  {
   "cell_type": "markdown",
   "id": "40f0e525",
   "metadata": {},
   "source": [
    "These are methods accessible through the class itself rather than its instances"
   ]
  },
  {
   "cell_type": "code",
   "execution_count": 1,
   "id": "eeb6d02d",
   "metadata": {},
   "outputs": [
    {
     "name": "stdout",
     "output_type": "stream",
     "text": [
      "This is a dog\n",
      "bark\n"
     ]
    }
   ],
   "source": [
    "class Dog():\n",
    "    sound = \"bark\"\n",
    "    def makeSound(self):\n",
    "        print(self.sound)\n",
    "    def printInfo():#this is a static method because it lacks the self keyword\n",
    "        print(\"This is a dog\")\n",
    "Dog.printInfo()#Accessing a static method\n",
    "sam = Dog()\n",
    "sam.makeSound()#Making a class instance to call the function makeSound"
   ]
  },
  {
   "cell_type": "markdown",
   "id": "7f9fbd62",
   "metadata": {},
   "source": [
    "### Passing Arguments into Methods"
   ]
  },
  {
   "cell_type": "code",
   "execution_count": 5,
   "id": "68946562",
   "metadata": {},
   "outputs": [
    {
     "name": "stdout",
     "output_type": "stream",
     "text": [
      "Enter your name : Sharif Agoi\n",
      "Whats your age : 22\n",
      "Sharif Agoi\n",
      "22\n"
     ]
    }
   ],
   "source": [
    "class Worker():\n",
    "    def workerInfo(self,name,age):\n",
    "        print(f\"{name}\\n{age}\")\n",
    "sam = Worker()\n",
    "name = input(\"Enter your name : \")\n",
    "age = input(\"Whats your age : \")\n",
    "sam.workerInfo(name,age)"
   ]
  },
  {
   "cell_type": "markdown",
   "id": "8cfad449",
   "metadata": {},
   "source": [
    "#### Using Setters and Getters"
   ]
  },
  {
   "cell_type": "markdown",
   "id": "c9f81d63",
   "metadata": {},
   "source": [
    "###### setters\n",
    "methods set to re-declare attribute values\n",
    "##### getters\n",
    "Methods used to return attribute values"
   ]
  },
  {
   "cell_type": "code",
   "execution_count": 8,
   "id": "8e2af5ca",
   "metadata": {},
   "outputs": [
    {
     "name": "stdout",
     "output_type": "stream",
     "text": [
      "Whats your name.? : Angera\n",
      "Angera\n"
     ]
    }
   ],
   "source": [
    "class Worker():\n",
    "    name = ''\n",
    "    \n",
    "    def setName(self,new_name):#setter\n",
    "        self.name = new_name\n",
    "        \n",
    "    def getName(self):#getter\n",
    "        return self.name\n",
    "sam = Worker()\n",
    "myName = input(\"Whats your name.? : \")\n",
    "sam.setName(myName)\n",
    "print(sam.getName())"
   ]
  },
  {
   "cell_type": "markdown",
   "id": "bce7c90b",
   "metadata": {},
   "source": [
    "### Methods Calling Methods"
   ]
  },
  {
   "cell_type": "code",
   "execution_count": 31,
   "id": "41b81b3c",
   "metadata": {},
   "outputs": [
    {
     "name": "stdout",
     "output_type": "stream",
     "text": [
      "Enter your Mean grade : 80\n",
      "A\n"
     ]
    }
   ],
   "source": [
    "try:\n",
    "    class Student():\n",
    "        score = float(input(\"Enter your Mean grade : \"))#Taking the score from the user and converting it to a float\n",
    "        def getScore(self):\n",
    "            return self.score\n",
    "        def printInfo(self):\n",
    "            marks = self.getScore()#calling the method getScore inside printInfo method\n",
    "            if marks >=0 and marks<=100:\n",
    "                if marks>=70:\n",
    "                    print(\"A\")\n",
    "                elif marks>=60:\n",
    "                    print(\"B\")\n",
    "                elif marks>=50:\n",
    "                    print(\"C\")\n",
    "                elif marks>=40:\n",
    "                    print(\"D\")\n",
    "                else:\n",
    "                    print(\"F\")\n",
    "            else:\n",
    "                if marks>100:\n",
    "                    print(\"Above the maximum score of 100\")\n",
    "                else:\n",
    "                    print(\"No such marks.....seen\")\n",
    "    stud = Student()\n",
    "    stud.printInfo()#calling the printInfo method\n",
    "except:\n",
    "    print(\"An error occured...try again letter\")"
   ]
  },
  {
   "cell_type": "code",
   "execution_count": 48,
   "id": "871c065d",
   "metadata": {},
   "outputs": [
    {
     "name": "stdout",
     "output_type": "stream",
     "text": [
      "Enter the length of the rectangle3\n",
      "Enter the width of the rectangle4\n",
      "Area is [12.0]\n"
     ]
    }
   ],
   "source": [
    "class Area():\n",
    "    length = input(\"Enter the length of the rectangle\")\n",
    "    width=input(\"Enter the width of the rectangle\")\n",
    "    def getlength(self):\n",
    "        self.length = float(self.length)\n",
    "        return self.length\n",
    "    def getwidth(self):\n",
    "        self.width = float(self.width)\n",
    "        return self.width\n",
    "    def getArea(self):\n",
    "        return self.getlength()*self.getwidth()\n",
    "rect=Area()\n",
    "print(f\"Area is [{rect.getArea()}]\")"
   ]
  },
  {
   "cell_type": "code",
   "execution_count": 72,
   "id": "400439b1",
   "metadata": {},
   "outputs": [
    {
     "name": "stdout",
     "output_type": "stream",
     "text": [
      "Enter the radius : 10\n",
      "Enter the height : 20\n",
      "Surace area of the cylinder is [1571.4285714285713]\n",
      "Volume of the Cylinder is [6285.714285714285]\n"
     ]
    }
   ],
   "source": [
    "from IPython.display import clear_output\n",
    "try:\n",
    "    class Cylinder():\n",
    "        PI = 22/7\n",
    "        print(\"The calculator is used to calculate volume of a cylinder\")\n",
    "        radius = float(input(\"Enter the radius : \"))\n",
    "        height = float(input(\"Enter the height : \"))\n",
    "        clear_output()\n",
    "        def CrossectionalArea(self):\n",
    "            return self.PI*(self.radius**2)\n",
    "        def Curved(self):\n",
    "            return self.PI*self.radius*2*self.height\n",
    "        def SurfaceArea(self):\n",
    "            return self.CrossectionalArea()+self.Curved()\n",
    "        def Volume(self):\n",
    "            return self.height*self.CrossectionalArea()\n",
    "    vol = Cylinder()\n",
    "    print(f\"Surace area of the cylinder is [{vol.SurfaceArea()}]\")\n",
    "    print(f\"Volume of the Cylinder is [{vol.Volume()}]\")\n",
    "except:\n",
    "    print(\"Some technicalities Occured...Please try again\")"
   ]
  },
  {
   "cell_type": "markdown",
   "id": "669bc858",
   "metadata": {},
   "source": [
    "### Magic Methods"
   ]
  },
  {
   "cell_type": "markdown",
   "id": "0eec855a",
   "metadata": {},
   "source": [
    "These Methods have two underscores before and after their names.\n",
    "\n",
    "When we printing out anything you are using a magic method called __str__\n",
    "\n",
    "#### Example"
   ]
  },
  {
   "cell_type": "code",
   "execution_count": 1,
   "id": "04e01ee6",
   "metadata": {},
   "outputs": [
    {
     "name": "stdout",
     "output_type": "stream",
     "text": [
      "This is my personal class\n"
     ]
    }
   ],
   "source": [
    "class personalInfo():\n",
    "    def __str__(self):\n",
    "        return \"This is my personal class\"\n",
    "sam = personalInfo()\n",
    "print(sam)"
   ]
  },
  {
   "cell_type": "markdown",
   "id": "37344033",
   "metadata": {},
   "source": [
    "# Inheritance"
   ]
  },
  {
   "cell_type": "markdown",
   "id": "9dd3cade",
   "metadata": {},
   "source": [
    "It is a concept that allows classes to have code reusability within programming.\n",
    "\n",
    "Generally we create a superclass(parent class) and subclasses(child classes). Many subclasses can inherit from one parent class the attributes plus the methods.\n",
    "\n",
    "## Inheriting a class\n",
    "\n",
    "we need to put the name of the class we are inheriting between the parenthesis of the subclass. i.e if we are inheriting from class A(), in class B we write Class B(A):\n",
    "\n",
    "### Example"
   ]
  },
  {
   "cell_type": "code",
   "execution_count": 2,
   "id": "9c1a9d3d",
   "metadata": {},
   "outputs": [
    {
     "name": "stdout",
     "output_type": "stream",
     "text": [
      "Area is [3500.0]\n"
     ]
    }
   ],
   "source": [
    "try:\n",
    "    class A():#a super class that takes the length\n",
    "        length = float(input(\"Enter the length of the retangle\"))\n",
    "        def getl(self):\n",
    "            return self.length\n",
    "    class B():# Another superclass taking width\n",
    "        width = float(input(\"Enter the width of the rectangle\"))\n",
    "        def getw(self):\n",
    "            return self.width\n",
    "    class C(A,B):#A subclass C inheriting length from A and width from B\n",
    "        def getarea(self):\n",
    "            return self.getl()*self.getw()#Returning area as the final output\n",
    "    rectangle = C()\n",
    "    print(f\"Area is [{rectangle.getarea()}]\")\n",
    "except:\n",
    "    print(\"Oops an internal error occured....kindly try again later\")"
   ]
  },
  {
   "cell_type": "markdown",
   "id": "ff4b178a",
   "metadata": {},
   "source": [
    "## Using a super() Method\n",
    "The method is used to create foward compatibility when using inheritance.           \n",
    "When declaring attributes in the superclass, /*super*/ keyword is used to initialize its values. i.e super().__init__(attribute_name)       \n",
    "### Example"
   ]
  },
  {
   "cell_type": "code",
   "execution_count": 3,
   "id": "122aa193",
   "metadata": {},
   "outputs": [
    {
     "name": "stdout",
     "output_type": "stream",
     "text": [
      "Canine Sammi\n"
     ]
    }
   ],
   "source": [
    "class Animal():#A superclass\n",
    "    def __init__(self,species):\n",
    "        self.species = species\n",
    "class Dog(Animal):# A subclass inheriting from class Animal\n",
    "    def __init__(self, species,name):\n",
    "        self.name = name\n",
    "        super().__init__(species)#How to use the super method\n",
    "sam = Dog(\"Canine\",\"Sammi\")\n",
    "print(sam.species,sam.name)"
   ]
  },
  {
   "cell_type": "markdown",
   "id": "e398a057",
   "metadata": {},
   "source": [
    "The use of super here helps to reduce lines of code.    Once the super method is called our species attributes value is set to the arguement passed in, and now accessible to the subclass.         \n",
    "We can also at another example that demonstrates the use of super() method."
   ]
  },
  {
   "cell_type": "code",
   "execution_count": 9,
   "id": "d30ce98c",
   "metadata": {},
   "outputs": [
    {
     "name": "stdout",
     "output_type": "stream",
     "text": [
      "Area is [30000.0]\n"
     ]
    }
   ],
   "source": [
    "class Rectangle():\n",
    "    def __init__(self,length,width):\n",
    "        self.length = length\n",
    "        self.width = width\n",
    "class Area(Rectangle):\n",
    "    def __init__(self,length,width,area):\n",
    "        super().__init__(length,width)\n",
    "        self.area = self.length*self.width\n",
    "length = float(input(\"Whats the length : \"))\n",
    "width = float(input(\"Whats the width : \"))\n",
    "area=0#Let area be defined and be assigned 0 to be the place holder\n",
    "calc = Area(length,width,area)\n",
    "print(f\"Area is [{calc.area}]\")"
   ]
  },
  {
   "cell_type": "markdown",
   "id": "e548646f",
   "metadata": {},
   "source": [
    "## Types of Inheritance\n",
    "\n",
    "### 1. Single inheritance\n",
    "Type of inheritance where one class inherits another\n",
    "\n",
    "### 2. Multiple inheritance\n",
    "It is a type of inheritance where two or more base classes are inherited by only one derived class simulteneously\n",
    "\n",
    "### 3. Multilevel inheritance\n",
    "In this type of inheritance the first class is inherited by the second class,the second class inherited by third class, third class inherited by forth class and so on .    Each derived class is the base class for the next class.\n",
    "\n",
    "### 4. Hierarchical inherutance\n",
    "In this type of inheritance a single class is inherited by two or more than two derived classes simulteneously.\n",
    "\n",
    "### 5. Hybrid inheritance\n",
    "The combination of two or more than two types of inheritance.       \n",
    "example... a class D inherits from class C which also inherits base classes A and B."
   ]
  },
  {
   "cell_type": "markdown",
   "id": "5a57e850",
   "metadata": {},
   "source": [
    "## Data Abstraction"
   ]
  },
  {
   "cell_type": "markdown",
   "id": "39ece307",
   "metadata": {},
   "source": [
    "This simply means Data hiding. In other terms only essential data is shown to the user or outside the class and unessential data is hidden.\n",
    "\n",
    "To do this in python we just have to put double underscore(__) prefix with an attribute or a method.\n",
    "\n",
    "#### Example"
   ]
  },
  {
   "cell_type": "code",
   "execution_count": 17,
   "id": "f96bef83",
   "metadata": {},
   "outputs": [
    {
     "data": {
      "text/plain": [
       "100"
      ]
     },
     "execution_count": 17,
     "metadata": {},
     "output_type": "execute_result"
    }
   ],
   "source": [
    "class Addition():\n",
    "    __x=30\n",
    "    y=70\n",
    "    def myFunc1(self):\n",
    "        return(self.y+self.__x)\n",
    "obj = Addition()\n",
    "class Subtraction(Addition):\n",
    "    def myFunc2(self):\n",
    "        print(self.x-self.y)\n",
    "        self.myFunc1()\n",
    "obj1 = Addition()\n",
    "obj1.myFunc1()\n",
    "#obj2 = Subtraction()\n",
    "#obj2.myFunc2() when we run this program it tells us that our method has no attribute x because it is hidden\n",
    "        \n"
   ]
  },
  {
   "cell_type": "markdown",
   "id": "7a4ad7f8",
   "metadata": {},
   "source": [
    "## Method Overriding"
   ]
  },
  {
   "cell_type": "markdown",
   "id": "a51ba98d",
   "metadata": {},
   "source": [
    "Using a method that was defined in superclass to perform different actions in subclass.\n",
    "\n",
    "#### Example"
   ]
  },
  {
   "cell_type": "code",
   "execution_count": 1,
   "id": "01d04434",
   "metadata": {},
   "outputs": [
    {
     "name": "stdout",
     "output_type": "stream",
     "text": [
      "bark\n",
      "roar\n"
     ]
    }
   ],
   "source": [
    "class Animal():\n",
    "    def makesound(self):\n",
    "        print(\"roar\")\n",
    "class Dog(Animal):\n",
    "    def makesound(self):\n",
    "        print(\"bark\")\n",
    "sam,lion = Dog(),Animal()\n",
    "sam.makesound()\n",
    "lion.makesound()"
   ]
  },
  {
   "cell_type": "markdown",
   "id": "6fcc42e3",
   "metadata": {},
   "source": [
    "### Create, a superclass called /*Characters*/ that will be defined with the following attributes and methods:\n",
    "/*Attributes : name,team,height,weight*/            \n",
    "/*Methods : sayHello*/\n",
    "#### The sayHello method should output the statement:       \n",
    "\"/*Hello, my name is Max and i'm on the good guys*/\".The team should be declared to a string of either \"good\" or \"bad\"."
   ]
  },
  {
   "cell_type": "code",
   "execution_count": 2,
   "id": "bad1c553",
   "metadata": {},
   "outputs": [
    {
     "name": "stdout",
     "output_type": "stream",
     "text": [
      "Hello,my name is Max and I'm on the good guys\n",
      "Hello,my name is Tony and I'm on the bad guys\n"
     ]
    }
   ],
   "source": [
    "class Characters():\n",
    "    def __init__(self,name,team,height,weight):\n",
    "        self.name = name\n",
    "        self.team = team\n",
    "        self.height = height\n",
    "        self.weight=weight\n",
    "    def sayHello(self):\n",
    "        pass\n",
    "class GoodPlayers(Characters):\n",
    "    def __init__(self, name, team, height, weight):\n",
    "        super().__init__(name, team, height, weight)\n",
    "        self.team = \"good\"\n",
    "    def sayHello(self):\n",
    "        print(f\"Hello,my name is {self.name} and I'm on the {self.team} guys\")\n",
    "class BadPlayers(Characters):\n",
    "    def __init__(self, name, team, height, weight):\n",
    "        super().__init__(name, team, height, weight)\n",
    "        self.team = \"bad\"\n",
    "    def sayHello(self):\n",
    "        print(f\"Hello,my name is {self.name} and I'm on the {self.team} guys\")\n",
    "Max = GoodPlayers(\"Max\",\"\",\"6 feet\",\"70 kgs\")\n",
    "Max.sayHello()\n",
    "Tony = BadPlayers(\"Tony\",\"\",\"5.6 feet\",\"67 kgs\")\n",
    "Tony.sayHello()\n"
   ]
  },
  {
   "cell_type": "markdown",
   "id": "864c3bec",
   "metadata": {},
   "source": [
    "### Alternatively the code above can also be craeted as it is written below:"
   ]
  },
  {
   "cell_type": "code",
   "execution_count": 4,
   "id": "863b4cef",
   "metadata": {},
   "outputs": [
    {
     "name": "stdout",
     "output_type": "stream",
     "text": [
      "Hello,my name is Max and I'm on the good guys\n",
      "Hello,my name is Tony and I'm on the bad guys\n"
     ]
    }
   ],
   "source": [
    "class Characters():\n",
    "    def __init__(self,name,team,height,weight):\n",
    "        self.name = name\n",
    "        self.team = team\n",
    "        self.height = height\n",
    "        self.weight=weight\n",
    "    def sayHello(self):\n",
    "        print(f\"Hello,my name is {self.name} and I'm on the {self.team} guys\")\n",
    "        \n",
    "class GoodPlayers(Characters):\n",
    "    def __init__(self, name, height, weight):#Variable team is removed because it has replaced by a string\n",
    "        # we replace the super () method with the class name of the superclass\n",
    "        Characters.__init__(self,name, 'good', height, weight)#The variable team has been replaced by the string good \n",
    "        #The keyword self is used in the function above to initialize the variables like team which are ommitted.\n",
    "    def sayHello(self):\n",
    "        Characters.sayHello(self)#using a super class to call this super method.....This is known as method overriding\n",
    "        \n",
    "class BadPlayers(Characters):\n",
    "    def __init__(self, name, height, weight):\n",
    "        Characters.__init__(self,name, 'bad', height, weight)\n",
    "    def sayHello(self):\n",
    "        Characters.sayHello(self)\n",
    "#instantiating the classes with players one to each team\n",
    "#lets create an object Max for class GoodPlayers\n",
    "Max = GoodPlayers('Max',170,70)\n",
    "\n",
    "# also create an Object Tony for the class BadPlayers\n",
    "Tony = BadPlayers('Tony',168,78)\n",
    "#Now that we have created objects lets use the objects to call methods.\n",
    "Max.sayHello()\n",
    "Tony.sayHello()"
   ]
  },
  {
   "cell_type": "markdown",
   "id": "e4426e47",
   "metadata": {},
   "source": [
    "# Creating Blackjack"
   ]
  },
  {
   "cell_type": "markdown",
   "id": "ed98b58e",
   "metadata": {},
   "source": [
    "## Design\n",
    "We need to design our classes first as well. This will help us figure attributes and methods to be used.\n",
    "\n",
    "We will create two classes: \n",
    "1. Game itself\n",
    "2. Players - can be divided into two dealer and player classes, but in this program it will be combined.\n",
    "\n",
    "    ### 1. Game class\n",
    "    ####    Attributes\n",
    "    The following are variables we will use in the game     \n",
    "    1. deck - it will hold 52 cards to be used within the game\n",
    "    2. suites - we will use to create a deck - tuple of 4 suites\n",
    "    3. Values - used to create deck - tuple of all cards available\n",
    "\n",
    "    ####    Methods\n",
    "    Here are some methods(functions inside a class) to be used          \n",
    "    1. makeDeck() - creates new 52 card deck when called\n",
    "    2. pullCard()- pops random card from deck and returns it\n",
    "    \n",
    "    ### 2. Player class\n",
    "    #### Attributes\n",
    "    1. hand - stores cards within players hand\n",
    "    2. name - string variable that stores name of the player or dealer\n",
    "\n",
    "    #### Methods\n",
    "    1. callHand() - returns the calculated total points in hand\n",
    "    2. showHand() - prints out players hand in a nicely formatted statement\n",
    "    3. addCard() - takes in a card and adds it to the players hand\n",
    "## Steps\n",
    "1. Setting up imports\n",
    "2. Creating the game class\n",
    "        The values are stored in a tuple to ensure iteration is done smoothly without any modification\n",
    "3. Generating Deck\n",
    "        lets create a method that will generate a deck of 52 cards, each card should be a tuple with a value and suit\n",
    "4. Pulling a card from the Deck\n",
    "        we have set it so that it would pop up a random card from the deck it chooses randomly because we have passed through randint. we have subtracted 1 from the deck because indexing starts at 0\n",
    "5. Creating a player\n",
    "        \n",
    "6. Adding Cards to the Player's Hand\n",
    "        Lets create a method to add cards to player's hand by taking a tuple and append it to the hand.                 \n",
    "        Confirm by print(f\"Player Hand : {player.hand} \\nDealer Hand : {dealer.hand}\")\n",
    "7. Showing a Player's Hand\n",
    "        if not dealers turn then only show one of his cards, otherwise show all.\n",
    "8. Calculating the Hand total\n",
    "        We need to keep a few checks in mind:\n",
    "        1. Aces can be worth 11 or 1 point. They are worth 1 point if the total is over 21.\n",
    "        2. If the dealer is only showing one card, the value of his hands should only represent the value of that one vard even though he has two cards in his hands.\n",
    "        3. All face cards(J,Q,K) are worth 10 points.\n",
    "\n",
    "        So if not dealer's turn then only give back total of second \n",
    "9. Handling the Player's Turn\n",
    "10. Handling the Dealer's Turn\n",
    "11. Calculating the winner\n",
    "12. Final output"
   ]
  },
  {
   "cell_type": "code",
   "execution_count": 6,
   "id": "9f1446cb",
   "metadata": {},
   "outputs": [
    {
     "name": "stdout",
     "output_type": "stream",
     "text": [
      "\n",
      " Silas\n",
      "=============\n",
      "K of Diamonds\n",
      "Total = 20\n",
      "10 of Diamonds\n",
      "Total = 20\n",
      "\n",
      " Dealer\n",
      "=============\n",
      "Q of Diamonds\n",
      "Total = 21\n",
      "A of Diamonds\n",
      "Total = 21\n",
      "Dealer has higher cards, you lose!\n"
     ]
    },
    {
     "ename": "AttributeError",
     "evalue": "'Player' object has no attribute 'currency'",
     "output_type": "error",
     "traceback": [
      "\u001b[0;31m---------------------------------------------------------------------------\u001b[0m",
      "\u001b[0;31mAttributeError\u001b[0m                            Traceback (most recent call last)",
      "Cell \u001b[0;32mIn[6], line 133\u001b[0m\n\u001b[1;32m    131\u001b[0m \u001b[38;5;28;01melif\u001b[39;00m dealer\u001b[38;5;241m.\u001b[39mcalcHand(\u001b[38;5;28;01mFalse\u001b[39;00m) \u001b[38;5;241m>\u001b[39m player\u001b[38;5;241m.\u001b[39mcalcHand():\n\u001b[1;32m    132\u001b[0m     \u001b[38;5;28mprint\u001b[39m(\u001b[38;5;124m'\u001b[39m\u001b[38;5;124mDealer has higher cards, you lose!\u001b[39m\u001b[38;5;124m'\u001b[39m)\n\u001b[0;32m--> 133\u001b[0m     player\u001b[38;5;241m.\u001b[39mcurrency \u001b[38;5;241m=\u001b[39m \u001b[43mplayer\u001b[49m\u001b[38;5;241;43m.\u001b[39;49m\u001b[43mcurrency\u001b[49m \u001b[38;5;241m-\u001b[39m player\u001b[38;5;241m.\u001b[39mgiven_amount\n\u001b[1;32m    134\u001b[0m     player\u001b[38;5;241m.\u001b[39maddCurrency(given_amount,currency)\n\u001b[1;32m    135\u001b[0m \u001b[38;5;28;01melif\u001b[39;00m dealer\u001b[38;5;241m.\u001b[39mcalcHand(\u001b[38;5;28;01mFalse\u001b[39;00m) \u001b[38;5;241m<\u001b[39m player\u001b[38;5;241m.\u001b[39mcalcHand():\n",
      "\u001b[0;31mAttributeError\u001b[0m: 'Player' object has no attribute 'currency'"
     ]
    }
   ],
   "source": [
    "# importing important functions\n",
    "from IPython.display import clear_output\n",
    "from random import randint  # allows us to get a random number\n",
    "\n",
    "# Creating the blackjack class, which will hold all game methods and attributes\n",
    "\n",
    "\n",
    "class Blackjack():\n",
    "    def __init__(self):\n",
    "        self.deck = []  # set it to an empty deck\n",
    "        self.suits = (\"Spades\", \"Hearts\", \"Diamonds\", \"Clubs\")\n",
    "        self.values = (2, 3, 4, 5, 6, 7, 8, 9, 10, \"J\", \"Q\", \"K\", \"A\")\n",
    "\n",
    "    # lets create a method that will generate a deck\n",
    "    def makeDeck(self):\n",
    "        for suit in self.suits:\n",
    "            for value in self.values:\n",
    "                self.deck.append((value, suit))\n",
    "\n",
    "    # Now that we have creatd a deck ,lets create a method to pull/pop a card from the deck using random index value\n",
    "    def pullCard(self):\n",
    "        return self.deck.pop(randint(0, len(self.deck)-1))\n",
    "\n",
    "# create a class for the dealer and player\n",
    "\n",
    "\n",
    "class Player():\n",
    "    def __init__(self, name,currency):\n",
    "        self.name = name\n",
    "        self.currency = currency\n",
    "        self.hand = []\n",
    "    # Lets create a method to add cards to player's hand by taking a tuple and append it to the hand\n",
    "\n",
    "    def addCard(self, card):\n",
    "        self.hand.append(card)\n",
    "    # Showing a players Hand\n",
    "\n",
    "    def showHand(self, dealer_start=True):\n",
    "        print(f\"\\n {self.name}\")\n",
    "        print(\"=============\")\n",
    "        for i in range(len(self.hand)):\n",
    "            if self.name == \"Dealer\" and i == 0 and dealer_start:\n",
    "                print(\"_ of _\")  # hide first card\n",
    "            else:\n",
    "                card = self.hand[i]\n",
    "                print(f\"{card[0]} of {card[1]}\")\n",
    "            # calling the method below\n",
    "            print(f\"Total = {self.calcHand(dealer_start)}\")\n",
    "    # calculating the hand total\n",
    "\n",
    "    def calcHand(self, dealer_start = True):\n",
    "        total = 0  # counts the total number of cards\n",
    "        aces = 0  # counts number of aces\n",
    "        card_values = {1: 1, 2: 2, 3: 3, 4: 4, 5: 5, 6: 6, 7: 7, 8: 8, 9: 9, 10: 10, \"J\": 10,\"Q\": 10, \"K\": 10, \"A\": 11}  # A dictionary to store the points of each card\n",
    "        # checking to see if it is the dealer object that is calling the method\n",
    "        if self.name == \"Dealer\" and dealer_start:\n",
    "            card = self.hand[1]\n",
    "            # The item in card variable will be used as a key in card_values to give out the value held by that key\n",
    "            return card_values[card[0]]\n",
    "        for card in self.hand:  # looping over each card\n",
    "            if card[0] == \"A\":\n",
    "                aces += 1\n",
    "            else:\n",
    "                total += card_values[card[0]]\n",
    "        for i in range(aces):  # This will loop provided there are aces in the players hand\n",
    "            if total + 11 > 21:\n",
    "                total += 1\n",
    "            else:\n",
    "                total += 11\n",
    "        return total\n",
    "    def addCurrency(self):\n",
    "        return self.currency\n",
    "\n",
    "# creating main part that controls the program\n",
    "done = False\n",
    "trials = 0\n",
    "while not done:#This is to make the player play several times unless he/she optionally chooses to quit\n",
    "    play = input(\"1. Play\\n2. Quit\\n\").lower()\n",
    "    clear_output()\n",
    "    if play ==\"play\":\n",
    "        #Creating instances\n",
    "        game = Blackjack()\n",
    "        game.makeDeck()\n",
    "        name = input(\"What is your name? : \").title()\n",
    "        player = Player(name,currency)\n",
    "        dealer = Player(\"Dealer\")\n",
    "        \n",
    "        # introduce a for loop to solve the issue of list indexing\n",
    "        for i in range(2):\n",
    "            player.addCard(game.pullCard())\n",
    "            dealer.addCard(game.pullCard())\n",
    "        player.showHand()\n",
    "        dealer.showHand()\n",
    "        \n",
    "        #Handling players turn\n",
    "        player_bust = False\n",
    "        while input('Would you like to stay or hit?').lower() !='stay':\n",
    "            currency = float(input(\"How much do you bid? : \"))\n",
    "            clear_output()\n",
    "            player.addCard(game.pullCard())\n",
    "            player.showHand()\n",
    "            dealer.showHand()\n",
    "            if player.calcHand() > 21:\n",
    "                player_bust = True\n",
    "                print(\"You Lose!\")\n",
    "                break\n",
    "                \n",
    "        #Handling dealers turn\n",
    "        dealer_bust = False\n",
    "        if not player_bust:\n",
    "            while dealer.calcHand(False) < 17:\n",
    "                dealer.addCard(game.pullCard())\n",
    "                if dealer.calcHand(False) > 21:\n",
    "                    dealer_bust = True\n",
    "                    print(\"You win!\")\n",
    "                    break\n",
    "                    \n",
    "        #Calculating the winner\n",
    "        clear_output()\n",
    "        player.showHand()\n",
    "        dealer.showHand(False)\n",
    "        if player_bust:\n",
    "            print('You busted! Better luck next time')\n",
    "        elif dealer_bust:\n",
    "            print('The dealer busted, you win!')\n",
    "        elif dealer.calcHand(False) > player.calcHand():\n",
    "            print('Dealer has higher cards, you lose!')\n",
    "        elif dealer.calcHand(False) < player.calcHand():\n",
    "            print('You beat the dealer, congrats!')\n",
    "        else:\n",
    "            print('You pushed, No one wins!')\n",
    "    elif play==\"quit\":\n",
    "        break\n",
    "    else:\n",
    "        clear_output()\n",
    "        print(\"Kindly choose a correct option\")\n",
    "        trials=trials+1\n",
    "    if trials == 10:\n",
    "        clear_output()\n",
    "        print(\"Your number of trials have exhausted....please try again later\")\n",
    "        break\n",
    "print(\"\"\"Adding currency is still under development\\nGame provided to you by Prof Angera Silas\"\"\") "
   ]
  },
  {
   "cell_type": "code",
   "execution_count": null,
   "id": "f96c91b6",
   "metadata": {},
   "outputs": [],
   "source": []
  },
  {
   "cell_type": "code",
   "execution_count": null,
   "id": "296102a8",
   "metadata": {},
   "outputs": [],
   "source": []
  }
 ],
 "metadata": {
  "kernelspec": {
   "display_name": "Python 3 (ipykernel)",
   "language": "python",
   "name": "python3"
  },
  "language_info": {
   "codemirror_mode": {
    "name": "ipython",
    "version": 3
   },
   "file_extension": ".py",
   "mimetype": "text/x-python",
   "name": "python",
   "nbconvert_exporter": "python",
   "pygments_lexer": "ipython3",
   "version": "3.10.9"
  }
 },
 "nbformat": 4,
 "nbformat_minor": 5
}
