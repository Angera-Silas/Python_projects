{
 "cells": [
  {
   "attachments": {},
   "cell_type": "markdown",
   "metadata": {},
   "source": [
    "#Functions"
   ]
  },
  {
   "attachments": {},
   "cell_type": "markdown",
   "metadata": {},
   "source": [
    "all functions begin with a keywprd def followed by the function name then arguements\n",
    "i.e def add(args):"
   ]
  },
  {
   "cell_type": "code",
   "execution_count": 11,
   "metadata": {},
   "outputs": [
    {
     "name": "stdout",
     "output_type": "stream",
     "text": [
      "Adding as Integers\n",
      "400 + 500 = 900\n",
      "Adding as Float\n",
      "400.0 + 500.0 = 900.0\n",
      "Adding a strings\n",
      "400.0 + 500.0 = 400.0500.0\n"
     ]
    }
   ],
   "source": [
    "def add():\n",
    "    result = x+y\n",
    "    print(f\"{x} + {y} = {result}\")\n",
    "x=int(input(\"Enter any value\"))\n",
    "y=int(input(\"Enter the second value\"))\n",
    "print(\"Adding as Integers\")\n",
    "add()\n",
    "print(\"Adding as Float\")\n",
    "x= float(x)\n",
    "y= float(y)\n",
    "add()\n",
    "print(\"Adding a strings\")\n",
    "x=str(x)\n",
    "y=str(y)\n",
    "add()"
   ]
  },
  {
   "cell_type": "code",
   "execution_count": 12,
   "metadata": {},
   "outputs": [
    {
     "name": "stdout",
     "output_type": "stream",
     "text": [
      "Your name is Angera silas\n"
     ]
    }
   ],
   "source": [
    "def Printname(full_name):\n",
    "    print(\"Your name is {}\".format(full_name))\n",
    "Printname(\"Angera silas\")"
   ]
  },
  {
   "cell_type": "code",
   "execution_count": 31,
   "metadata": {},
   "outputs": [
    {
     "name": "stdout",
     "output_type": "stream",
     "text": [
      "|Number\t|Squares|Cubes  |\n",
      "_________________________\n",
      "|1\t|1\t|1\t|\n",
      "_________________________\n",
      "|2\t|4\t|8\t|\n",
      "_________________________\n",
      "|3\t|9\t|27\t|\n",
      "_________________________\n",
      "|5\t|25\t|125\t|\n",
      "_________________________\n",
      "|6\t|36\t|216\t|\n",
      "_________________________\n",
      "|7\t|49\t|343\t|\n",
      "_________________________\n",
      "|8\t|64\t|512\t|\n",
      "_________________________\n",
      "|9\t|81\t|729\t|\n",
      "_________________________\n",
      "|10\t|100\t|1000\t|\n",
      "_________________________\n",
      "|24\t|576\t|13824\t|\n",
      "_________________________\n",
      "|56\t|3136\t|175616\t|\n",
      "_________________________\n",
      "|78\t|6084\t|474552\t|\n",
      "_________________________\n"
     ]
    }
   ],
   "source": [
    "numerals = [2,3,6,8,10,24,56,78,1,3,9,5,6,7,8]\n",
    "numbers = []\n",
    "def Squares(nums):\n",
    "    for num in nums:\n",
    "        if num not in numbers:\n",
    "            numbers.append(num)\n",
    "    for n in numbers:\n",
    "        print(f\"|{n}\\t|{n**2}\\t|{n**3}\\t|\")\n",
    "        print(\"_\"*25)\n",
    "print(\"|Number\\t|Squares|Cubes  |\")\n",
    "print(\"_\"*25)\n",
    "Squares(sorted(numerals))"
   ]
  },
  {
   "cell_type": "code",
   "execution_count": 32,
   "metadata": {},
   "outputs": [
    {
     "name": "stdout",
     "output_type": "stream",
     "text": [
      "Enter the radius of the circle\n",
      "Area of the circle is : [314.2]\n"
     ]
    }
   ],
   "source": [
    "def Area(r,pi=3.142):\n",
    "    area = pi * (r**2)\n",
    "    print(f\"Area of the circle is : [{area}]\")\n",
    "radius = float(input(print(\"Enter the radius of the circle\")))\n",
    "Area(radius)"
   ]
  },
  {
   "attachments": {},
   "cell_type": "markdown",
   "metadata": {},
   "source": [
    "#Making a parameter optional"
   ]
  },
  {
   "cell_type": "code",
   "execution_count": 34,
   "metadata": {},
   "outputs": [
    {
     "name": "stdout",
     "output_type": "stream",
     "text": [
      "John Dere\n",
      "Silas Mukagati Angera\n"
     ]
    }
   ],
   "source": [
    "def PrintName(first,last,middle=\"\"):\n",
    "    if middle:\n",
    "        print(f\"{first} {middle} {last}\")\n",
    "    else:\n",
    "        print(f\"{first} {last}\")\n",
    "PrintName(\"John\",\"Dere\")\n",
    "PrintName(\"Silas\",\"Angera\",\"Mukagati\")"
   ]
  },
  {
   "cell_type": "code",
   "execution_count": 43,
   "metadata": {},
   "outputs": [
    {
     "name": "stdout",
     "output_type": "stream",
     "text": [
      "<class 'tuple'>\n",
      "5\n",
      "True\n",
      "jess\n",
      "<class 'dict'>\n",
      "Angera silas\n",
      "2545\n"
     ]
    }
   ],
   "source": [
    "def DisplayItems(name,*args):#*inserted before args is used to pass unlimitted number of variables to a function\n",
    "    print(type(args))\n",
    "    for arg in args:\n",
    "        print(arg)\n",
    "DisplayItems(\"silas angera\",5,True,\"jess\")\n",
    "def OuputData(**kwargs):\n",
    "    print(type(kwargs))\n",
    "    print(kwargs[\"name\"])\n",
    "    print(kwargs[\"num\"])\n",
    "OuputData(name = \"Angera silas\",num = 2545 ,b=True)"
   ]
  }
 ],
 "metadata": {
  "kernelspec": {
   "display_name": "base",
   "language": "python",
   "name": "python3"
  },
  "language_info": {
   "codemirror_mode": {
    "name": "ipython",
    "version": 3
   },
   "file_extension": ".py",
   "mimetype": "text/x-python",
   "name": "python",
   "nbconvert_exporter": "python",
   "pygments_lexer": "ipython3",
   "version": "3.10.9"
  },
  "orig_nbformat": 4
 },
 "nbformat": 4,
 "nbformat_minor": 2
}
