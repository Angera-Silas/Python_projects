{
 "cells": [
  {
   "cell_type": "markdown",
   "id": "64ab50cb",
   "metadata": {},
   "source": [
    "# Advanced Topics 1 : Efficiency"
   ]
  },
  {
   "cell_type": "markdown",
   "id": "1787862c",
   "metadata": {},
   "source": [
    "## List comprehension"
   ]
  },
  {
   "cell_type": "markdown",
   "id": "27861b76",
   "metadata": {},
   "source": [
    "#### Syntax\n",
    "\n",
    "*result* = [***transform*** ***iteration*** ***filter***]\n",
    "\n",
    "#### Example\n",
    "\n",
    "name = [item to append for item in list]\n",
    "\n",
    "#### with an if statement\n",
    "\n",
    "name = [item_to_append for item in list if condition]\n",
    "\n",
    "#### with if...else statements\n",
    "name = [item_to_append if condition else item_to_append for item in list]"
   ]
  },
  {
   "cell_type": "markdown",
   "id": "ba64d72b",
   "metadata": {},
   "source": [
    "### Generating a list of numbers"
   ]
  },
  {
   "cell_type": "code",
   "execution_count": 1,
   "id": "2fe87e61",
   "metadata": {},
   "outputs": [
    {
     "name": "stdout",
     "output_type": "stream",
     "text": [
      "[0, 1, 2, 3, 4, 5, 6, 7, 8, 9, 10, 11, 12, 13, 14, 15, 16, 17, 18, 19, 20, 21, 22, 23, 24, 25, 26, 27, 28, 29, 30, 31, 32, 33, 34, 35, 36, 37, 38, 39, 40, 41, 42, 43, 44, 45, 46, 47, 48, 49, 50, 51, 52, 53, 54, 55, 56, 57, 58, 59, 60, 61, 62, 63, 64, 65, 66, 67, 68, 69, 70, 71, 72, 73, 74, 75, 76, 77, 78, 79, 80, 81, 82, 83, 84, 85, 86, 87, 88, 89, 90, 91, 92, 93, 94, 95, 96, 97, 98, 99]\n"
     ]
    }
   ],
   "source": [
    "nums = [x for x in range(100)]\n",
    "print(nums)\n",
    "\n",
    "#This code works the same as :\n",
    "# nums = []\n",
    "#for x in range(100):\n",
    "#    nums.append(x)\n",
    "#print(nums)"
   ]
  },
  {
   "cell_type": "code",
   "execution_count": 4,
   "id": "8339514f",
   "metadata": {},
   "outputs": [
    {
     "name": "stdout",
     "output_type": "stream",
     "text": [
      "[2, 4, 6, 8, 10, 12, 14, 16, 18, 20, 22, 24, 26, 28, 30, 32, 34, 36, 38, 40, 42, 44, 46, 48, 50, 52, 54, 56, 58, 60, 62, 64, 66, 68, 70, 72, 74, 76, 78, 80, 82, 84, 86, 88, 90, 92, 94, 96, 98]\n"
     ]
    }
   ],
   "source": [
    "#even numbers between 0 and 100\n",
    "even_numbers = [even for even in range(2,100,2)]\n",
    "print(even_numbers)\n",
    "#This code works the same as :\n",
    "# nums = []\n",
    "#for x in range(2,100,2):\n",
    "#    nums.append(x)\n",
    "#print(nums)"
   ]
  },
  {
   "cell_type": "markdown",
   "id": "9aa35af8",
   "metadata": {},
   "source": [
    "### If Statements"
   ]
  },
  {
   "cell_type": "code",
   "execution_count": 5,
   "id": "cc87e7a0",
   "metadata": {},
   "outputs": [
    {
     "name": "stdout",
     "output_type": "stream",
     "text": [
      "[1, 3, 5, 7, 9, 11, 13, 15, 17, 19, 21, 23, 25, 27, 29, 31, 33, 35, 37, 39, 41, 43, 45, 47, 49, 51, 53, 55, 57, 59, 61, 63, 65, 67, 69, 71, 73, 75, 77, 79, 81, 83, 85, 87, 89, 91, 93, 95, 97, 99]\n"
     ]
    }
   ],
   "source": [
    "odd_numbers = [x for x in range(100) if x%2 != 0]\n",
    "print(odd_numbers)"
   ]
  },
  {
   "cell_type": "markdown",
   "id": "1069c78f",
   "metadata": {},
   "source": [
    "### If-Else statements"
   ]
  },
  {
   "cell_type": "code",
   "execution_count": 9,
   "id": "b7f20b38",
   "metadata": {},
   "outputs": [
    {
     "name": "stdout",
     "output_type": "stream",
     "text": [
      "['Odd', 'Even', 'Odd', 'Even', 'Odd', 'Even', 'Odd', 'Even', 'Odd']\n"
     ]
    }
   ],
   "source": [
    "nums = [\"Even\" if x%2==0 else \"Odd\" for x in range(1,10)]\n",
    "print(nums)\n",
    "#This code works the same as :\n",
    "# nums = []\n",
    "#for x in range(100):\n",
    "#    if x%2==0:\n",
    "#        nums.append(\"Even\")\n",
    "#    else:\n",
    "#        nums.append(\"Odd\")\n",
    "#print(nums)"
   ]
  },
  {
   "cell_type": "markdown",
   "id": "59d791ba",
   "metadata": {},
   "source": [
    "## List Comprehension with Variables"
   ]
  },
  {
   "cell_type": "markdown",
   "id": "6d40beed",
   "metadata": {},
   "source": [
    "Lets take a list of numbers and generate a seperate list  of those numbers squared"
   ]
  },
  {
   "cell_type": "code",
   "execution_count": 12,
   "id": "af9d0888",
   "metadata": {},
   "outputs": [
    {
     "name": "stdout",
     "output_type": "stream",
     "text": [
      "[4, 16, 36, 64]\n",
      "[8, 64, 216, 512]\n"
     ]
    }
   ],
   "source": [
    "nums = [2,4,6,8]\n",
    "squared_nums = [num**2 for num in nums]\n",
    "cubed_nums = [n**3 for n in nums]\n",
    "print(squared_nums)\n",
    "print(cubed_nums)"
   ]
  },
  {
   "cell_type": "markdown",
   "id": "1ce9433c",
   "metadata": {},
   "source": [
    "## Dictionary Comprehension"
   ]
  },
  {
   "cell_type": "code",
   "execution_count": 6,
   "id": "deb7e50f",
   "metadata": {},
   "outputs": [
    {
     "name": "stdout",
     "output_type": "stream",
     "text": [
      "Cubes of even numbers\n",
      "{2: 8, 4: 64, 6: 216, 8: 512, 10: 1000, 12: 1728, 14: 2744, 16: 4096, 18: 5832}\n",
      "Square of odd numbers\n",
      "{1: 1, 3: 9, 5: 25, 7: 49, 9: 81, 11: 121, 13: 169, 15: 225, 17: 289, 19: 361}\n"
     ]
    }
   ],
   "source": [
    "# creating a dictionary of even number and cube valus using comprehension\n",
    "numbers = [x for x in range(1,20)]#lets take values between 0 and 20\n",
    "cubes = {num: num**3 for num in numbers if num%2==0}\n",
    "print(f\"Cubes of even numbers\\n{cubes}\")\n",
    "squares = {num:num**2 for num in numbers if num%2!=0}\n",
    "print(f\"Square of odd numbers\\n{squares}\")\n"
   ]
  },
  {
   "cell_type": "code",
   "execution_count": 10,
   "id": "308aa686",
   "metadata": {},
   "outputs": [
    {
     "ename": "NameError",
     "evalue": "name 'value' is not defined",
     "output_type": "error",
     "traceback": [
      "\u001b[0;31m---------------------------------------------------------------------------\u001b[0m",
      "\u001b[0;31mNameError\u001b[0m                                 Traceback (most recent call last)",
      "Cell \u001b[0;32mIn[10], line 4\u001b[0m\n\u001b[1;32m      2\u001b[0m Fahrenheit \u001b[38;5;241m=\u001b[39m {num: (num\u001b[38;5;241m*\u001b[39m(\u001b[38;5;241m9\u001b[39m\u001b[38;5;241m/\u001b[39m\u001b[38;5;241m5\u001b[39m)\u001b[38;5;241m+\u001b[39m\u001b[38;5;241m32\u001b[39m) \u001b[38;5;28;01mfor\u001b[39;00m num \u001b[38;5;129;01min\u001b[39;00m celcius}\n\u001b[1;32m      3\u001b[0m \u001b[38;5;28;01mfor\u001b[39;00m key,values \u001b[38;5;129;01min\u001b[39;00m Fahrenheit\u001b[38;5;241m.\u001b[39mitems():\n\u001b[0;32m----> 4\u001b[0m     \u001b[38;5;28mprint\u001b[39m(\u001b[38;5;124mf\u001b[39m\u001b[38;5;124m\"\u001b[39m\u001b[38;5;132;01m{\u001b[39;00mkey\u001b[38;5;132;01m}\u001b[39;00m\u001b[38;5;130;01m\\t\u001b[39;00m\u001b[38;5;132;01m{\u001b[39;00mvalue\u001b[38;5;132;01m}\u001b[39;00m\u001b[38;5;124m\"\u001b[39m)\n",
      "\u001b[0;31mNameError\u001b[0m: name 'value' is not defined"
     ]
    }
   ],
   "source": [
    "celcius = [12,21,15,32]\n",
    "Fahrenheit = {num: (num*(9/5)+32) for num in celcius}\n",
    "print(Fahrenheit)"
   ]
  },
  {
   "cell_type": "markdown",
   "id": "85c1e0cf",
   "metadata": {},
   "source": [
    "### A program to check the numbers divisible by an integer entered by the user between the interger entered and 100"
   ]
  },
  {
   "cell_type": "code",
   "execution_count": 22,
   "id": "8382bd06",
   "metadata": {},
   "outputs": [
    {
     "name": "stdout",
     "output_type": "stream",
     "text": [
      "Enter any number between 1 and 10025\n",
      "[25, 50, 75, 100]\n"
     ]
    }
   ],
   "source": [
    "try:\n",
    "    number = int(input(\"Enter any number between 1 and 100\"))\n",
    "    divisibles = [x for x in range(number,(100)+1) if x%number==0]\n",
    "    print(divisibles)\n",
    "except:\n",
    "    print(\"Error encountered ....check the value you entered and try again\")"
   ]
  },
  {
   "cell_type": "markdown",
   "id": "3bf906d4",
   "metadata": {},
   "source": [
    "## Lambda Functions"
   ]
  },
  {
   "cell_type": "markdown",
   "id": "d15e4c8f",
   "metadata": {},
   "source": [
    "### Examples"
   ]
  },
  {
   "cell_type": "code",
   "execution_count": 23,
   "id": "eebec22b",
   "metadata": {},
   "outputs": [
    {
     "data": {
      "text/plain": [
       "50"
      ]
     },
     "execution_count": 23,
     "metadata": {},
     "output_type": "execute_result"
    }
   ],
   "source": [
    "(lambda x,y:x*y)(10,5)"
   ]
  },
  {
   "cell_type": "markdown",
   "id": "bdb1925e",
   "metadata": {},
   "source": [
    "#### Saving a lambda function in a variable"
   ]
  },
  {
   "cell_type": "code",
   "execution_count": 3,
   "id": "b0054aab",
   "metadata": {},
   "outputs": [
    {
     "name": "stdout",
     "output_type": "stream",
     "text": [
      "8727924132753\n",
      "50\n"
     ]
    }
   ],
   "source": [
    "square = lambda x,y:x*y\n",
    "print(hash(square))\n",
    "result = square(10,5)#calling the lambda function stored in the square variable and returns 5*10\n",
    "print(result)"
   ]
  },
  {
   "cell_type": "markdown",
   "id": "167c978b",
   "metadata": {},
   "source": [
    "#### Conditional statements"
   ]
  },
  {
   "cell_type": "markdown",
   "id": "15624748",
   "metadata": {},
   "source": [
    "using if/else statements within a lambda to return the greater number"
   ]
  },
  {
   "cell_type": "code",
   "execution_count": 2,
   "id": "4b50d826",
   "metadata": {},
   "outputs": [
    {
     "name": "stdout",
     "output_type": "stream",
     "text": [
      "30\n"
     ]
    }
   ],
   "source": [
    "greater = lambda x,y : x if x>y else y\n",
    "result = greater(10,30)\n",
    "print(result)"
   ]
  },
  {
   "cell_type": "markdown",
   "id": "53ccdcd9",
   "metadata": {},
   "source": [
    "### Returning a lambda"
   ]
  },
  {
   "cell_type": "code",
   "execution_count": 2,
   "id": "ab89ab22",
   "metadata": {},
   "outputs": [
    {
     "name": "stdout",
     "output_type": "stream",
     "text": [
      "25\n",
      "125\n"
     ]
    }
   ],
   "source": [
    "def myfunction(n):\n",
    "    return lambda x: x**n\n",
    "square = myfunction(2)\n",
    "print(square(5))\n",
    "cube = myfunction(3)\n",
    "print(cube(5))"
   ]
  },
  {
   "cell_type": "code",
   "execution_count": 4,
   "id": "1a82cd0c",
   "metadata": {},
   "outputs": [
    {
     "name": "stdout",
     "output_type": "stream",
     "text": [
      "True\n",
      "False\n"
     ]
    }
   ],
   "source": [
    "number=lambda x:True if x>50 else False\n",
    "test1 = number(65)\n",
    "print(test1)\n",
    "test2 = number(45)\n",
    "print(test2)"
   ]
  },
  {
   "cell_type": "code",
   "execution_count": 5,
   "id": "4ede95f1",
   "metadata": {},
   "outputs": [
    {
     "name": "stdout",
     "output_type": "stream",
     "text": [
      "53.6\n"
     ]
    }
   ],
   "source": [
    "fah = lambda C:((9/5)*C)+32\n",
    "result = fah(12)\n",
    "print(result)"
   ]
  },
  {
   "cell_type": "code",
   "execution_count": null,
   "id": "5a7d8071",
   "metadata": {},
   "outputs": [],
   "source": []
  }
 ],
 "metadata": {
  "kernelspec": {
   "display_name": "Python 3 (ipykernel)",
   "language": "python",
   "name": "python3"
  },
  "language_info": {
   "codemirror_mode": {
    "name": "ipython",
    "version": 3
   },
   "file_extension": ".py",
   "mimetype": "text/x-python",
   "name": "python",
   "nbconvert_exporter": "python",
   "pygments_lexer": "ipython3",
   "version": "3.10.9"
  }
 },
 "nbformat": 4,
 "nbformat_minor": 5
}
